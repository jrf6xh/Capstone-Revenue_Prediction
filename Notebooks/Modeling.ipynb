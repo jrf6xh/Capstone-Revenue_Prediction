{
 "cells": [
  {
   "cell_type": "markdown",
   "metadata": {},
   "source": [
    "# Modeling Notebook"
   ]
  },
  {
   "cell_type": "markdown",
   "metadata": {},
   "source": [
    "This notebook goes through the stages of modeling before landing on the final Random Forest model used to predict revenue for visits to Google's online store.\n",
    "\n",
    "**Sections:**\n",
    "* Importing Data\n",
    "* Baseline KNN Model\n",
    "* Tuned KNN Models\n",
    "* Baseline Decision Tree Model\n",
    "* Random Forest Models\n",
    "* Feature Engineering\n",
    "* Final Model & Evaluation"
   ]
  },
  {
   "cell_type": "markdown",
   "metadata": {},
   "source": [
    "# Import Data"
   ]
  },
  {
   "cell_type": "code",
   "execution_count": 3,
   "metadata": {},
   "outputs": [],
   "source": [
    "import pandas as pd\n",
    "import matplotlib.pyplot as plt\n",
    "import seaborn as sns\n",
    "from sklearn.model_selection import train_test_split, GridSearchCV, RandomizedSearchCV\n",
    "from sklearn.preprocessing import StandardScaler\n",
    "from sklearn.decomposition import PCA\n",
    "from sklearn.pipeline import Pipeline\n",
    "from sklearn.neighbors import KNeighborsRegressor\n",
    "from sklearn.metrics import r2_score, make_scorer\n",
    "from sklearn.tree import DecisionTreeRegressor\n",
    "from sklearn.ensemble import RandomForestRegressor\n",
    "from joblib import dump, load\n",
    "from tqdm import tqdm\n",
    "from sklearn.cluster import KMeans\n",
    "from sklearn.metrics import silhouette_score, silhouette_samples\n",
    "import warnings\n",
    "from sklearn.metrics import calinski_harabasz_score\n",
    "import numpy as np\n",
    "\n",
    "warnings.filterwarnings(\"ignore\", category=DeprecationWarning)"
   ]
  },
  {
   "cell_type": "markdown",
   "metadata": {},
   "source": [
    "Import preprocessed data."
   ]
  },
  {
   "cell_type": "code",
   "execution_count": 153,
   "metadata": {},
   "outputs": [
    {
     "name": "stdout",
     "output_type": "stream",
     "text": [
      "<class 'pandas.core.frame.DataFrame'>\n",
      "RangeIndex: 717217 entries, 0 to 717216\n",
      "Data columns (total 30 columns):\n",
      " #   Column                                        Non-Null Count   Dtype  \n",
      "---  ------                                        --------------   -----  \n",
      " 0   channelGrouping                               717217 non-null  object \n",
      " 1   date                                          717217 non-null  object \n",
      " 2   device_browser                                717217 non-null  object \n",
      " 3   device_deviceCategory                         717217 non-null  object \n",
      " 4   device_isMobile                               717217 non-null  bool   \n",
      " 5   device_operatingSystem                        717217 non-null  object \n",
      " 6   fullVisitorId                                 717217 non-null  object \n",
      " 7   totals_hits                                   717217 non-null  int64  \n",
      " 8   totals_pageviews                              717217 non-null  float64\n",
      " 9   totals_sessionQualityDim                      717217 non-null  float64\n",
      " 10  totals_timeOnSite                             717217 non-null  float64\n",
      " 11  totals_totalTransactionRevenue                717217 non-null  float64\n",
      " 12  totals_transactionRevenue                     717217 non-null  float64\n",
      " 13  totals_transactions                           717217 non-null  float64\n",
      " 14  trafficSource_adContent                       717217 non-null  object \n",
      " 15  trafficSource_adwordsClickInfo.adNetworkType  717217 non-null  object \n",
      " 16  trafficSource_adwordsClickInfo.page           717217 non-null  float64\n",
      " 17  trafficSource_adwordsClickInfo.slot           717217 non-null  object \n",
      " 18  trafficSource_campaign                        717217 non-null  object \n",
      " 19  trafficSource_keyword                         717217 non-null  object \n",
      " 20  trafficSource_medium                          717217 non-null  object \n",
      " 21  trafficSource_referralPath                    717217 non-null  object \n",
      " 22  trafficSource_source                          717217 non-null  object \n",
      " 23  visitId                                       717217 non-null  int64  \n",
      " 24  visitNumber                                   717217 non-null  int64  \n",
      " 25  time                                          717217 non-null  object \n",
      " 26  time_of_day                                   717217 non-null  object \n",
      " 27  purchase                                      717217 non-null  bool   \n",
      " 28  revenue_usd                                   717217 non-null  float64\n",
      " 29  total_revenue_usd                             717217 non-null  float64\n",
      "dtypes: bool(2), float64(9), int64(3), object(16)\n",
      "memory usage: 154.6+ MB\n"
     ]
    }
   ],
   "source": [
    "df = pd.read_csv('../Data/final_data.csv', dtype={'fullVisitorId': 'str'})\n",
    "df.drop('Unnamed: 0', axis=1, inplace=True)\n",
    "df.info()"
   ]
  },
  {
   "cell_type": "markdown",
   "metadata": {},
   "source": [
    "Drop features that do not have predictive capabilities, are duplicates of revenue, or are otherwise unsuitable for regression modeling."
   ]
  },
  {
   "cell_type": "code",
   "execution_count": 2,
   "metadata": {},
   "outputs": [
    {
     "name": "stdout",
     "output_type": "stream",
     "text": [
      "<class 'pandas.core.frame.DataFrame'>\n",
      "RangeIndex: 717217 entries, 0 to 717216\n",
      "Data columns (total 21 columns):\n",
      " #   Column                                        Non-Null Count   Dtype  \n",
      "---  ------                                        --------------   -----  \n",
      " 0   channelGrouping                               717217 non-null  object \n",
      " 1   device_browser                                717217 non-null  object \n",
      " 2   device_deviceCategory                         717217 non-null  object \n",
      " 3   device_isMobile                               717217 non-null  bool   \n",
      " 4   device_operatingSystem                        717217 non-null  object \n",
      " 5   totals_hits                                   717217 non-null  int64  \n",
      " 6   totals_pageviews                              717217 non-null  float64\n",
      " 7   totals_sessionQualityDim                      717217 non-null  float64\n",
      " 8   totals_timeOnSite                             717217 non-null  float64\n",
      " 9   trafficSource_adContent                       717217 non-null  object \n",
      " 10  trafficSource_adwordsClickInfo.adNetworkType  717217 non-null  object \n",
      " 11  trafficSource_adwordsClickInfo.page           717217 non-null  float64\n",
      " 12  trafficSource_adwordsClickInfo.slot           717217 non-null  object \n",
      " 13  trafficSource_campaign                        717217 non-null  object \n",
      " 14  trafficSource_keyword                         717217 non-null  object \n",
      " 15  trafficSource_medium                          717217 non-null  object \n",
      " 16  trafficSource_referralPath                    717217 non-null  object \n",
      " 17  trafficSource_source                          717217 non-null  object \n",
      " 18  visitNumber                                   717217 non-null  int64  \n",
      " 19  time_of_day                                   717217 non-null  object \n",
      " 20  revenue_usd                                   717217 non-null  float64\n",
      "dtypes: bool(1), float64(5), int64(2), object(13)\n",
      "memory usage: 110.1+ MB\n"
     ]
    }
   ],
   "source": [
    "# Filter df for modeling\n",
    "dfm = df.copy()\n",
    "dfm.drop(['time', 'totals_totalTransactionRevenue', 'totals_transactionRevenue', 'date', 'fullVisitorId', 'visitId', 'total_revenue_usd', 'totals_transactions', 'purchase'], axis=1, inplace=True)"
   ]
  },
  {
   "cell_type": "markdown",
   "metadata": {},
   "source": [
    "# Modeling"
   ]
  },
  {
   "cell_type": "markdown",
   "metadata": {},
   "source": [
    "Now we begin the modeling stage."
   ]
  },
  {
   "cell_type": "markdown",
   "metadata": {},
   "source": [
    "# Train Test Split"
   ]
  },
  {
   "cell_type": "markdown",
   "metadata": {},
   "source": [
    "Split the data into dependent and independent variables for modeling.  Then split into train and test sets.  All model tuning will be done using cross validation on the training data.  The test data will be used only to test the results of the final model."
   ]
  },
  {
   "cell_type": "code",
   "execution_count": 4,
   "metadata": {},
   "outputs": [],
   "source": [
    "X = dfm.drop('revenue_usd', axis=1)\n",
    "Y = dfm['revenue_usd']"
   ]
  },
  {
   "cell_type": "code",
   "execution_count": 5,
   "metadata": {},
   "outputs": [],
   "source": [
    "X_train, X_test, y_train, y_test = train_test_split(X, Y, test_size=0.2, random_state=70)"
   ]
  },
  {
   "cell_type": "markdown",
   "metadata": {},
   "source": [
    "Creating dummy variables with get_dummies.  get_dummies does not drop any categorical columns.  This is not a problem for KNN Regressor, but would need to be updated for models like linear regression."
   ]
  },
  {
   "cell_type": "code",
   "execution_count": 6,
   "metadata": {},
   "outputs": [
    {
     "data": {
      "text/html": [
       "<div>\n",
       "<style scoped>\n",
       "    .dataframe tbody tr th:only-of-type {\n",
       "        vertical-align: middle;\n",
       "    }\n",
       "\n",
       "    .dataframe tbody tr th {\n",
       "        vertical-align: top;\n",
       "    }\n",
       "\n",
       "    .dataframe thead th {\n",
       "        text-align: right;\n",
       "    }\n",
       "</style>\n",
       "<table border=\"1\" class=\"dataframe\">\n",
       "  <thead>\n",
       "    <tr style=\"text-align: right;\">\n",
       "      <th></th>\n",
       "      <th>device_isMobile</th>\n",
       "      <th>totals_hits</th>\n",
       "      <th>totals_pageviews</th>\n",
       "      <th>totals_sessionQualityDim</th>\n",
       "      <th>totals_timeOnSite</th>\n",
       "      <th>trafficSource_adwordsClickInfo.page</th>\n",
       "      <th>visitNumber</th>\n",
       "      <th>channelGrouping_(Other)</th>\n",
       "      <th>channelGrouping_Affiliates</th>\n",
       "      <th>channelGrouping_Direct</th>\n",
       "      <th>...</th>\n",
       "      <th>trafficSource_source_sites.google.com</th>\n",
       "      <th>trafficSource_source_t.co</th>\n",
       "      <th>trafficSource_source_yahoo</th>\n",
       "      <th>trafficSource_source_youtube.com</th>\n",
       "      <th>time_of_day_Afternoon</th>\n",
       "      <th>time_of_day_Early Morning</th>\n",
       "      <th>time_of_day_Evening</th>\n",
       "      <th>time_of_day_Late Night</th>\n",
       "      <th>time_of_day_Morning</th>\n",
       "      <th>time_of_day_Night</th>\n",
       "    </tr>\n",
       "  </thead>\n",
       "  <tbody>\n",
       "    <tr>\n",
       "      <th>678941</th>\n",
       "      <td>False</td>\n",
       "      <td>9</td>\n",
       "      <td>7.0</td>\n",
       "      <td>2.0</td>\n",
       "      <td>239.509969</td>\n",
       "      <td>0.0</td>\n",
       "      <td>1</td>\n",
       "      <td>0</td>\n",
       "      <td>0</td>\n",
       "      <td>1</td>\n",
       "      <td>...</td>\n",
       "      <td>0</td>\n",
       "      <td>0</td>\n",
       "      <td>0</td>\n",
       "      <td>0</td>\n",
       "      <td>0</td>\n",
       "      <td>0</td>\n",
       "      <td>0</td>\n",
       "      <td>1</td>\n",
       "      <td>0</td>\n",
       "      <td>0</td>\n",
       "    </tr>\n",
       "    <tr>\n",
       "      <th>561021</th>\n",
       "      <td>False</td>\n",
       "      <td>11</td>\n",
       "      <td>7.0</td>\n",
       "      <td>31.0</td>\n",
       "      <td>239.509969</td>\n",
       "      <td>0.0</td>\n",
       "      <td>5</td>\n",
       "      <td>0</td>\n",
       "      <td>0</td>\n",
       "      <td>0</td>\n",
       "      <td>...</td>\n",
       "      <td>0</td>\n",
       "      <td>0</td>\n",
       "      <td>0</td>\n",
       "      <td>0</td>\n",
       "      <td>0</td>\n",
       "      <td>0</td>\n",
       "      <td>1</td>\n",
       "      <td>0</td>\n",
       "      <td>0</td>\n",
       "      <td>0</td>\n",
       "    </tr>\n",
       "    <tr>\n",
       "      <th>153899</th>\n",
       "      <td>False</td>\n",
       "      <td>9</td>\n",
       "      <td>7.0</td>\n",
       "      <td>-1.0</td>\n",
       "      <td>239.509969</td>\n",
       "      <td>0.0</td>\n",
       "      <td>2</td>\n",
       "      <td>0</td>\n",
       "      <td>0</td>\n",
       "      <td>0</td>\n",
       "      <td>...</td>\n",
       "      <td>0</td>\n",
       "      <td>0</td>\n",
       "      <td>0</td>\n",
       "      <td>0</td>\n",
       "      <td>0</td>\n",
       "      <td>0</td>\n",
       "      <td>1</td>\n",
       "      <td>0</td>\n",
       "      <td>0</td>\n",
       "      <td>0</td>\n",
       "    </tr>\n",
       "    <tr>\n",
       "      <th>54930</th>\n",
       "      <td>False</td>\n",
       "      <td>4</td>\n",
       "      <td>4.0</td>\n",
       "      <td>-1.0</td>\n",
       "      <td>239.509969</td>\n",
       "      <td>0.0</td>\n",
       "      <td>1</td>\n",
       "      <td>0</td>\n",
       "      <td>0</td>\n",
       "      <td>0</td>\n",
       "      <td>...</td>\n",
       "      <td>0</td>\n",
       "      <td>0</td>\n",
       "      <td>0</td>\n",
       "      <td>0</td>\n",
       "      <td>0</td>\n",
       "      <td>0</td>\n",
       "      <td>0</td>\n",
       "      <td>1</td>\n",
       "      <td>0</td>\n",
       "      <td>0</td>\n",
       "    </tr>\n",
       "    <tr>\n",
       "      <th>628845</th>\n",
       "      <td>False</td>\n",
       "      <td>48</td>\n",
       "      <td>28.0</td>\n",
       "      <td>70.0</td>\n",
       "      <td>239.509969</td>\n",
       "      <td>0.0</td>\n",
       "      <td>33</td>\n",
       "      <td>0</td>\n",
       "      <td>0</td>\n",
       "      <td>0</td>\n",
       "      <td>...</td>\n",
       "      <td>0</td>\n",
       "      <td>0</td>\n",
       "      <td>0</td>\n",
       "      <td>0</td>\n",
       "      <td>0</td>\n",
       "      <td>0</td>\n",
       "      <td>0</td>\n",
       "      <td>0</td>\n",
       "      <td>0</td>\n",
       "      <td>1</td>\n",
       "    </tr>\n",
       "  </tbody>\n",
       "</table>\n",
       "<p>5 rows × 133 columns</p>\n",
       "</div>"
      ],
      "text/plain": [
       "        device_isMobile  totals_hits  totals_pageviews  \\\n",
       "678941            False            9               7.0   \n",
       "561021            False           11               7.0   \n",
       "153899            False            9               7.0   \n",
       "54930             False            4               4.0   \n",
       "628845            False           48              28.0   \n",
       "\n",
       "        totals_sessionQualityDim  totals_timeOnSite  \\\n",
       "678941                       2.0         239.509969   \n",
       "561021                      31.0         239.509969   \n",
       "153899                      -1.0         239.509969   \n",
       "54930                       -1.0         239.509969   \n",
       "628845                      70.0         239.509969   \n",
       "\n",
       "        trafficSource_adwordsClickInfo.page  visitNumber  \\\n",
       "678941                                  0.0            1   \n",
       "561021                                  0.0            5   \n",
       "153899                                  0.0            2   \n",
       "54930                                   0.0            1   \n",
       "628845                                  0.0           33   \n",
       "\n",
       "        channelGrouping_(Other)  channelGrouping_Affiliates  \\\n",
       "678941                        0                           0   \n",
       "561021                        0                           0   \n",
       "153899                        0                           0   \n",
       "54930                         0                           0   \n",
       "628845                        0                           0   \n",
       "\n",
       "        channelGrouping_Direct  ...  trafficSource_source_sites.google.com  \\\n",
       "678941                       1  ...                                      0   \n",
       "561021                       0  ...                                      0   \n",
       "153899                       0  ...                                      0   \n",
       "54930                        0  ...                                      0   \n",
       "628845                       0  ...                                      0   \n",
       "\n",
       "        trafficSource_source_t.co  trafficSource_source_yahoo  \\\n",
       "678941                          0                           0   \n",
       "561021                          0                           0   \n",
       "153899                          0                           0   \n",
       "54930                           0                           0   \n",
       "628845                          0                           0   \n",
       "\n",
       "        trafficSource_source_youtube.com  time_of_day_Afternoon  \\\n",
       "678941                                 0                      0   \n",
       "561021                                 0                      0   \n",
       "153899                                 0                      0   \n",
       "54930                                  0                      0   \n",
       "628845                                 0                      0   \n",
       "\n",
       "        time_of_day_Early Morning  time_of_day_Evening  \\\n",
       "678941                          0                    0   \n",
       "561021                          0                    1   \n",
       "153899                          0                    1   \n",
       "54930                           0                    0   \n",
       "628845                          0                    0   \n",
       "\n",
       "        time_of_day_Late Night  time_of_day_Morning  time_of_day_Night  \n",
       "678941                       1                    0                  0  \n",
       "561021                       0                    0                  0  \n",
       "153899                       0                    0                  0  \n",
       "54930                        1                    0                  0  \n",
       "628845                       0                    0                  1  \n",
       "\n",
       "[5 rows x 133 columns]"
      ]
     },
     "execution_count": 6,
     "metadata": {},
     "output_type": "execute_result"
    }
   ],
   "source": [
    "X_train_ohe = pd.get_dummies(X_train)\n",
    "X_train_ohe.head()"
   ]
  },
  {
   "cell_type": "markdown",
   "metadata": {},
   "source": [
    "Now the data is ready for regression modeling."
   ]
  },
  {
   "cell_type": "markdown",
   "metadata": {},
   "source": [
    "# Baseline KNN Model"
   ]
  },
  {
   "cell_type": "markdown",
   "metadata": {},
   "source": [
    "First we run an untuned model to establish a baseline. Normally wouldn't use PCA in the baseline model, but our computational resources are too limited to make predictions without PCA.  All data must be scaled before using any KNN model."
   ]
  },
  {
   "cell_type": "code",
   "execution_count": 73,
   "metadata": {},
   "outputs": [],
   "source": [
    "pipe_knn_baseline = Pipeline([('scl', StandardScaler()),\n",
    "            ('pca', PCA(n_components=0.9)),\n",
    "            ('knn', KNeighborsRegressor(p=2, n_jobs=-1))])"
   ]
  },
  {
   "cell_type": "markdown",
   "metadata": {},
   "source": [
    "Here we will implement a GridSearchCV only for its cross validation properties.  All hyperparameters will be the default values in this baseline model."
   ]
  },
  {
   "cell_type": "code",
   "execution_count": 74,
   "metadata": {},
   "outputs": [],
   "source": [
    "# Create the grid parameter\n",
    "grid_knn_baseline = [{'knn__n_neighbors': [5], \n",
    "         'knn__weights': ['uniform']}]\n",
    "\n",
    "# Create the grid, with \"pipe\" as the estimator\n",
    "gridsearch_knn_baseline = GridSearchCV(estimator=pipe_knn_baseline, \n",
    "                          param_grid=grid_knn_baseline, \n",
    "                          scoring=['r2', 'neg_root_mean_squared_error'], \n",
    "                          refit='r2',\n",
    "                          cv=5,\n",
    "                          n_jobs=-1)"
   ]
  },
  {
   "cell_type": "code",
   "execution_count": 75,
   "metadata": {},
   "outputs": [
    {
     "data": {
      "text/plain": [
       "GridSearchCV(cv=5,\n",
       "             estimator=Pipeline(steps=[('scl', StandardScaler()),\n",
       "                                       ('pca', PCA(n_components=0.9)),\n",
       "                                       ('knn',\n",
       "                                        KNeighborsRegressor(n_jobs=-1))]),\n",
       "             n_jobs=-1,\n",
       "             param_grid=[{'knn__n_neighbors': [5],\n",
       "                          'knn__weights': ['uniform']}],\n",
       "             refit='r2', scoring=['r2', 'neg_root_mean_squared_error'])"
      ]
     },
     "execution_count": 75,
     "metadata": {},
     "output_type": "execute_result"
    }
   ],
   "source": [
    "gridsearch_knn_baseline.fit(X_train_ohe, y_train)"
   ]
  },
  {
   "cell_type": "code",
   "execution_count": 77,
   "metadata": {},
   "outputs": [
    {
     "data": {
      "text/plain": [
       "['gridsearch_knn_baseline.joblib']"
      ]
     },
     "execution_count": 77,
     "metadata": {},
     "output_type": "execute_result"
    }
   ],
   "source": [
    "#Save the model\n",
    "dump(gridsearch_knn_baseline, 'gridsearch_knn_baseline.joblib') "
   ]
  },
  {
   "cell_type": "code",
   "execution_count": 78,
   "metadata": {},
   "outputs": [
    {
     "data": {
      "text/plain": [
       "0   -0.046531\n",
       "Name: mean_test_r2, dtype: float64"
      ]
     },
     "execution_count": 78,
     "metadata": {},
     "output_type": "execute_result"
    }
   ],
   "source": [
    "gridsearch_knn_baseline_df = pd.DataFrame.from_dict(gridsearch_knn_baseline.cv_results_)\n",
    "gridsearch_knn_baseline_df['mean_test_r2']"
   ]
  },
  {
   "cell_type": "code",
   "execution_count": 79,
   "metadata": {},
   "outputs": [
    {
     "data": {
      "text/plain": [
       "-0.046531300371287145"
      ]
     },
     "execution_count": 79,
     "metadata": {},
     "output_type": "execute_result"
    }
   ],
   "source": [
    "gridsearch_knn_baseline.best_score_"
   ]
  },
  {
   "cell_type": "markdown",
   "metadata": {},
   "source": [
    "The mean R-Squared value across all folds of cross validation is -0.0465.  This is not high at all (in fact it's negative!), so we will tune our hyperparameters in order to achieve better results."
   ]
  },
  {
   "cell_type": "markdown",
   "metadata": {},
   "source": [
    "# Tuned KNN Model"
   ]
  },
  {
   "cell_type": "markdown",
   "metadata": {},
   "source": [
    "Now we will tune our KNN model's hyperparameters for the number of nearest neighbors and the weight function used in prediction."
   ]
  },
  {
   "cell_type": "code",
   "execution_count": 80,
   "metadata": {},
   "outputs": [],
   "source": [
    "#Create pipeline\n",
    "pipe_knn = Pipeline([('scl', StandardScaler()),\n",
    "            ('pca', PCA(n_components=0.9)),\n",
    "            ('knn', KNeighborsRegressor(p=2, n_jobs=-1))])"
   ]
  },
  {
   "cell_type": "code",
   "execution_count": 81,
   "metadata": {},
   "outputs": [],
   "source": [
    "# Create the grid parameter\n",
    "grid_knn = [{'knn__n_neighbors': [5, 10, 20, 50, 100], \n",
    "         'knn__weights': ['uniform', 'distance']}]\n",
    "\n",
    "# Create the grid, with \"pipe\" as the estimator\n",
    "gridsearch_knn = GridSearchCV(estimator=pipe_knn, \n",
    "                          param_grid=grid_knn, \n",
    "                          scoring=['r2', 'neg_root_mean_squared_error'], \n",
    "                          refit='r2',\n",
    "                          cv=5,\n",
    "                          n_jobs=-1)"
   ]
  },
  {
   "cell_type": "code",
   "execution_count": 82,
   "metadata": {},
   "outputs": [
    {
     "data": {
      "text/plain": [
       "GridSearchCV(cv=5,\n",
       "             estimator=Pipeline(steps=[('scl', StandardScaler()),\n",
       "                                       ('pca', PCA(n_components=0.9)),\n",
       "                                       ('knn',\n",
       "                                        KNeighborsRegressor(n_jobs=-1))]),\n",
       "             n_jobs=-1,\n",
       "             param_grid=[{'knn__n_neighbors': [5, 10, 20, 50, 100],\n",
       "                          'knn__weights': ['uniform', 'distance']}],\n",
       "             refit='r2', scoring=['r2', 'neg_root_mean_squared_error'])"
      ]
     },
     "execution_count": 82,
     "metadata": {},
     "output_type": "execute_result"
    }
   ],
   "source": [
    "gridsearch_knn.fit(X_train_ohe, y_train)"
   ]
  },
  {
   "cell_type": "markdown",
   "metadata": {},
   "source": [
    "Throughout the notebook the dump/load functions are used to save and load models so that we do not have to re-fit models each time the notebook/kernel is closed or restarted."
   ]
  },
  {
   "cell_type": "code",
   "execution_count": 83,
   "metadata": {},
   "outputs": [
    {
     "data": {
      "text/plain": [
       "['gridsearch_knn.joblib']"
      ]
     },
     "execution_count": 83,
     "metadata": {},
     "output_type": "execute_result"
    }
   ],
   "source": [
    "#Save the model\n",
    "dump(gridsearch_knn, 'gridsearch_knn.joblib') "
   ]
  },
  {
   "cell_type": "code",
   "execution_count": 84,
   "metadata": {},
   "outputs": [
    {
     "data": {
      "text/plain": [
       "{'knn__n_neighbors': 50, 'knn__weights': 'distance'}"
      ]
     },
     "execution_count": 84,
     "metadata": {},
     "output_type": "execute_result"
    }
   ],
   "source": [
    "gridsearch_knn.best_params_"
   ]
  },
  {
   "cell_type": "code",
   "execution_count": 85,
   "metadata": {},
   "outputs": [
    {
     "data": {
      "text/plain": [
       "0.12583662687409544"
      ]
     },
     "execution_count": 85,
     "metadata": {},
     "output_type": "execute_result"
    }
   ],
   "source": [
    "gridsearch_knn.best_score_"
   ]
  },
  {
   "cell_type": "markdown",
   "metadata": {},
   "source": [
    "The best model we tested used a distance weight function and 50 nearest neighbors to make its predictions.  The average R-Squared value for this model across all CV folds was 12.6%.  This model also had the 2nd lowest RMSE out of the models we tried.  This is a definite improvement over our baseline model.\n",
    "\n",
    "Next, we can graph how R-Squared and RMSE change as we modify the number of neighbors.  This will allow us to more accurately target the hyperparameters that will lead to the best result."
   ]
  },
  {
   "cell_type": "code",
   "execution_count": 86,
   "metadata": {},
   "outputs": [],
   "source": [
    "#Get results of our modeling.\n",
    "gridsearch_knn_df = pd.DataFrame.from_dict(gridsearch_knn.cv_results_)\n",
    "gridsearch_knn_df = gridsearch_knn_df[['param_knn__n_neighbors', 'param_knn__weights', 'mean_test_neg_root_mean_squared_error', 'mean_test_r2']]\n",
    "\n",
    "#Segment the models into different dataframes depending on the weight function used.\n",
    "distance_results = gridsearch_knn_df.loc[gridsearch_knn_df['param_knn__weights'] == 'distance'].sort_values(by='param_knn__n_neighbors', ascending=False)\n",
    "uniform_results = gridsearch_knn_df.loc[gridsearch_knn_df['param_knn__weights'] == 'uniform'].sort_values(by='param_knn__n_neighbors', ascending=False)"
   ]
  },
  {
   "cell_type": "markdown",
   "metadata": {},
   "source": [
    "### Graph Metrics for Uniform Models"
   ]
  },
  {
   "cell_type": "code",
   "execution_count": 87,
   "metadata": {},
   "outputs": [
    {
     "data": {
      "text/plain": [
       "<matplotlib.legend.Legend at 0x132771730>"
      ]
     },
     "execution_count": 87,
     "metadata": {},
     "output_type": "execute_result"
    },
    {
     "data": {
      "image/png": "[encoded data removed]",
      "text/plain": [
       "<Figure size 1152x576 with 2 Axes>"
      ]
     },
     "metadata": {
      "needs_background": "light"
     },
     "output_type": "display_data"
    }
   ],
   "source": [
    "plt.subplots(figsize=(16, 8))\n",
    "ax = sns.lineplot(x='param_knn__n_neighbors', y=\"mean_test_r2\", data=uniform_results, color='red', label = 'R-Squared')\n",
    "ax2=ax.twinx()\n",
    "sns.lineplot(x='param_knn__n_neighbors', y=\"mean_test_neg_root_mean_squared_error\", data=uniform_results, color='blue', label = 'RMSE')\n",
    "plt.legend()"
   ]
  },
  {
   "cell_type": "markdown",
   "metadata": {},
   "source": [
    "Here we can see that R-Squared increases quickly until about k=20, then the values begin to decrease.  RMSE shows a similar pattern."
   ]
  },
  {
   "cell_type": "markdown",
   "metadata": {},
   "source": [
    "### Graph Metrics for Distance Models"
   ]
  },
  {
   "cell_type": "code",
   "execution_count": 88,
   "metadata": {},
   "outputs": [
    {
     "data": {
      "text/plain": [
       "<AxesSubplot:label='372b994f-d3ff-4588-a9f1-f33239ed4f27', xlabel='param_knn__n_neighbors', ylabel='mean_test_neg_root_mean_squared_error'>"
      ]
     },
     "execution_count": 88,
     "metadata": {},
     "output_type": "execute_result"
    },
    {
     "data": {
      "image/png": "[encoded data removed]",
      "text/plain": [
       "<Figure size 1152x576 with 2 Axes>"
      ]
     },
     "metadata": {
      "needs_background": "light"
     },
     "output_type": "display_data"
    }
   ],
   "source": [
    "plt.subplots(figsize=(16, 8))\n",
    "ax = sns.lineplot(x='param_knn__n_neighbors', y=\"mean_test_r2\", data=distance_results, color='orange', label = 'R-Squared')\n",
    "ax2=ax.twinx()\n",
    "sns.lineplot(x='param_knn__n_neighbors', y=\"mean_test_neg_root_mean_squared_error\", data=distance_results, color='purple', label = 'RMSE')"
   ]
  },
  {
   "cell_type": "markdown",
   "metadata": {},
   "source": [
    "Here we can see that R-Squared increases quickly until about k=20, then less rapidly through k=50 or so.  Then the values begin to decrease.  RMSE shows a similar pattern."
   ]
  },
  {
   "cell_type": "markdown",
   "metadata": {},
   "source": [
    "Now we look at the mean R-Squared values for distance vs uniform weight functions.  Below we can see that for any given number of nearest neighbors k, the distance weight function performs better.  We'll tune our model again using a distance weights and more targeted k values based on the above graphs."
   ]
  },
  {
   "cell_type": "code",
   "execution_count": 89,
   "metadata": {},
   "outputs": [
    {
     "data": {
      "text/html": [
       "<div>\n",
       "<style scoped>\n",
       "    .dataframe tbody tr th:only-of-type {\n",
       "        vertical-align: middle;\n",
       "    }\n",
       "\n",
       "    .dataframe tbody tr th {\n",
       "        vertical-align: top;\n",
       "    }\n",
       "\n",
       "    .dataframe thead th {\n",
       "        text-align: right;\n",
       "    }\n",
       "</style>\n",
       "<table border=\"1\" class=\"dataframe\">\n",
       "  <thead>\n",
       "    <tr style=\"text-align: right;\">\n",
       "      <th></th>\n",
       "      <th>mean_test_r2</th>\n",
       "    </tr>\n",
       "  </thead>\n",
       "  <tbody>\n",
       "    <tr>\n",
       "      <th>9</th>\n",
       "      <td>0.115881</td>\n",
       "    </tr>\n",
       "    <tr>\n",
       "      <th>7</th>\n",
       "      <td>0.125837</td>\n",
       "    </tr>\n",
       "    <tr>\n",
       "      <th>5</th>\n",
       "      <td>0.122857</td>\n",
       "    </tr>\n",
       "    <tr>\n",
       "      <th>3</th>\n",
       "      <td>0.089463</td>\n",
       "    </tr>\n",
       "    <tr>\n",
       "      <th>1</th>\n",
       "      <td>0.001435</td>\n",
       "    </tr>\n",
       "  </tbody>\n",
       "</table>\n",
       "</div>"
      ],
      "text/plain": [
       "   mean_test_r2\n",
       "9      0.115881\n",
       "7      0.125837\n",
       "5      0.122857\n",
       "3      0.089463\n",
       "1      0.001435"
      ]
     },
     "execution_count": 89,
     "metadata": {},
     "output_type": "execute_result"
    }
   ],
   "source": [
    "distance_results[['mean_test_r2']]"
   ]
  },
  {
   "cell_type": "code",
   "execution_count": 90,
   "metadata": {},
   "outputs": [
    {
     "data": {
      "text/html": [
       "<div>\n",
       "<style scoped>\n",
       "    .dataframe tbody tr th:only-of-type {\n",
       "        vertical-align: middle;\n",
       "    }\n",
       "\n",
       "    .dataframe tbody tr th {\n",
       "        vertical-align: top;\n",
       "    }\n",
       "\n",
       "    .dataframe thead th {\n",
       "        text-align: right;\n",
       "    }\n",
       "</style>\n",
       "<table border=\"1\" class=\"dataframe\">\n",
       "  <thead>\n",
       "    <tr style=\"text-align: right;\">\n",
       "      <th></th>\n",
       "      <th>mean_test_r2</th>\n",
       "    </tr>\n",
       "  </thead>\n",
       "  <tbody>\n",
       "    <tr>\n",
       "      <th>8</th>\n",
       "      <td>0.086082</td>\n",
       "    </tr>\n",
       "    <tr>\n",
       "      <th>6</th>\n",
       "      <td>0.095358</td>\n",
       "    </tr>\n",
       "    <tr>\n",
       "      <th>4</th>\n",
       "      <td>0.100256</td>\n",
       "    </tr>\n",
       "    <tr>\n",
       "      <th>2</th>\n",
       "      <td>0.063654</td>\n",
       "    </tr>\n",
       "    <tr>\n",
       "      <th>0</th>\n",
       "      <td>-0.046531</td>\n",
       "    </tr>\n",
       "  </tbody>\n",
       "</table>\n",
       "</div>"
      ],
      "text/plain": [
       "   mean_test_r2\n",
       "8      0.086082\n",
       "6      0.095358\n",
       "4      0.100256\n",
       "2      0.063654\n",
       "0     -0.046531"
      ]
     },
     "execution_count": 90,
     "metadata": {},
     "output_type": "execute_result"
    }
   ],
   "source": [
    "uniform_results[['mean_test_r2']]"
   ]
  },
  {
   "cell_type": "markdown",
   "metadata": {},
   "source": [
    "# 2nd Tuned KNN Model"
   ]
  },
  {
   "cell_type": "code",
   "execution_count": 91,
   "metadata": {},
   "outputs": [],
   "source": [
    "# Create the grid parameter using neighbor values based on our previous graphs.\n",
    "grid_knn_2 = [{'knn__n_neighbors': [30, 40, 50, 60, 70], \n",
    "              'knn__weights': ['distance']}]\n",
    "\n",
    "# Create the grid, with \"pipe\" as the estimator\n",
    "gridsearch_knn_2 = GridSearchCV(estimator=pipe_knn, \n",
    "                          param_grid=grid_knn_2, \n",
    "                          scoring=['r2', 'neg_root_mean_squared_error'], \n",
    "                          refit='r2',\n",
    "                          cv=5,\n",
    "                          n_jobs=-1)"
   ]
  },
  {
   "cell_type": "code",
   "execution_count": 92,
   "metadata": {},
   "outputs": [
    {
     "data": {
      "text/plain": [
       "GridSearchCV(cv=5,\n",
       "             estimator=Pipeline(steps=[('scl', StandardScaler()),\n",
       "                                       ('pca', PCA(n_components=0.9)),\n",
       "                                       ('knn',\n",
       "                                        KNeighborsRegressor(n_jobs=-1))]),\n",
       "             n_jobs=-1,\n",
       "             param_grid=[{'knn__n_neighbors': [30, 40, 50, 60, 70],\n",
       "                          'knn__weights': ['distance']}],\n",
       "             refit='r2', scoring=['r2', 'neg_root_mean_squared_error'])"
      ]
     },
     "execution_count": 92,
     "metadata": {},
     "output_type": "execute_result"
    }
   ],
   "source": [
    "gridsearch_knn_2.fit(X_train_ohe, y_train)"
   ]
  },
  {
   "cell_type": "code",
   "execution_count": 93,
   "metadata": {},
   "outputs": [
    {
     "data": {
      "text/plain": [
       "['gridsearch_knn_2.joblib']"
      ]
     },
     "execution_count": 93,
     "metadata": {},
     "output_type": "execute_result"
    }
   ],
   "source": [
    "#Save the model\n",
    "dump(gridsearch_knn_2, 'gridsearch_knn_2.joblib') "
   ]
  },
  {
   "cell_type": "code",
   "execution_count": 94,
   "metadata": {},
   "outputs": [
    {
     "data": {
      "text/plain": [
       "{'knn__n_neighbors': 30, 'knn__weights': 'distance'}"
      ]
     },
     "execution_count": 94,
     "metadata": {},
     "output_type": "execute_result"
    }
   ],
   "source": [
    "gridsearch_knn_2.best_params_"
   ]
  },
  {
   "cell_type": "code",
   "execution_count": 95,
   "metadata": {},
   "outputs": [
    {
     "data": {
      "text/plain": [
       "0.1307760156344741"
      ]
     },
     "execution_count": 95,
     "metadata": {},
     "output_type": "execute_result"
    }
   ],
   "source": [
    "gridsearch_knn_2.best_score_"
   ]
  },
  {
   "cell_type": "code",
   "execution_count": 96,
   "metadata": {},
   "outputs": [
    {
     "data": {
      "text/html": [
       "<div>\n",
       "<style scoped>\n",
       "    .dataframe tbody tr th:only-of-type {\n",
       "        vertical-align: middle;\n",
       "    }\n",
       "\n",
       "    .dataframe tbody tr th {\n",
       "        vertical-align: top;\n",
       "    }\n",
       "\n",
       "    .dataframe thead th {\n",
       "        text-align: right;\n",
       "    }\n",
       "</style>\n",
       "<table border=\"1\" class=\"dataframe\">\n",
       "  <thead>\n",
       "    <tr style=\"text-align: right;\">\n",
       "      <th></th>\n",
       "      <th>mean_fit_time</th>\n",
       "      <th>std_fit_time</th>\n",
       "      <th>mean_score_time</th>\n",
       "      <th>std_score_time</th>\n",
       "      <th>param_knn__n_neighbors</th>\n",
       "      <th>param_knn__weights</th>\n",
       "      <th>params</th>\n",
       "      <th>split0_test_r2</th>\n",
       "      <th>split1_test_r2</th>\n",
       "      <th>split2_test_r2</th>\n",
       "      <th>...</th>\n",
       "      <th>std_test_r2</th>\n",
       "      <th>rank_test_r2</th>\n",
       "      <th>split0_test_neg_root_mean_squared_error</th>\n",
       "      <th>split1_test_neg_root_mean_squared_error</th>\n",
       "      <th>split2_test_neg_root_mean_squared_error</th>\n",
       "      <th>split3_test_neg_root_mean_squared_error</th>\n",
       "      <th>split4_test_neg_root_mean_squared_error</th>\n",
       "      <th>mean_test_neg_root_mean_squared_error</th>\n",
       "      <th>std_test_neg_root_mean_squared_error</th>\n",
       "      <th>rank_test_neg_root_mean_squared_error</th>\n",
       "    </tr>\n",
       "  </thead>\n",
       "  <tbody>\n",
       "    <tr>\n",
       "      <th>0</th>\n",
       "      <td>88.094349</td>\n",
       "      <td>17.298172</td>\n",
       "      <td>101.715372</td>\n",
       "      <td>18.242396</td>\n",
       "      <td>30</td>\n",
       "      <td>distance</td>\n",
       "      <td>{'knn__n_neighbors': 30, 'knn__weights': 'dist...</td>\n",
       "      <td>0.162473</td>\n",
       "      <td>0.113972</td>\n",
       "      <td>0.110030</td>\n",
       "      <td>...</td>\n",
       "      <td>0.018636</td>\n",
       "      <td>1</td>\n",
       "      <td>-81.933344</td>\n",
       "      <td>-67.688232</td>\n",
       "      <td>-60.506095</td>\n",
       "      <td>-66.105800</td>\n",
       "      <td>-54.770724</td>\n",
       "      <td>-66.200839</td>\n",
       "      <td>9.086371</td>\n",
       "      <td>1</td>\n",
       "    </tr>\n",
       "    <tr>\n",
       "      <th>1</th>\n",
       "      <td>113.544766</td>\n",
       "      <td>10.209081</td>\n",
       "      <td>113.961914</td>\n",
       "      <td>22.678186</td>\n",
       "      <td>40</td>\n",
       "      <td>distance</td>\n",
       "      <td>{'knn__n_neighbors': 40, 'knn__weights': 'dist...</td>\n",
       "      <td>0.147408</td>\n",
       "      <td>0.115425</td>\n",
       "      <td>0.106944</td>\n",
       "      <td>...</td>\n",
       "      <td>0.015138</td>\n",
       "      <td>2</td>\n",
       "      <td>-82.666978</td>\n",
       "      <td>-67.632711</td>\n",
       "      <td>-60.610897</td>\n",
       "      <td>-66.163183</td>\n",
       "      <td>-54.542355</td>\n",
       "      <td>-66.323225</td>\n",
       "      <td>9.383797</td>\n",
       "      <td>2</td>\n",
       "    </tr>\n",
       "    <tr>\n",
       "      <th>2</th>\n",
       "      <td>99.105756</td>\n",
       "      <td>9.053153</td>\n",
       "      <td>145.190903</td>\n",
       "      <td>3.576614</td>\n",
       "      <td>50</td>\n",
       "      <td>distance</td>\n",
       "      <td>{'knn__n_neighbors': 50, 'knn__weights': 'dist...</td>\n",
       "      <td>0.137240</td>\n",
       "      <td>0.114089</td>\n",
       "      <td>0.107293</td>\n",
       "      <td>...</td>\n",
       "      <td>0.012932</td>\n",
       "      <td>3</td>\n",
       "      <td>-83.158432</td>\n",
       "      <td>-67.683764</td>\n",
       "      <td>-60.599069</td>\n",
       "      <td>-66.265558</td>\n",
       "      <td>-54.538341</td>\n",
       "      <td>-66.449033</td>\n",
       "      <td>9.558754</td>\n",
       "      <td>3</td>\n",
       "    </tr>\n",
       "    <tr>\n",
       "      <th>3</th>\n",
       "      <td>128.544312</td>\n",
       "      <td>21.092029</td>\n",
       "      <td>133.932774</td>\n",
       "      <td>27.783990</td>\n",
       "      <td>60</td>\n",
       "      <td>distance</td>\n",
       "      <td>{'knn__n_neighbors': 60, 'knn__weights': 'dist...</td>\n",
       "      <td>0.133860</td>\n",
       "      <td>0.111045</td>\n",
       "      <td>0.103980</td>\n",
       "      <td>...</td>\n",
       "      <td>0.014561</td>\n",
       "      <td>4</td>\n",
       "      <td>-83.321153</td>\n",
       "      <td>-67.799928</td>\n",
       "      <td>-60.711417</td>\n",
       "      <td>-66.413899</td>\n",
       "      <td>-54.423360</td>\n",
       "      <td>-66.533952</td>\n",
       "      <td>9.633230</td>\n",
       "      <td>4</td>\n",
       "    </tr>\n",
       "    <tr>\n",
       "      <th>4</th>\n",
       "      <td>125.881806</td>\n",
       "      <td>21.276147</td>\n",
       "      <td>137.298022</td>\n",
       "      <td>56.974928</td>\n",
       "      <td>70</td>\n",
       "      <td>distance</td>\n",
       "      <td>{'knn__n_neighbors': 70, 'knn__weights': 'dist...</td>\n",
       "      <td>0.126118</td>\n",
       "      <td>0.109275</td>\n",
       "      <td>0.098608</td>\n",
       "      <td>...</td>\n",
       "      <td>0.014753</td>\n",
       "      <td>5</td>\n",
       "      <td>-83.692720</td>\n",
       "      <td>-67.867407</td>\n",
       "      <td>-60.893141</td>\n",
       "      <td>-66.565431</td>\n",
       "      <td>-54.485830</td>\n",
       "      <td>-66.700906</td>\n",
       "      <td>9.726655</td>\n",
       "      <td>5</td>\n",
       "    </tr>\n",
       "  </tbody>\n",
       "</table>\n",
       "<p>5 rows × 23 columns</p>\n",
       "</div>"
      ],
      "text/plain": [
       "   mean_fit_time  std_fit_time  mean_score_time  std_score_time  \\\n",
       "0      88.094349     17.298172       101.715372       18.242396   \n",
       "1     113.544766     10.209081       113.961914       22.678186   \n",
       "2      99.105756      9.053153       145.190903        3.576614   \n",
       "3     128.544312     21.092029       133.932774       27.783990   \n",
       "4     125.881806     21.276147       137.298022       56.974928   \n",
       "\n",
       "  param_knn__n_neighbors param_knn__weights  \\\n",
       "0                     30           distance   \n",
       "1                     40           distance   \n",
       "2                     50           distance   \n",
       "3                     60           distance   \n",
       "4                     70           distance   \n",
       "\n",
       "                                              params  split0_test_r2  \\\n",
       "0  {'knn__n_neighbors': 30, 'knn__weights': 'dist...        0.162473   \n",
       "1  {'knn__n_neighbors': 40, 'knn__weights': 'dist...        0.147408   \n",
       "2  {'knn__n_neighbors': 50, 'knn__weights': 'dist...        0.137240   \n",
       "3  {'knn__n_neighbors': 60, 'knn__weights': 'dist...        0.133860   \n",
       "4  {'knn__n_neighbors': 70, 'knn__weights': 'dist...        0.126118   \n",
       "\n",
       "   split1_test_r2  split2_test_r2  ...  std_test_r2  rank_test_r2  \\\n",
       "0        0.113972        0.110030  ...     0.018636             1   \n",
       "1        0.115425        0.106944  ...     0.015138             2   \n",
       "2        0.114089        0.107293  ...     0.012932             3   \n",
       "3        0.111045        0.103980  ...     0.014561             4   \n",
       "4        0.109275        0.098608  ...     0.014753             5   \n",
       "\n",
       "   split0_test_neg_root_mean_squared_error  \\\n",
       "0                               -81.933344   \n",
       "1                               -82.666978   \n",
       "2                               -83.158432   \n",
       "3                               -83.321153   \n",
       "4                               -83.692720   \n",
       "\n",
       "   split1_test_neg_root_mean_squared_error  \\\n",
       "0                               -67.688232   \n",
       "1                               -67.632711   \n",
       "2                               -67.683764   \n",
       "3                               -67.799928   \n",
       "4                               -67.867407   \n",
       "\n",
       "   split2_test_neg_root_mean_squared_error  \\\n",
       "0                               -60.506095   \n",
       "1                               -60.610897   \n",
       "2                               -60.599069   \n",
       "3                               -60.711417   \n",
       "4                               -60.893141   \n",
       "\n",
       "   split3_test_neg_root_mean_squared_error  \\\n",
       "0                               -66.105800   \n",
       "1                               -66.163183   \n",
       "2                               -66.265558   \n",
       "3                               -66.413899   \n",
       "4                               -66.565431   \n",
       "\n",
       "   split4_test_neg_root_mean_squared_error  \\\n",
       "0                               -54.770724   \n",
       "1                               -54.542355   \n",
       "2                               -54.538341   \n",
       "3                               -54.423360   \n",
       "4                               -54.485830   \n",
       "\n",
       "   mean_test_neg_root_mean_squared_error  \\\n",
       "0                             -66.200839   \n",
       "1                             -66.323225   \n",
       "2                             -66.449033   \n",
       "3                             -66.533952   \n",
       "4                             -66.700906   \n",
       "\n",
       "   std_test_neg_root_mean_squared_error  rank_test_neg_root_mean_squared_error  \n",
       "0                              9.086371                                      1  \n",
       "1                              9.383797                                      2  \n",
       "2                              9.558754                                      3  \n",
       "3                              9.633230                                      4  \n",
       "4                              9.726655                                      5  \n",
       "\n",
       "[5 rows x 23 columns]"
      ]
     },
     "execution_count": 96,
     "metadata": {},
     "output_type": "execute_result"
    }
   ],
   "source": [
    "gridsearch_knn_df2 = pd.DataFrame.from_dict(gridsearch_knn_2.cv_results_)\n",
    "gridsearch_knn_df2"
   ]
  },
  {
   "cell_type": "markdown",
   "metadata": {},
   "source": [
    "Our 2nd iteration of tuning the KNN model results in our best model using 30 nearest neighbors with a distance weighting function.  This model is better than our previous best with R-Squared of 13.1% and RMSE of 66.2 vs previous R-Squared of 12.6% and RMSE of 66.4."
   ]
  },
  {
   "cell_type": "code",
   "execution_count": 97,
   "metadata": {},
   "outputs": [
    {
     "data": {
      "text/plain": [
       "0.1307760156344741"
      ]
     },
     "execution_count": 97,
     "metadata": {},
     "output_type": "execute_result"
    }
   ],
   "source": [
    "gridsearch_knn_df2['mean_test_r2'][0]"
   ]
  },
  {
   "cell_type": "code",
   "execution_count": 98,
   "metadata": {},
   "outputs": [
    {
     "data": {
      "text/plain": [
       "-66.2008390626158"
      ]
     },
     "execution_count": 98,
     "metadata": {},
     "output_type": "execute_result"
    }
   ],
   "source": [
    "gridsearch_knn_df2['mean_test_neg_root_mean_squared_error'][0]"
   ]
  },
  {
   "cell_type": "code",
   "execution_count": 99,
   "metadata": {},
   "outputs": [
    {
     "data": {
      "text/html": [
       "<div>\n",
       "<style scoped>\n",
       "    .dataframe tbody tr th:only-of-type {\n",
       "        vertical-align: middle;\n",
       "    }\n",
       "\n",
       "    .dataframe tbody tr th {\n",
       "        vertical-align: top;\n",
       "    }\n",
       "\n",
       "    .dataframe thead th {\n",
       "        text-align: right;\n",
       "    }\n",
       "</style>\n",
       "<table border=\"1\" class=\"dataframe\">\n",
       "  <thead>\n",
       "    <tr style=\"text-align: right;\">\n",
       "      <th></th>\n",
       "      <th>mean_test_r2</th>\n",
       "      <th>mean_test_neg_root_mean_squared_error</th>\n",
       "    </tr>\n",
       "  </thead>\n",
       "  <tbody>\n",
       "    <tr>\n",
       "      <th>0</th>\n",
       "      <td>-0.046531</td>\n",
       "      <td>-72.130892</td>\n",
       "    </tr>\n",
       "    <tr>\n",
       "      <th>1</th>\n",
       "      <td>0.001435</td>\n",
       "      <td>-70.100076</td>\n",
       "    </tr>\n",
       "    <tr>\n",
       "      <th>2</th>\n",
       "      <td>0.063654</td>\n",
       "      <td>-68.627431</td>\n",
       "    </tr>\n",
       "    <tr>\n",
       "      <th>3</th>\n",
       "      <td>0.089463</td>\n",
       "      <td>-67.385914</td>\n",
       "    </tr>\n",
       "    <tr>\n",
       "      <th>4</th>\n",
       "      <td>0.100256</td>\n",
       "      <td>-67.475206</td>\n",
       "    </tr>\n",
       "    <tr>\n",
       "      <th>5</th>\n",
       "      <td>0.122857</td>\n",
       "      <td>-66.393671</td>\n",
       "    </tr>\n",
       "    <tr>\n",
       "      <th>6</th>\n",
       "      <td>0.095358</td>\n",
       "      <td>-67.729646</td>\n",
       "    </tr>\n",
       "    <tr>\n",
       "      <th>7</th>\n",
       "      <td>0.125837</td>\n",
       "      <td>-66.449033</td>\n",
       "    </tr>\n",
       "    <tr>\n",
       "      <th>8</th>\n",
       "      <td>0.086082</td>\n",
       "      <td>-68.043727</td>\n",
       "    </tr>\n",
       "    <tr>\n",
       "      <th>9</th>\n",
       "      <td>0.115881</td>\n",
       "      <td>-66.858341</td>\n",
       "    </tr>\n",
       "  </tbody>\n",
       "</table>\n",
       "</div>"
      ],
      "text/plain": [
       "   mean_test_r2  mean_test_neg_root_mean_squared_error\n",
       "0     -0.046531                             -72.130892\n",
       "1      0.001435                             -70.100076\n",
       "2      0.063654                             -68.627431\n",
       "3      0.089463                             -67.385914\n",
       "4      0.100256                             -67.475206\n",
       "5      0.122857                             -66.393671\n",
       "6      0.095358                             -67.729646\n",
       "7      0.125837                             -66.449033\n",
       "8      0.086082                             -68.043727\n",
       "9      0.115881                             -66.858341"
      ]
     },
     "execution_count": 99,
     "metadata": {},
     "output_type": "execute_result"
    }
   ],
   "source": [
    "gridsearch_knn_df[['mean_test_r2', 'mean_test_neg_root_mean_squared_error']]"
   ]
  },
  {
   "cell_type": "markdown",
   "metadata": {},
   "source": [
    "We have tuned our KNN model, but the R-Squared metric still is not as high as we might like.  About 13% of the variation in revenue can be explained by our tuned model.  The KNN model is limited both by our computational resources and by how KNN performs when there are many dimensions and many rows.\n",
    "\n",
    "Additionally, we want to analyze which features are most important in predicting how much a customer spends.  This is not possible with a KNN model.  \n",
    "\n",
    "Tree-based models do have this functionality.  Our next step is to implement a decision tree regressor.  Once we have a sufficient tree-based model, we will examine the Gini Importance of different features to make conclusions about online shopping at Google's store."
   ]
  },
  {
   "cell_type": "markdown",
   "metadata": {},
   "source": [
    "# Decision Tree Model"
   ]
  },
  {
   "cell_type": "markdown",
   "metadata": {},
   "source": [
    "In tuning this model we need to use a RandomizedSearchCV because our computational resources are limited.  We will tune based on a random selection from the starting hyperparameters, then look for patterns and tune again from there."
   ]
  },
  {
   "cell_type": "code",
   "execution_count": 16,
   "metadata": {},
   "outputs": [],
   "source": [
    "#Create pipeline\n",
    "pipe_tree = Pipeline([('scl', StandardScaler()),\n",
    "            ('pca', PCA(n_components=0.9)),\n",
    "            ('tree', DecisionTreeRegressor(random_state=70))])"
   ]
  },
  {
   "cell_type": "code",
   "execution_count": 17,
   "metadata": {},
   "outputs": [],
   "source": [
    "# Create the grid parameter\n",
    "grid_tree = [{'tree__max_depth': [10, 20, 35, 50], \n",
    "             'tree__min_samples_split': [5, 10, 30, 40, 50],\n",
    "             'tree__min_samples_leaf': [10, 30, 100, 300],\n",
    "             'tree__criterion': ['mse'],\n",
    "             'tree__max_features': [None, 'sqrt', 'log2']\n",
    "             }]\n",
    "\n",
    "# Create the grid, with \"pipe\" as the estimator\n",
    "gridsearch_tree = RandomizedSearchCV(estimator=pipe_tree, \n",
    "                          param_distributions=grid_tree, \n",
    "                          scoring=['r2', 'neg_root_mean_squared_error'], #Include RMSE in Results\n",
    "                          refit='r2', #Choose best model based on R^2\n",
    "                          cv=5,\n",
    "                          n_iter=15,\n",
    "                          n_jobs=-1,\n",
    "                          verbose=8)"
   ]
  },
  {
   "cell_type": "code",
   "execution_count": 18,
   "metadata": {},
   "outputs": [
    {
     "name": "stdout",
     "output_type": "stream",
     "text": [
      "Fitting 5 folds for each of 15 candidates, totalling 75 fits\n"
     ]
    },
    {
     "name": "stderr",
     "output_type": "stream",
     "text": [
      "[Parallel(n_jobs=-1)]: Using backend LokyBackend with 8 concurrent workers.\n",
      "[Parallel(n_jobs=-1)]: Done   2 tasks      | elapsed:  1.4min\n",
      "[Parallel(n_jobs=-1)]: Done  25 tasks      | elapsed:  4.7min\n",
      "[Parallel(n_jobs=-1)]: Done  56 tasks      | elapsed: 13.1min\n",
      "[Parallel(n_jobs=-1)]: Done  70 out of  75 | elapsed: 17.7min remaining:  1.3min\n",
      "[Parallel(n_jobs=-1)]: Done  75 out of  75 | elapsed: 19.1min finished\n"
     ]
    },
    {
     "data": {
      "text/plain": [
       "RandomizedSearchCV(cv=5,\n",
       "                   estimator=Pipeline(steps=[('scl', StandardScaler()),\n",
       "                                             ('pca', PCA(n_components=0.9)),\n",
       "                                             ('tree',\n",
       "                                              DecisionTreeRegressor(random_state=70))]),\n",
       "                   n_iter=15, n_jobs=-1,\n",
       "                   param_distributions=[{'tree__criterion': ['mse'],\n",
       "                                         'tree__max_depth': [10, 20, 35, 50],\n",
       "                                         'tree__max_features': [None, 'sqrt',\n",
       "                                                                'log2'],\n",
       "                                         'tree__min_samples_leaf': [10, 30, 100,\n",
       "                                                                    300],\n",
       "                                         'tree__min_samples_split': [5, 10, 30,\n",
       "                                                                     40, 50]}],\n",
       "                   refit='r2', scoring=['r2', 'neg_root_mean_squared_error'],\n",
       "                   verbose=8)"
      ]
     },
     "execution_count": 18,
     "metadata": {},
     "output_type": "execute_result"
    }
   ],
   "source": [
    "gridsearch_tree.fit(X_train_ohe, y_train)"
   ]
  },
  {
   "cell_type": "code",
   "execution_count": 60,
   "metadata": {},
   "outputs": [
    {
     "data": {
      "text/plain": [
       "['gridsearch_tree.joblib']"
      ]
     },
     "execution_count": 60,
     "metadata": {},
     "output_type": "execute_result"
    }
   ],
   "source": [
    "#Save the model\n",
    "dump(gridsearch_tree, 'gridsearch_tree.joblib') "
   ]
  },
  {
   "cell_type": "code",
   "execution_count": 21,
   "metadata": {},
   "outputs": [
    {
     "data": {
      "text/plain": [
       "{'tree__min_samples_split': 50,\n",
       " 'tree__min_samples_leaf': 30,\n",
       " 'tree__max_features': None,\n",
       " 'tree__max_depth': 10,\n",
       " 'tree__criterion': 'mse'}"
      ]
     },
     "execution_count": 21,
     "metadata": {},
     "output_type": "execute_result"
    }
   ],
   "source": [
    "gridsearch_tree.best_params_"
   ]
  },
  {
   "cell_type": "markdown",
   "metadata": {},
   "source": [
    "The best R-Squared score from this model is 8.6%.  This is lower than our tuned KNN model, but high enough to continue iterating with tree-based models.  A random forest model may be more effective than a single decision tree."
   ]
  },
  {
   "cell_type": "code",
   "execution_count": 22,
   "metadata": {},
   "outputs": [
    {
     "data": {
      "text/plain": [
       "0.08593649123624995"
      ]
     },
     "execution_count": 22,
     "metadata": {},
     "output_type": "execute_result"
    }
   ],
   "source": [
    "gridsearch_tree.best_score_"
   ]
  },
  {
   "cell_type": "code",
   "execution_count": 24,
   "metadata": {},
   "outputs": [
    {
     "data": {
      "text/html": [
       "<div>\n",
       "<style scoped>\n",
       "    .dataframe tbody tr th:only-of-type {\n",
       "        vertical-align: middle;\n",
       "    }\n",
       "\n",
       "    .dataframe tbody tr th {\n",
       "        vertical-align: top;\n",
       "    }\n",
       "\n",
       "    .dataframe thead th {\n",
       "        text-align: right;\n",
       "    }\n",
       "</style>\n",
       "<table border=\"1\" class=\"dataframe\">\n",
       "  <thead>\n",
       "    <tr style=\"text-align: right;\">\n",
       "      <th></th>\n",
       "      <th>mean_fit_time</th>\n",
       "      <th>std_fit_time</th>\n",
       "      <th>mean_score_time</th>\n",
       "      <th>std_score_time</th>\n",
       "      <th>param_tree__min_samples_split</th>\n",
       "      <th>param_tree__min_samples_leaf</th>\n",
       "      <th>param_tree__max_features</th>\n",
       "      <th>param_tree__max_depth</th>\n",
       "      <th>param_tree__criterion</th>\n",
       "      <th>params</th>\n",
       "      <th>...</th>\n",
       "      <th>std_test_r2</th>\n",
       "      <th>rank_test_r2</th>\n",
       "      <th>split0_test_neg_root_mean_squared_error</th>\n",
       "      <th>split1_test_neg_root_mean_squared_error</th>\n",
       "      <th>split2_test_neg_root_mean_squared_error</th>\n",
       "      <th>split3_test_neg_root_mean_squared_error</th>\n",
       "      <th>split4_test_neg_root_mean_squared_error</th>\n",
       "      <th>mean_test_neg_root_mean_squared_error</th>\n",
       "      <th>std_test_neg_root_mean_squared_error</th>\n",
       "      <th>rank_test_neg_root_mean_squared_error</th>\n",
       "    </tr>\n",
       "  </thead>\n",
       "  <tbody>\n",
       "    <tr>\n",
       "      <th>6</th>\n",
       "      <td>84.608612</td>\n",
       "      <td>9.707482</td>\n",
       "      <td>6.210377</td>\n",
       "      <td>1.502562</td>\n",
       "      <td>50</td>\n",
       "      <td>100</td>\n",
       "      <td>log2</td>\n",
       "      <td>10</td>\n",
       "      <td>mse</td>\n",
       "      <td>{'tree__min_samples_split': 50, 'tree__min_sam...</td>\n",
       "      <td>...</td>\n",
       "      <td>0.015772</td>\n",
       "      <td>5</td>\n",
       "      <td>-86.582035</td>\n",
       "      <td>-69.502612</td>\n",
       "      <td>-61.726951</td>\n",
       "      <td>-67.327202</td>\n",
       "      <td>-55.903973</td>\n",
       "      <td>-68.208555</td>\n",
       "      <td>10.329086</td>\n",
       "      <td>6</td>\n",
       "    </tr>\n",
       "    <tr>\n",
       "      <th>7</th>\n",
       "      <td>178.413115</td>\n",
       "      <td>9.101852</td>\n",
       "      <td>4.666100</td>\n",
       "      <td>0.209530</td>\n",
       "      <td>50</td>\n",
       "      <td>30</td>\n",
       "      <td>None</td>\n",
       "      <td>10</td>\n",
       "      <td>mse</td>\n",
       "      <td>{'tree__min_samples_split': 50, 'tree__min_sam...</td>\n",
       "      <td>...</td>\n",
       "      <td>0.017522</td>\n",
       "      <td>1</td>\n",
       "      <td>-84.386796</td>\n",
       "      <td>-68.337727</td>\n",
       "      <td>-61.919314</td>\n",
       "      <td>-67.862211</td>\n",
       "      <td>-56.863729</td>\n",
       "      <td>-67.873955</td>\n",
       "      <td>9.269002</td>\n",
       "      <td>1</td>\n",
       "    </tr>\n",
       "    <tr>\n",
       "      <th>8</th>\n",
       "      <td>217.496099</td>\n",
       "      <td>11.545997</td>\n",
       "      <td>4.767680</td>\n",
       "      <td>0.528180</td>\n",
       "      <td>5</td>\n",
       "      <td>100</td>\n",
       "      <td>None</td>\n",
       "      <td>20</td>\n",
       "      <td>mse</td>\n",
       "      <td>{'tree__min_samples_split': 5, 'tree__min_samp...</td>\n",
       "      <td>...</td>\n",
       "      <td>0.007800</td>\n",
       "      <td>3</td>\n",
       "      <td>-85.796761</td>\n",
       "      <td>-68.706170</td>\n",
       "      <td>-61.507549</td>\n",
       "      <td>-67.440552</td>\n",
       "      <td>-56.494466</td>\n",
       "      <td>-67.989100</td>\n",
       "      <td>9.920332</td>\n",
       "      <td>3</td>\n",
       "    </tr>\n",
       "    <tr>\n",
       "      <th>13</th>\n",
       "      <td>212.562081</td>\n",
       "      <td>16.824093</td>\n",
       "      <td>4.036405</td>\n",
       "      <td>0.447493</td>\n",
       "      <td>40</td>\n",
       "      <td>100</td>\n",
       "      <td>None</td>\n",
       "      <td>50</td>\n",
       "      <td>mse</td>\n",
       "      <td>{'tree__min_samples_split': 40, 'tree__min_sam...</td>\n",
       "      <td>...</td>\n",
       "      <td>0.007800</td>\n",
       "      <td>2</td>\n",
       "      <td>-85.796720</td>\n",
       "      <td>-68.706170</td>\n",
       "      <td>-61.507571</td>\n",
       "      <td>-67.440555</td>\n",
       "      <td>-56.494466</td>\n",
       "      <td>-67.989096</td>\n",
       "      <td>9.920315</td>\n",
       "      <td>2</td>\n",
       "    </tr>\n",
       "    <tr>\n",
       "      <th>14</th>\n",
       "      <td>165.105033</td>\n",
       "      <td>42.882446</td>\n",
       "      <td>2.617595</td>\n",
       "      <td>0.725113</td>\n",
       "      <td>50</td>\n",
       "      <td>30</td>\n",
       "      <td>None</td>\n",
       "      <td>20</td>\n",
       "      <td>mse</td>\n",
       "      <td>{'tree__min_samples_split': 50, 'tree__min_sam...</td>\n",
       "      <td>...</td>\n",
       "      <td>0.017682</td>\n",
       "      <td>4</td>\n",
       "      <td>-84.619476</td>\n",
       "      <td>-68.493799</td>\n",
       "      <td>-62.154031</td>\n",
       "      <td>-68.082234</td>\n",
       "      <td>-56.960312</td>\n",
       "      <td>-68.061970</td>\n",
       "      <td>9.300413</td>\n",
       "      <td>4</td>\n",
       "    </tr>\n",
       "  </tbody>\n",
       "</table>\n",
       "<p>5 rows × 26 columns</p>\n",
       "</div>"
      ],
      "text/plain": [
       "    mean_fit_time  std_fit_time  mean_score_time  std_score_time  \\\n",
       "6       84.608612      9.707482         6.210377        1.502562   \n",
       "7      178.413115      9.101852         4.666100        0.209530   \n",
       "8      217.496099     11.545997         4.767680        0.528180   \n",
       "13     212.562081     16.824093         4.036405        0.447493   \n",
       "14     165.105033     42.882446         2.617595        0.725113   \n",
       "\n",
       "   param_tree__min_samples_split param_tree__min_samples_leaf  \\\n",
       "6                             50                          100   \n",
       "7                             50                           30   \n",
       "8                              5                          100   \n",
       "13                            40                          100   \n",
       "14                            50                           30   \n",
       "\n",
       "   param_tree__max_features param_tree__max_depth param_tree__criterion  \\\n",
       "6                      log2                    10                   mse   \n",
       "7                      None                    10                   mse   \n",
       "8                      None                    20                   mse   \n",
       "13                     None                    50                   mse   \n",
       "14                     None                    20                   mse   \n",
       "\n",
       "                                               params  ...  std_test_r2  \\\n",
       "6   {'tree__min_samples_split': 50, 'tree__min_sam...  ...     0.015772   \n",
       "7   {'tree__min_samples_split': 50, 'tree__min_sam...  ...     0.017522   \n",
       "8   {'tree__min_samples_split': 5, 'tree__min_samp...  ...     0.007800   \n",
       "13  {'tree__min_samples_split': 40, 'tree__min_sam...  ...     0.007800   \n",
       "14  {'tree__min_samples_split': 50, 'tree__min_sam...  ...     0.017682   \n",
       "\n",
       "    rank_test_r2  split0_test_neg_root_mean_squared_error  \\\n",
       "6              5                               -86.582035   \n",
       "7              1                               -84.386796   \n",
       "8              3                               -85.796761   \n",
       "13             2                               -85.796720   \n",
       "14             4                               -84.619476   \n",
       "\n",
       "    split1_test_neg_root_mean_squared_error  \\\n",
       "6                                -69.502612   \n",
       "7                                -68.337727   \n",
       "8                                -68.706170   \n",
       "13                               -68.706170   \n",
       "14                               -68.493799   \n",
       "\n",
       "    split2_test_neg_root_mean_squared_error  \\\n",
       "6                                -61.726951   \n",
       "7                                -61.919314   \n",
       "8                                -61.507549   \n",
       "13                               -61.507571   \n",
       "14                               -62.154031   \n",
       "\n",
       "    split3_test_neg_root_mean_squared_error  \\\n",
       "6                                -67.327202   \n",
       "7                                -67.862211   \n",
       "8                                -67.440552   \n",
       "13                               -67.440555   \n",
       "14                               -68.082234   \n",
       "\n",
       "    split4_test_neg_root_mean_squared_error  \\\n",
       "6                                -55.903973   \n",
       "7                                -56.863729   \n",
       "8                                -56.494466   \n",
       "13                               -56.494466   \n",
       "14                               -56.960312   \n",
       "\n",
       "    mean_test_neg_root_mean_squared_error  \\\n",
       "6                              -68.208555   \n",
       "7                              -67.873955   \n",
       "8                              -67.989100   \n",
       "13                             -67.989096   \n",
       "14                             -68.061970   \n",
       "\n",
       "    std_test_neg_root_mean_squared_error  \\\n",
       "6                              10.329086   \n",
       "7                               9.269002   \n",
       "8                               9.920332   \n",
       "13                              9.920315   \n",
       "14                              9.300413   \n",
       "\n",
       "    rank_test_neg_root_mean_squared_error  \n",
       "6                                       6  \n",
       "7                                       1  \n",
       "8                                       3  \n",
       "13                                      2  \n",
       "14                                      4  \n",
       "\n",
       "[5 rows x 26 columns]"
      ]
     },
     "execution_count": 24,
     "metadata": {},
     "output_type": "execute_result"
    }
   ],
   "source": [
    "gridsearch_tree_df = pd.DataFrame.from_dict(gridsearch_tree.cv_results_)\n",
    "gridsearch_tree_df.loc[gridsearch_tree_df['rank_test_r2'] < 6]"
   ]
  },
  {
   "cell_type": "markdown",
   "metadata": {},
   "source": [
    "Here we can see that our 'best' parameters in terms of R-Squared also achieve the lowest RMSE.\n",
    "\n",
    "Other trends to note:\n",
    "* min_samples_split is generally at the higher end of the possible range for the highest ranked hyperparameters.\n",
    "* max_features is None for most of the highest ranked hyperparameters\n",
    "* max_depth is mostly in the 10-20 range.\n",
    "* min_samples_leaf is 30 or 100 for each of the top 5 ranked models.\n",
    "\n",
    "Next we will use this information to tailor our list of possible hyperparameters and tune again."
   ]
  },
  {
   "cell_type": "markdown",
   "metadata": {},
   "source": [
    "# 2nd Iteration - Tuned Decision Tree Model"
   ]
  },
  {
   "cell_type": "markdown",
   "metadata": {},
   "source": [
    "Here we adjust the grid parameters based on the results of the first model."
   ]
  },
  {
   "cell_type": "code",
   "execution_count": 25,
   "metadata": {},
   "outputs": [],
   "source": [
    "# Create the grid parameter\n",
    "grid_tree2 = [{'tree__max_depth': [10, 15, 20, 25, 30], \n",
    "             'tree__min_samples_split': [40, 50, 60, 70, 100],\n",
    "             'tree__min_samples_leaf': [25, 40, 50, 50, 75, 100],\n",
    "             'tree__criterion': ['mse'],\n",
    "             'tree__max_features': [None]\n",
    "             }]\n",
    "\n",
    "# Create the grid, with \"pipe\" as the estimator\n",
    "gridsearch_tree2 = RandomizedSearchCV(estimator=pipe_tree, \n",
    "                          param_distributions=grid_tree2, \n",
    "                          scoring=['r2', 'neg_root_mean_squared_error'], #Include RMSE in Results\n",
    "                          refit='r2', #Choose best model based on R^2\n",
    "                          cv=5,\n",
    "                          n_iter=15,\n",
    "                          n_jobs=-1,\n",
    "                          verbose=8)"
   ]
  },
  {
   "cell_type": "code",
   "execution_count": 26,
   "metadata": {},
   "outputs": [
    {
     "name": "stdout",
     "output_type": "stream",
     "text": [
      "Fitting 5 folds for each of 15 candidates, totalling 75 fits\n"
     ]
    },
    {
     "name": "stderr",
     "output_type": "stream",
     "text": [
      "[Parallel(n_jobs=-1)]: Using backend LokyBackend with 8 concurrent workers.\n",
      "[Parallel(n_jobs=-1)]: Done   2 tasks      | elapsed:  2.8min\n",
      "[Parallel(n_jobs=-1)]: Done  25 tasks      | elapsed:  8.7min\n",
      "[Parallel(n_jobs=-1)]: Done  56 tasks      | elapsed: 15.4min\n",
      "[Parallel(n_jobs=-1)]: Done  70 out of  75 | elapsed: 18.5min remaining:  1.3min\n",
      "[Parallel(n_jobs=-1)]: Done  75 out of  75 | elapsed: 19.5min finished\n"
     ]
    },
    {
     "data": {
      "text/plain": [
       "RandomizedSearchCV(cv=5,\n",
       "                   estimator=Pipeline(steps=[('scl', StandardScaler()),\n",
       "                                             ('pca', PCA(n_components=0.9)),\n",
       "                                             ('tree',\n",
       "                                              DecisionTreeRegressor(random_state=70))]),\n",
       "                   n_iter=15, n_jobs=-1,\n",
       "                   param_distributions=[{'tree__criterion': ['mse'],\n",
       "                                         'tree__max_depth': [10, 15, 20, 25,\n",
       "                                                             30],\n",
       "                                         'tree__max_features': [None],\n",
       "                                         'tree__min_samples_leaf': [25, 40, 50,\n",
       "                                                                    50, 75,\n",
       "                                                                    100],\n",
       "                                         'tree__min_samples_split': [40, 50, 60,\n",
       "                                                                     70,\n",
       "                                                                     100]}],\n",
       "                   refit='r2', scoring=['r2', 'neg_root_mean_squared_error'],\n",
       "                   verbose=8)"
      ]
     },
     "execution_count": 26,
     "metadata": {},
     "output_type": "execute_result"
    }
   ],
   "source": [
    "gridsearch_tree2.fit(X_train_ohe, y_train)"
   ]
  },
  {
   "cell_type": "code",
   "execution_count": 59,
   "metadata": {},
   "outputs": [
    {
     "data": {
      "text/plain": [
       "['gridsearch_tree2.joblib']"
      ]
     },
     "execution_count": 59,
     "metadata": {},
     "output_type": "execute_result"
    }
   ],
   "source": [
    "#Save the model\n",
    "dump(gridsearch_tree2, 'gridsearch_tree2.joblib') "
   ]
  },
  {
   "cell_type": "code",
   "execution_count": 27,
   "metadata": {},
   "outputs": [
    {
     "data": {
      "text/plain": [
       "{'tree__min_samples_split': 50,\n",
       " 'tree__min_samples_leaf': 25,\n",
       " 'tree__max_features': None,\n",
       " 'tree__max_depth': 10,\n",
       " 'tree__criterion': 'mse'}"
      ]
     },
     "execution_count": 27,
     "metadata": {},
     "output_type": "execute_result"
    }
   ],
   "source": [
    "gridsearch_tree2.best_params_"
   ]
  },
  {
   "cell_type": "markdown",
   "metadata": {},
   "source": [
    "The score has improved, but is still not at the same level as the KNN model."
   ]
  },
  {
   "cell_type": "code",
   "execution_count": 28,
   "metadata": {},
   "outputs": [
    {
     "data": {
      "text/plain": [
       "0.10214052833658269"
      ]
     },
     "execution_count": 28,
     "metadata": {},
     "output_type": "execute_result"
    }
   ],
   "source": [
    "gridsearch_tree2.best_score_"
   ]
  },
  {
   "cell_type": "code",
   "execution_count": 29,
   "metadata": {},
   "outputs": [
    {
     "data": {
      "text/html": [
       "<div>\n",
       "<style scoped>\n",
       "    .dataframe tbody tr th:only-of-type {\n",
       "        vertical-align: middle;\n",
       "    }\n",
       "\n",
       "    .dataframe tbody tr th {\n",
       "        vertical-align: top;\n",
       "    }\n",
       "\n",
       "    .dataframe thead th {\n",
       "        text-align: right;\n",
       "    }\n",
       "</style>\n",
       "<table border=\"1\" class=\"dataframe\">\n",
       "  <thead>\n",
       "    <tr style=\"text-align: right;\">\n",
       "      <th></th>\n",
       "      <th>mean_fit_time</th>\n",
       "      <th>std_fit_time</th>\n",
       "      <th>mean_score_time</th>\n",
       "      <th>std_score_time</th>\n",
       "      <th>param_tree__min_samples_split</th>\n",
       "      <th>param_tree__min_samples_leaf</th>\n",
       "      <th>param_tree__max_features</th>\n",
       "      <th>param_tree__max_depth</th>\n",
       "      <th>param_tree__criterion</th>\n",
       "      <th>params</th>\n",
       "      <th>...</th>\n",
       "      <th>std_test_r2</th>\n",
       "      <th>rank_test_r2</th>\n",
       "      <th>split0_test_neg_root_mean_squared_error</th>\n",
       "      <th>split1_test_neg_root_mean_squared_error</th>\n",
       "      <th>split2_test_neg_root_mean_squared_error</th>\n",
       "      <th>split3_test_neg_root_mean_squared_error</th>\n",
       "      <th>split4_test_neg_root_mean_squared_error</th>\n",
       "      <th>mean_test_neg_root_mean_squared_error</th>\n",
       "      <th>std_test_neg_root_mean_squared_error</th>\n",
       "      <th>rank_test_neg_root_mean_squared_error</th>\n",
       "    </tr>\n",
       "  </thead>\n",
       "  <tbody>\n",
       "    <tr>\n",
       "      <th>0</th>\n",
       "      <td>160.721360</td>\n",
       "      <td>0.866581</td>\n",
       "      <td>2.789838</td>\n",
       "      <td>0.067428</td>\n",
       "      <td>100</td>\n",
       "      <td>25</td>\n",
       "      <td>None</td>\n",
       "      <td>15</td>\n",
       "      <td>mse</td>\n",
       "      <td>{'tree__min_samples_split': 100, 'tree__min_sa...</td>\n",
       "      <td>...</td>\n",
       "      <td>0.025763</td>\n",
       "      <td>5</td>\n",
       "      <td>-84.423167</td>\n",
       "      <td>-68.323677</td>\n",
       "      <td>-60.949473</td>\n",
       "      <td>-67.625181</td>\n",
       "      <td>-57.712221</td>\n",
       "      <td>-67.806744</td>\n",
       "      <td>9.223093</td>\n",
       "      <td>5</td>\n",
       "    </tr>\n",
       "    <tr>\n",
       "      <th>1</th>\n",
       "      <td>150.488482</td>\n",
       "      <td>16.630706</td>\n",
       "      <td>2.791974</td>\n",
       "      <td>0.149412</td>\n",
       "      <td>50</td>\n",
       "      <td>75</td>\n",
       "      <td>None</td>\n",
       "      <td>25</td>\n",
       "      <td>mse</td>\n",
       "      <td>{'tree__min_samples_split': 50, 'tree__min_sam...</td>\n",
       "      <td>...</td>\n",
       "      <td>0.013869</td>\n",
       "      <td>2</td>\n",
       "      <td>-85.203881</td>\n",
       "      <td>-68.827723</td>\n",
       "      <td>-61.501614</td>\n",
       "      <td>-66.864987</td>\n",
       "      <td>-56.544852</td>\n",
       "      <td>-67.788611</td>\n",
       "      <td>9.707450</td>\n",
       "      <td>2</td>\n",
       "    </tr>\n",
       "    <tr>\n",
       "      <th>7</th>\n",
       "      <td>116.154980</td>\n",
       "      <td>14.068190</td>\n",
       "      <td>2.832764</td>\n",
       "      <td>0.216005</td>\n",
       "      <td>100</td>\n",
       "      <td>75</td>\n",
       "      <td>None</td>\n",
       "      <td>30</td>\n",
       "      <td>mse</td>\n",
       "      <td>{'tree__min_samples_split': 100, 'tree__min_sa...</td>\n",
       "      <td>...</td>\n",
       "      <td>0.013869</td>\n",
       "      <td>2</td>\n",
       "      <td>-85.203881</td>\n",
       "      <td>-68.827723</td>\n",
       "      <td>-61.501614</td>\n",
       "      <td>-66.864987</td>\n",
       "      <td>-56.544852</td>\n",
       "      <td>-67.788611</td>\n",
       "      <td>9.707450</td>\n",
       "      <td>2</td>\n",
       "    </tr>\n",
       "    <tr>\n",
       "      <th>8</th>\n",
       "      <td>81.416739</td>\n",
       "      <td>1.667214</td>\n",
       "      <td>2.990481</td>\n",
       "      <td>0.345178</td>\n",
       "      <td>50</td>\n",
       "      <td>25</td>\n",
       "      <td>None</td>\n",
       "      <td>10</td>\n",
       "      <td>mse</td>\n",
       "      <td>{'tree__min_samples_split': 50, 'tree__min_sam...</td>\n",
       "      <td>...</td>\n",
       "      <td>0.047372</td>\n",
       "      <td>1</td>\n",
       "      <td>-80.948403</td>\n",
       "      <td>-68.371313</td>\n",
       "      <td>-60.770486</td>\n",
       "      <td>-67.554064</td>\n",
       "      <td>-57.815141</td>\n",
       "      <td>-67.091881</td>\n",
       "      <td>7.998396</td>\n",
       "      <td>1</td>\n",
       "    </tr>\n",
       "    <tr>\n",
       "      <th>13</th>\n",
       "      <td>100.158337</td>\n",
       "      <td>3.901560</td>\n",
       "      <td>2.630342</td>\n",
       "      <td>0.475071</td>\n",
       "      <td>40</td>\n",
       "      <td>75</td>\n",
       "      <td>None</td>\n",
       "      <td>15</td>\n",
       "      <td>mse</td>\n",
       "      <td>{'tree__min_samples_split': 40, 'tree__min_sam...</td>\n",
       "      <td>...</td>\n",
       "      <td>0.013892</td>\n",
       "      <td>4</td>\n",
       "      <td>-85.194629</td>\n",
       "      <td>-68.840183</td>\n",
       "      <td>-61.501646</td>\n",
       "      <td>-66.864986</td>\n",
       "      <td>-56.541874</td>\n",
       "      <td>-67.788663</td>\n",
       "      <td>9.705085</td>\n",
       "      <td>4</td>\n",
       "    </tr>\n",
       "  </tbody>\n",
       "</table>\n",
       "<p>5 rows × 26 columns</p>\n",
       "</div>"
      ],
      "text/plain": [
       "    mean_fit_time  std_fit_time  mean_score_time  std_score_time  \\\n",
       "0      160.721360      0.866581         2.789838        0.067428   \n",
       "1      150.488482     16.630706         2.791974        0.149412   \n",
       "7      116.154980     14.068190         2.832764        0.216005   \n",
       "8       81.416739      1.667214         2.990481        0.345178   \n",
       "13     100.158337      3.901560         2.630342        0.475071   \n",
       "\n",
       "   param_tree__min_samples_split param_tree__min_samples_leaf  \\\n",
       "0                            100                           25   \n",
       "1                             50                           75   \n",
       "7                            100                           75   \n",
       "8                             50                           25   \n",
       "13                            40                           75   \n",
       "\n",
       "   param_tree__max_features param_tree__max_depth param_tree__criterion  \\\n",
       "0                      None                    15                   mse   \n",
       "1                      None                    25                   mse   \n",
       "7                      None                    30                   mse   \n",
       "8                      None                    10                   mse   \n",
       "13                     None                    15                   mse   \n",
       "\n",
       "                                               params  ...  std_test_r2  \\\n",
       "0   {'tree__min_samples_split': 100, 'tree__min_sa...  ...     0.025763   \n",
       "1   {'tree__min_samples_split': 50, 'tree__min_sam...  ...     0.013869   \n",
       "7   {'tree__min_samples_split': 100, 'tree__min_sa...  ...     0.013869   \n",
       "8   {'tree__min_samples_split': 50, 'tree__min_sam...  ...     0.047372   \n",
       "13  {'tree__min_samples_split': 40, 'tree__min_sam...  ...     0.013892   \n",
       "\n",
       "    rank_test_r2  split0_test_neg_root_mean_squared_error  \\\n",
       "0              5                               -84.423167   \n",
       "1              2                               -85.203881   \n",
       "7              2                               -85.203881   \n",
       "8              1                               -80.948403   \n",
       "13             4                               -85.194629   \n",
       "\n",
       "    split1_test_neg_root_mean_squared_error  \\\n",
       "0                                -68.323677   \n",
       "1                                -68.827723   \n",
       "7                                -68.827723   \n",
       "8                                -68.371313   \n",
       "13                               -68.840183   \n",
       "\n",
       "    split2_test_neg_root_mean_squared_error  \\\n",
       "0                                -60.949473   \n",
       "1                                -61.501614   \n",
       "7                                -61.501614   \n",
       "8                                -60.770486   \n",
       "13                               -61.501646   \n",
       "\n",
       "    split3_test_neg_root_mean_squared_error  \\\n",
       "0                                -67.625181   \n",
       "1                                -66.864987   \n",
       "7                                -66.864987   \n",
       "8                                -67.554064   \n",
       "13                               -66.864986   \n",
       "\n",
       "    split4_test_neg_root_mean_squared_error  \\\n",
       "0                                -57.712221   \n",
       "1                                -56.544852   \n",
       "7                                -56.544852   \n",
       "8                                -57.815141   \n",
       "13                               -56.541874   \n",
       "\n",
       "    mean_test_neg_root_mean_squared_error  \\\n",
       "0                              -67.806744   \n",
       "1                              -67.788611   \n",
       "7                              -67.788611   \n",
       "8                              -67.091881   \n",
       "13                             -67.788663   \n",
       "\n",
       "    std_test_neg_root_mean_squared_error  \\\n",
       "0                               9.223093   \n",
       "1                               9.707450   \n",
       "7                               9.707450   \n",
       "8                               7.998396   \n",
       "13                              9.705085   \n",
       "\n",
       "    rank_test_neg_root_mean_squared_error  \n",
       "0                                       5  \n",
       "1                                       2  \n",
       "7                                       2  \n",
       "8                                       1  \n",
       "13                                      4  \n",
       "\n",
       "[5 rows x 26 columns]"
      ]
     },
     "execution_count": 29,
     "metadata": {},
     "output_type": "execute_result"
    }
   ],
   "source": [
    "gridsearch_tree_df2 = pd.DataFrame.from_dict(gridsearch_tree2.cv_results_)\n",
    "gridsearch_tree_df2.loc[gridsearch_tree_df2['rank_test_r2'] < 6]"
   ]
  },
  {
   "cell_type": "markdown",
   "metadata": {},
   "source": [
    "The best decision tree model has an R-Squared of 10.2%.  It also has the best RMSE (67.1) of the models we tested.  This is not as accurate as the tuned KNN model, but it gives us the insight that tree-based models could be useful in modeling our data.  \n",
    "\n",
    "Based on this insight we can move on to use a Random Forest Regressor.  This model will aggregate many different Decision Trees, thus creating a more robust model that is less prone to overfitting."
   ]
  },
  {
   "cell_type": "markdown",
   "metadata": {},
   "source": [
    "# Random Forest Model"
   ]
  },
  {
   "cell_type": "markdown",
   "metadata": {},
   "source": [
    "We start with a wide range of parameters.  This will give us a good starting point, and we can further tune the model in the next iteration."
   ]
  },
  {
   "cell_type": "code",
   "execution_count": 46,
   "metadata": {},
   "outputs": [],
   "source": [
    "#Create pipeline\n",
    "pipe_forest = Pipeline([('scl', StandardScaler()),\n",
    "            ('pca', PCA(n_components=0.85)),\n",
    "            ('forest', RandomForestRegressor(random_state=70, n_jobs=-1, warm_start=True))])"
   ]
  },
  {
   "cell_type": "code",
   "execution_count": 48,
   "metadata": {},
   "outputs": [],
   "source": [
    "# Create the grid parameter\n",
    "\n",
    "#fewer values in larger range\n",
    "\n",
    "grid_forest = [{'forest__n_estimators': [50, 100, 150], #~100\n",
    "             'forest__max_depth': [1, 15, 50], \n",
    "             'forest__min_samples_split': [5, 25, 50], #try lowering\n",
    "             'forest__min_samples_leaf': [5, 25, 50], #try lowering\n",
    "             'forest__criterion': ['mse'],\n",
    "             'forest__max_features': [None],\n",
    "#              'forest__min_weight_fraction_leaf': [0, 0.1, 0.2, 0.3, 0.4], #more subtle\n",
    "#              'forest__oob_score': [False, True]\n",
    "             }]\n",
    "\n",
    "# Create the grid, with \"pipe\" as the estimator\n",
    "gridsearch_forest = RandomizedSearchCV(estimator=pipe_forest, \n",
    "                          param_distributions=grid_forest, \n",
    "                          scoring=['r2', 'neg_root_mean_squared_error'], #Include RMSE in Results\n",
    "                          refit='r2', #Choose best model based on R^2\n",
    "                          return_train_score=True, #Include training results in cv_results\n",
    "                          cv=5, #Use 5 folds in CV process\n",
    "                          n_iter=5, #Try 15 hyperparameter combinations\n",
    "                          n_jobs=-1, #Use paralell computing\n",
    "                          verbose=8) #Give updates on progress during fitting"
   ]
  },
  {
   "cell_type": "code",
   "execution_count": 49,
   "metadata": {},
   "outputs": [
    {
     "name": "stdout",
     "output_type": "stream",
     "text": [
      "Fitting 5 folds for each of 5 candidates, totalling 25 fits\n"
     ]
    },
    {
     "name": "stderr",
     "output_type": "stream",
     "text": [
      "[Parallel(n_jobs=-1)]: Using backend LokyBackend with 8 concurrent workers.\n",
      "[Parallel(n_jobs=-1)]: Done   2 tasks      | elapsed:  5.2min\n",
      "[Parallel(n_jobs=-1)]: Done  14 out of  25 | elapsed: 64.6min remaining: 50.7min\n",
      "[Parallel(n_jobs=-1)]: Done  18 out of  25 | elapsed: 143.7min remaining: 55.9min\n",
      "[Parallel(n_jobs=-1)]: Done  22 out of  25 | elapsed: 173.7min remaining: 23.7min\n",
      "[Parallel(n_jobs=-1)]: Done  25 out of  25 | elapsed: 176.0min finished\n"
     ]
    },
    {
     "data": {
      "text/plain": [
       "RandomizedSearchCV(cv=5,\n",
       "                   estimator=Pipeline(steps=[('scl', StandardScaler()),\n",
       "                                             ('pca', PCA(n_components=0.85)),\n",
       "                                             ('forest',\n",
       "                                              RandomForestRegressor(n_jobs=-1,\n",
       "                                                                    random_state=70,\n",
       "                                                                    warm_start=True))]),\n",
       "                   n_iter=5, n_jobs=-1,\n",
       "                   param_distributions=[{'forest__criterion': ['mse'],\n",
       "                                         'forest__max_depth': [1, 15, 50],\n",
       "                                         'forest__max_features': [None],\n",
       "                                         'forest__min_samples_leaf': [5, 25,\n",
       "                                                                      50],\n",
       "                                         'forest__min_samples_split': [5, 25,\n",
       "                                                                       50],\n",
       "                                         'forest__n_estimators': [50, 100,\n",
       "                                                                  150]}],\n",
       "                   refit='r2', return_train_score=True,\n",
       "                   scoring=['r2', 'neg_root_mean_squared_error'], verbose=8)"
      ]
     },
     "execution_count": 49,
     "metadata": {},
     "output_type": "execute_result"
    }
   ],
   "source": [
    "gridsearch_forest.fit(X_train_ohe, y_train)"
   ]
  },
  {
   "cell_type": "code",
   "execution_count": 50,
   "metadata": {},
   "outputs": [
    {
     "data": {
      "text/plain": [
       "{'forest__n_estimators': 100,\n",
       " 'forest__min_samples_split': 25,\n",
       " 'forest__min_samples_leaf': 50,\n",
       " 'forest__max_features': None,\n",
       " 'forest__max_depth': 15,\n",
       " 'forest__criterion': 'mse'}"
      ]
     },
     "execution_count": 50,
     "metadata": {},
     "output_type": "execute_result"
    }
   ],
   "source": [
    "gridsearch_forest.best_params_"
   ]
  },
  {
   "cell_type": "code",
   "execution_count": 51,
   "metadata": {},
   "outputs": [
    {
     "data": {
      "text/plain": [
       "0.11946150306035266"
      ]
     },
     "execution_count": 51,
     "metadata": {},
     "output_type": "execute_result"
    }
   ],
   "source": [
    "gridsearch_forest.best_score_"
   ]
  },
  {
   "cell_type": "markdown",
   "metadata": {},
   "source": [
    "Our best model had hyperparameters that were in the middle ranges of our gridsearch.  Additionally, our result improved on the R-Squared score from our Decision Tree.  Now we will take a look at our best RF models so that we can decide how to proceed."
   ]
  },
  {
   "cell_type": "code",
   "execution_count": 58,
   "metadata": {},
   "outputs": [
    {
     "data": {
      "text/plain": [
       "['gridsearch_forest.joblib']"
      ]
     },
     "execution_count": 58,
     "metadata": {},
     "output_type": "execute_result"
    }
   ],
   "source": [
    "#Save the model\n",
    "dump(gridsearch_forest, 'gridsearch_forest.joblib') "
   ]
  },
  {
   "cell_type": "markdown",
   "metadata": {},
   "source": [
    "Now take a look at our top performing models."
   ]
  },
  {
   "cell_type": "code",
   "execution_count": 54,
   "metadata": {},
   "outputs": [],
   "source": [
    "gridsearch_forest_df = pd.DataFrame.from_dict(gridsearch_forest.cv_results_)\n",
    "best_models = gridsearch_forest_df.loc[gridsearch_forest_df['rank_test_r2'] < 6]"
   ]
  },
  {
   "cell_type": "code",
   "execution_count": 57,
   "metadata": {},
   "outputs": [
    {
     "data": {
      "text/html": [
       "<div>\n",
       "<style scoped>\n",
       "    .dataframe tbody tr th:only-of-type {\n",
       "        vertical-align: middle;\n",
       "    }\n",
       "\n",
       "    .dataframe tbody tr th {\n",
       "        vertical-align: top;\n",
       "    }\n",
       "\n",
       "    .dataframe thead th {\n",
       "        text-align: right;\n",
       "    }\n",
       "</style>\n",
       "<table border=\"1\" class=\"dataframe\">\n",
       "  <thead>\n",
       "    <tr style=\"text-align: right;\">\n",
       "      <th></th>\n",
       "      <th>params</th>\n",
       "      <th>rank_test_r2</th>\n",
       "      <th>mean_test_r2</th>\n",
       "      <th>mean_train_r2</th>\n",
       "      <th>rank_test_neg_root_mean_squared_error</th>\n",
       "      <th>mean_test_neg_root_mean_squared_error</th>\n",
       "      <th>mean_train_neg_root_mean_squared_error</th>\n",
       "    </tr>\n",
       "  </thead>\n",
       "  <tbody>\n",
       "    <tr>\n",
       "      <th>0</th>\n",
       "      <td>{'forest__n_estimators': 50, 'forest__min_samp...</td>\n",
       "      <td>5</td>\n",
       "      <td>0.044957</td>\n",
       "      <td>0.044415</td>\n",
       "      <td>5</td>\n",
       "      <td>-69.520763</td>\n",
       "      <td>-70.181720</td>\n",
       "    </tr>\n",
       "    <tr>\n",
       "      <th>1</th>\n",
       "      <td>{'forest__n_estimators': 50, 'forest__min_samp...</td>\n",
       "      <td>2</td>\n",
       "      <td>0.118616</td>\n",
       "      <td>0.162620</td>\n",
       "      <td>2</td>\n",
       "      <td>-66.787437</td>\n",
       "      <td>-65.700502</td>\n",
       "    </tr>\n",
       "    <tr>\n",
       "      <th>2</th>\n",
       "      <td>{'forest__n_estimators': 150, 'forest__min_sam...</td>\n",
       "      <td>3</td>\n",
       "      <td>0.088677</td>\n",
       "      <td>0.328945</td>\n",
       "      <td>3</td>\n",
       "      <td>-67.685725</td>\n",
       "      <td>-58.832197</td>\n",
       "    </tr>\n",
       "    <tr>\n",
       "      <th>3</th>\n",
       "      <td>{'forest__n_estimators': 100, 'forest__min_sam...</td>\n",
       "      <td>4</td>\n",
       "      <td>0.046769</td>\n",
       "      <td>0.046580</td>\n",
       "      <td>4</td>\n",
       "      <td>-69.461542</td>\n",
       "      <td>-70.100726</td>\n",
       "    </tr>\n",
       "    <tr>\n",
       "      <th>4</th>\n",
       "      <td>{'forest__n_estimators': 100, 'forest__min_sam...</td>\n",
       "      <td>1</td>\n",
       "      <td>0.119462</td>\n",
       "      <td>0.163623</td>\n",
       "      <td>1</td>\n",
       "      <td>-66.762830</td>\n",
       "      <td>-65.659199</td>\n",
       "    </tr>\n",
       "  </tbody>\n",
       "</table>\n",
       "</div>"
      ],
      "text/plain": [
       "                                              params  rank_test_r2  \\\n",
       "0  {'forest__n_estimators': 50, 'forest__min_samp...             5   \n",
       "1  {'forest__n_estimators': 50, 'forest__min_samp...             2   \n",
       "2  {'forest__n_estimators': 150, 'forest__min_sam...             3   \n",
       "3  {'forest__n_estimators': 100, 'forest__min_sam...             4   \n",
       "4  {'forest__n_estimators': 100, 'forest__min_sam...             1   \n",
       "\n",
       "   mean_test_r2  mean_train_r2  rank_test_neg_root_mean_squared_error  \\\n",
       "0      0.044957       0.044415                                      5   \n",
       "1      0.118616       0.162620                                      2   \n",
       "2      0.088677       0.328945                                      3   \n",
       "3      0.046769       0.046580                                      4   \n",
       "4      0.119462       0.163623                                      1   \n",
       "\n",
       "   mean_test_neg_root_mean_squared_error  \\\n",
       "0                             -69.520763   \n",
       "1                             -66.787437   \n",
       "2                             -67.685725   \n",
       "3                             -69.461542   \n",
       "4                             -66.762830   \n",
       "\n",
       "   mean_train_neg_root_mean_squared_error  \n",
       "0                              -70.181720  \n",
       "1                              -65.700502  \n",
       "2                              -58.832197  \n",
       "3                              -70.100726  \n",
       "4                              -65.659199  "
      ]
     },
     "execution_count": 57,
     "metadata": {},
     "output_type": "execute_result"
    }
   ],
   "source": [
    "best_models[['params', 'rank_test_r2','mean_test_r2', 'mean_train_r2', 'rank_test_neg_root_mean_squared_error','mean_test_neg_root_mean_squared_error', 'mean_train_neg_root_mean_squared_error']]"
   ]
  },
  {
   "cell_type": "markdown",
   "metadata": {},
   "source": [
    "Comparison between the mean train and mean test scores in the table above shows us that our model is overfitting to the training data a bit.  We'll keep this in mind when coming up with the parameters for our next iteration of tuning the model."
   ]
  },
  {
   "cell_type": "code",
   "execution_count": 62,
   "metadata": {},
   "outputs": [
    {
     "data": {
      "text/plain": [
       "{'forest__n_estimators': 100,\n",
       " 'forest__min_samples_split': 25,\n",
       " 'forest__min_samples_leaf': 50,\n",
       " 'forest__max_features': None,\n",
       " 'forest__max_depth': 15,\n",
       " 'forest__criterion': 'mse'}"
      ]
     },
     "execution_count": 62,
     "metadata": {},
     "output_type": "execute_result"
    }
   ],
   "source": [
    "best_models['params'][4]"
   ]
  },
  {
   "cell_type": "code",
   "execution_count": 63,
   "metadata": {},
   "outputs": [
    {
     "data": {
      "text/plain": [
       "{'forest__n_estimators': 50,\n",
       " 'forest__min_samples_split': 25,\n",
       " 'forest__min_samples_leaf': 50,\n",
       " 'forest__max_features': None,\n",
       " 'forest__max_depth': 50,\n",
       " 'forest__criterion': 'mse'}"
      ]
     },
     "execution_count": 63,
     "metadata": {},
     "output_type": "execute_result"
    }
   ],
   "source": [
    "best_models['params'][1]"
   ]
  },
  {
   "cell_type": "markdown",
   "metadata": {},
   "source": [
    "Our 2 best models had scores far above our other models.  We'll use the parameters for these models to narrow in on our choices for our next iteration.\n",
    "*  'min_samples_split': 25\n",
    "*  'min_samples_leaf': 50\n",
    "*  'n_estimators' between 50-100\n",
    "*  'max_depth between 15 and 50"
   ]
  },
  {
   "cell_type": "markdown",
   "metadata": {},
   "source": [
    "# 2nd Random Forest Model"
   ]
  },
  {
   "cell_type": "markdown",
   "metadata": {},
   "source": [
    "Here we tune another iteration of a Random Forest model.  We use values in a closer range around the successful values from the previous top-ranked models.  Additionally we consider using higher min_samples parameters to prune the tree and prevent overfitting to the training data."
   ]
  },
  {
   "cell_type": "code",
   "execution_count": 65,
   "metadata": {},
   "outputs": [],
   "source": [
    "# Create the grid parameter\n",
    "grid_forest2 = [{'forest__n_estimators': [60, 80, 100], \n",
    "             'forest__max_depth': [15, 25, 40, 50], \n",
    "             'forest__min_samples_split': [20, 25, 30], \n",
    "             'forest__min_samples_leaf': [40, 50, 60],\n",
    "             'forest__criterion': ['mse'],\n",
    "             'forest__max_features': [None]\n",
    "             }]\n",
    "\n",
    "# Create the grid, with \"pipe\" as the estimator\n",
    "gridsearch_forest2 = RandomizedSearchCV(estimator=pipe_forest, \n",
    "                          param_distributions=grid_forest2, \n",
    "                          scoring=['r2', 'neg_root_mean_squared_error'], #Include RMSE in Results\n",
    "                          refit='r2', #Choose best model based on R^2\n",
    "                          return_train_score=True, #Include training results in cv_results\n",
    "                          cv=5, #Use 5 folds in CV process\n",
    "                          n_iter=5, #Try 5 hyperparameter combinations\n",
    "                          n_jobs=-1, #Use paralell computing\n",
    "                          verbose=8) #Give updates on progress during fitting"
   ]
  },
  {
   "cell_type": "code",
   "execution_count": 66,
   "metadata": {},
   "outputs": [
    {
     "name": "stdout",
     "output_type": "stream",
     "text": [
      "Fitting 5 folds for each of 5 candidates, totalling 25 fits\n"
     ]
    },
    {
     "name": "stderr",
     "output_type": "stream",
     "text": [
      "[Parallel(n_jobs=-1)]: Using backend LokyBackend with 8 concurrent workers.\n",
      "[Parallel(n_jobs=-1)]: Done   2 tasks      | elapsed: 65.1min\n",
      "[Parallel(n_jobs=-1)]: Done  14 out of  25 | elapsed: 135.0min remaining: 106.1min\n",
      "[Parallel(n_jobs=-1)]: Done  18 out of  25 | elapsed: 175.1min remaining: 68.1min\n",
      "[Parallel(n_jobs=-1)]: Done  22 out of  25 | elapsed: 183.9min remaining: 25.1min\n",
      "[Parallel(n_jobs=-1)]: Done  25 out of  25 | elapsed: 188.0min finished\n"
     ]
    },
    {
     "data": {
      "text/plain": [
       "RandomizedSearchCV(cv=5,\n",
       "                   estimator=Pipeline(steps=[('scl', StandardScaler()),\n",
       "                                             ('pca', PCA(n_components=0.85)),\n",
       "                                             ('forest',\n",
       "                                              RandomForestRegressor(n_jobs=-1,\n",
       "                                                                    random_state=70,\n",
       "                                                                    warm_start=True))]),\n",
       "                   n_iter=5, n_jobs=-1,\n",
       "                   param_distributions=[{'forest__criterion': ['mse'],\n",
       "                                         'forest__max_depth': [15, 25, 40, 50],\n",
       "                                         'forest__max_features': [None],\n",
       "                                         'forest__min_samples_leaf': [40, 50,\n",
       "                                                                      60],\n",
       "                                         'forest__min_samples_split': [20, 25,\n",
       "                                                                       30],\n",
       "                                         'forest__n_estimators': [60, 80,\n",
       "                                                                  100]}],\n",
       "                   refit='r2', return_train_score=True,\n",
       "                   scoring=['r2', 'neg_root_mean_squared_error'], verbose=8)"
      ]
     },
     "execution_count": 66,
     "metadata": {},
     "output_type": "execute_result"
    }
   ],
   "source": [
    "gridsearch_forest2.fit(X_train_ohe, y_train)"
   ]
  },
  {
   "cell_type": "code",
   "execution_count": 67,
   "metadata": {},
   "outputs": [
    {
     "data": {
      "text/plain": [
       "{'forest__n_estimators': 60,\n",
       " 'forest__min_samples_split': 30,\n",
       " 'forest__min_samples_leaf': 40,\n",
       " 'forest__max_features': None,\n",
       " 'forest__max_depth': 40,\n",
       " 'forest__criterion': 'mse'}"
      ]
     },
     "execution_count": 67,
     "metadata": {},
     "output_type": "execute_result"
    }
   ],
   "source": [
    "gridsearch_forest2.best_params_"
   ]
  },
  {
   "cell_type": "code",
   "execution_count": 68,
   "metadata": {},
   "outputs": [
    {
     "data": {
      "text/plain": [
       "0.12322398250039837"
      ]
     },
     "execution_count": 68,
     "metadata": {},
     "output_type": "execute_result"
    }
   ],
   "source": [
    "gridsearch_forest2.best_score_"
   ]
  },
  {
   "cell_type": "markdown",
   "metadata": {},
   "source": [
    "We've further tuned our model, however the gain to R-Squared is fairly minimal (from 11.9% to 12.3%).  "
   ]
  },
  {
   "cell_type": "code",
   "execution_count": 69,
   "metadata": {},
   "outputs": [
    {
     "data": {
      "text/plain": [
       "['gridsearch_forest2.joblib']"
      ]
     },
     "execution_count": 69,
     "metadata": {},
     "output_type": "execute_result"
    }
   ],
   "source": [
    "#Save the model\n",
    "dump(gridsearch_forest2, 'gridsearch_forest2.joblib') "
   ]
  },
  {
   "cell_type": "markdown",
   "metadata": {},
   "source": [
    "Our top model in terms of R-Squared also has the best RMSE (66.6).  The gains in performance using tree-based models are slowing, so it may be time to try a different flavor of model."
   ]
  },
  {
   "cell_type": "code",
   "execution_count": 72,
   "metadata": {},
   "outputs": [
    {
     "data": {
      "text/html": [
       "<div>\n",
       "<style scoped>\n",
       "    .dataframe tbody tr th:only-of-type {\n",
       "        vertical-align: middle;\n",
       "    }\n",
       "\n",
       "    .dataframe tbody tr th {\n",
       "        vertical-align: top;\n",
       "    }\n",
       "\n",
       "    .dataframe thead th {\n",
       "        text-align: right;\n",
       "    }\n",
       "</style>\n",
       "<table border=\"1\" class=\"dataframe\">\n",
       "  <thead>\n",
       "    <tr style=\"text-align: right;\">\n",
       "      <th></th>\n",
       "      <th>params</th>\n",
       "      <th>rank_test_r2</th>\n",
       "      <th>mean_test_r2</th>\n",
       "      <th>mean_train_r2</th>\n",
       "      <th>rank_test_neg_root_mean_squared_error</th>\n",
       "      <th>mean_test_neg_root_mean_squared_error</th>\n",
       "      <th>mean_train_neg_root_mean_squared_error</th>\n",
       "    </tr>\n",
       "  </thead>\n",
       "  <tbody>\n",
       "    <tr>\n",
       "      <th>0</th>\n",
       "      <td>{'forest__n_estimators': 60, 'forest__min_samp...</td>\n",
       "      <td>5</td>\n",
       "      <td>0.117283</td>\n",
       "      <td>0.153755</td>\n",
       "      <td>5</td>\n",
       "      <td>-66.858877</td>\n",
       "      <td>-66.047053</td>\n",
       "    </tr>\n",
       "    <tr>\n",
       "      <th>1</th>\n",
       "      <td>{'forest__n_estimators': 80, 'forest__min_samp...</td>\n",
       "      <td>2</td>\n",
       "      <td>0.122513</td>\n",
       "      <td>0.176656</td>\n",
       "      <td>2</td>\n",
       "      <td>-66.625240</td>\n",
       "      <td>-65.144953</td>\n",
       "    </tr>\n",
       "    <tr>\n",
       "      <th>2</th>\n",
       "      <td>{'forest__n_estimators': 60, 'forest__min_samp...</td>\n",
       "      <td>3</td>\n",
       "      <td>0.119174</td>\n",
       "      <td>0.162719</td>\n",
       "      <td>3</td>\n",
       "      <td>-66.769854</td>\n",
       "      <td>-65.695607</td>\n",
       "    </tr>\n",
       "    <tr>\n",
       "      <th>3</th>\n",
       "      <td>{'forest__n_estimators': 60, 'forest__min_samp...</td>\n",
       "      <td>1</td>\n",
       "      <td>0.123224</td>\n",
       "      <td>0.175657</td>\n",
       "      <td>1</td>\n",
       "      <td>-66.596075</td>\n",
       "      <td>-65.185283</td>\n",
       "    </tr>\n",
       "    <tr>\n",
       "      <th>4</th>\n",
       "      <td>{'forest__n_estimators': 60, 'forest__min_samp...</td>\n",
       "      <td>4</td>\n",
       "      <td>0.117283</td>\n",
       "      <td>0.153755</td>\n",
       "      <td>4</td>\n",
       "      <td>-66.858877</td>\n",
       "      <td>-66.047053</td>\n",
       "    </tr>\n",
       "  </tbody>\n",
       "</table>\n",
       "</div>"
      ],
      "text/plain": [
       "                                              params  rank_test_r2  \\\n",
       "0  {'forest__n_estimators': 60, 'forest__min_samp...             5   \n",
       "1  {'forest__n_estimators': 80, 'forest__min_samp...             2   \n",
       "2  {'forest__n_estimators': 60, 'forest__min_samp...             3   \n",
       "3  {'forest__n_estimators': 60, 'forest__min_samp...             1   \n",
       "4  {'forest__n_estimators': 60, 'forest__min_samp...             4   \n",
       "\n",
       "   mean_test_r2  mean_train_r2  rank_test_neg_root_mean_squared_error  \\\n",
       "0      0.117283       0.153755                                      5   \n",
       "1      0.122513       0.176656                                      2   \n",
       "2      0.119174       0.162719                                      3   \n",
       "3      0.123224       0.175657                                      1   \n",
       "4      0.117283       0.153755                                      4   \n",
       "\n",
       "   mean_test_neg_root_mean_squared_error  \\\n",
       "0                             -66.858877   \n",
       "1                             -66.625240   \n",
       "2                             -66.769854   \n",
       "3                             -66.596075   \n",
       "4                             -66.858877   \n",
       "\n",
       "   mean_train_neg_root_mean_squared_error  \n",
       "0                              -66.047053  \n",
       "1                              -65.144953  \n",
       "2                              -65.695607  \n",
       "3                              -65.185283  \n",
       "4                              -66.047053  "
      ]
     },
     "execution_count": 72,
     "metadata": {},
     "output_type": "execute_result"
    }
   ],
   "source": [
    "gridsearch_forest_df2 = pd.DataFrame.from_dict(gridsearch_forest2.cv_results_)\n",
    "best_models2 = gridsearch_forest_df2.loc[gridsearch_forest_df2['rank_test_r2'] < 6]\n",
    "best_models2[['params', 'rank_test_r2','mean_test_r2', 'mean_train_r2', 'rank_test_neg_root_mean_squared_error','mean_test_neg_root_mean_squared_error', 'mean_train_neg_root_mean_squared_error']]"
   ]
  },
  {
   "cell_type": "markdown",
   "metadata": {},
   "source": [
    "# Feature Engineering - From Original Data"
   ]
  },
  {
   "cell_type": "markdown",
   "metadata": {},
   "source": [
    "More explanatory variables are needed in order to improve our models.  First we'll pull in additional data relating to page hits and the customer's location from our data source.  This new data is saved in data3.csv.  Preprocessing on this data is shown in the Preprocessing_additional_data.ipynb notebook."
   ]
  },
  {
   "cell_type": "markdown",
   "metadata": {},
   "source": [
    "### Pull in Additional Data"
   ]
  },
  {
   "cell_type": "code",
   "execution_count": 2,
   "metadata": {},
   "outputs": [
    {
     "name": "stderr",
     "output_type": "stream",
     "text": [
      "/Users/jamesfay/opt/anaconda3/envs/capstone/lib/python3.8/site-packages/IPython/core/interactiveshell.py:3145: DtypeWarning: Columns (66,76,84,85,93) have mixed types.Specify dtype option on import or set low_memory=False.\n",
      "  has_raised = await self.run_ast_nodes(code_ast.body, cell_name,\n"
     ]
    },
    {
     "name": "stdout",
     "output_type": "stream",
     "text": [
      "<class 'pandas.core.frame.DataFrame'>\n",
      "RangeIndex: 717217 entries, 0 to 717216\n",
      "Columns: 123 entries, Unnamed: 0.1 to visitNumber\n",
      "dtypes: bool(2), float64(3), int64(10), object(108)\n",
      "memory usage: 663.5+ MB\n"
     ]
    }
   ],
   "source": [
    "df2 = pd.read_csv('../Data/data3.csv', dtype={'fullVisitorId': 'str'})\n",
    "df2.drop('Unnamed: 0', axis=1, inplace=True)\n",
    "df2.info()"
   ]
  },
  {
   "cell_type": "markdown",
   "metadata": {},
   "source": [
    "Since we are only using data from the USA in this analysis, most of the geoNetwork data is not useful.  We'll drop it here but keep the networkDomain column.  Then group together the most unique values so that the column will be usable in the modeling."
   ]
  },
  {
   "cell_type": "code",
   "execution_count": 3,
   "metadata": {},
   "outputs": [],
   "source": [
    "df2.drop(['geoNetwork.continent', 'geoNetwork.subContinent', 'geoNetwork.country'], axis=1, inplace=True)"
   ]
  },
  {
   "cell_type": "code",
   "execution_count": 4,
   "metadata": {},
   "outputs": [
    {
     "data": {
      "text/plain": [
       "None                   360315\n",
       "Other                   92205\n",
       "comcast.net             55484\n",
       "unknown.unknown         36636\n",
       "rr.com                  28708\n",
       "verizon.net             26545\n",
       "comcastbusiness.net     16826\n",
       "cox.net                 10721\n",
       "sbcglobal.net           10596\n",
       "optonline.net            9734\n",
       "google.com               9621\n",
       "att.net                  9255\n",
       "qwest.net                6940\n",
       "bhn.net                  5361\n",
       "spcsdns.net              4684\n",
       "amazonaws.com            3566\n",
       "myvzw.com                2827\n",
       "com                      2486\n",
       "mycingular.net           2441\n",
       "suddenlink.net           2421\n",
       "windstream.net           2399\n",
       "cogentco.com             2381\n",
       "rcn.com                  1990\n",
       "ztomy.com                1936\n",
       "frontiernet.net          1867\n",
       "embarqhsd.net            1568\n",
       "telepacific.net          1568\n",
       "mchsi.com                1420\n",
       "wideopenwest.com         1414\n",
       "twtelecom.net            1130\n",
       "telia.net                1093\n",
       "wayport.net              1079\n",
       "Name: geoNetwork.networkDomain, dtype: int64"
      ]
     },
     "execution_count": 4,
     "metadata": {},
     "output_type": "execute_result"
    }
   ],
   "source": [
    "top_net_domain = list(df2['geoNetwork.networkDomain'].value_counts().head(31).index)\n",
    "df2['geoNetwork.networkDomain'] = df2['geoNetwork.networkDomain'].apply(lambda x: x if x in top_net_domain else 'Other')\n",
    "df2['geoNetwork.networkDomain'].replace('(not set)', 'None', inplace=True)\n",
    "df2['geoNetwork.networkDomain'].value_counts()"
   ]
  },
  {
   "cell_type": "code",
   "execution_count": 5,
   "metadata": {},
   "outputs": [
    {
     "name": "stdout",
     "output_type": "stream",
     "text": [
      "<class 'pandas.core.frame.DataFrame'>\n",
      "RangeIndex: 717217 entries, 0 to 717216\n",
      "Columns: 111 entries, Unnamed: 0.1 to visitNumber\n",
      "dtypes: bool(1), float64(2), int64(6), object(102)\n",
      "memory usage: 602.6+ MB\n"
     ]
    }
   ],
   "source": [
    "# Filter df for modeling\n",
    "dfm2 = df2.copy()\n",
    "dfm2.drop(['time', 'totals.totalTransactionRevenue', 'totals.transactionRevenue', 'date', 'fullVisitorId', 'visitId', 'total_revenue_usd', 'totals.transactions', 'purchase'], axis=1, inplace=True)\n",
    "dfm2.info()"
   ]
  },
  {
   "cell_type": "code",
   "execution_count": 6,
   "metadata": {},
   "outputs": [
    {
     "data": {
      "text/html": [
       "<div>\n",
       "<style scoped>\n",
       "    .dataframe tbody tr th:only-of-type {\n",
       "        vertical-align: middle;\n",
       "    }\n",
       "\n",
       "    .dataframe tbody tr th {\n",
       "        vertical-align: top;\n",
       "    }\n",
       "\n",
       "    .dataframe thead th {\n",
       "        text-align: right;\n",
       "    }\n",
       "</style>\n",
       "<table border=\"1\" class=\"dataframe\">\n",
       "  <thead>\n",
       "    <tr style=\"text-align: right;\">\n",
       "      <th></th>\n",
       "      <th>Unnamed: 0.1</th>\n",
       "      <th>channelGrouping</th>\n",
       "      <th>device.browser</th>\n",
       "      <th>device.deviceCategory</th>\n",
       "      <th>device.isMobile</th>\n",
       "      <th>device.operatingSystem</th>\n",
       "      <th>geoNetwork.networkDomain</th>\n",
       "      <th>hits_action_type</th>\n",
       "      <th>hits_affiliation</th>\n",
       "      <th>hits_contentGroup1</th>\n",
       "      <th>...</th>\n",
       "      <th>trafficSource.adContent</th>\n",
       "      <th>trafficSource.adwordsClickInfo.adNetworkType</th>\n",
       "      <th>trafficSource.adwordsClickInfo.page</th>\n",
       "      <th>trafficSource.adwordsClickInfo.slot</th>\n",
       "      <th>trafficSource.campaign</th>\n",
       "      <th>trafficSource.keyword</th>\n",
       "      <th>trafficSource.medium</th>\n",
       "      <th>trafficSource.referralPath</th>\n",
       "      <th>trafficSource.source</th>\n",
       "      <th>visitNumber</th>\n",
       "    </tr>\n",
       "  </thead>\n",
       "  <tbody>\n",
       "    <tr>\n",
       "      <th>0</th>\n",
       "      <td>0</td>\n",
       "      <td>Referral</td>\n",
       "      <td>Chrome</td>\n",
       "      <td>desktop</td>\n",
       "      <td>False</td>\n",
       "      <td>Chrome OS</td>\n",
       "      <td>None</td>\n",
       "      <td>['0', '0']</td>\n",
       "      <td>NaN</td>\n",
       "      <td>['(not set)', '(not set)']</td>\n",
       "      <td>...</td>\n",
       "      <td>Other</td>\n",
       "      <td>None</td>\n",
       "      <td>0.0</td>\n",
       "      <td>None</td>\n",
       "      <td>None</td>\n",
       "      <td>Other</td>\n",
       "      <td>referral</td>\n",
       "      <td>Other</td>\n",
       "      <td>sites.google.com</td>\n",
       "      <td>6</td>\n",
       "    </tr>\n",
       "    <tr>\n",
       "      <th>1</th>\n",
       "      <td>1</td>\n",
       "      <td>Direct</td>\n",
       "      <td>Chrome</td>\n",
       "      <td>mobile</td>\n",
       "      <td>True</td>\n",
       "      <td>Android</td>\n",
       "      <td>Other</td>\n",
       "      <td>['0', '0']</td>\n",
       "      <td>NaN</td>\n",
       "      <td>['(not set)', '(not set)']</td>\n",
       "      <td>...</td>\n",
       "      <td>Other</td>\n",
       "      <td>None</td>\n",
       "      <td>0.0</td>\n",
       "      <td>None</td>\n",
       "      <td>None</td>\n",
       "      <td>Other</td>\n",
       "      <td>None</td>\n",
       "      <td>Other</td>\n",
       "      <td>(direct)</td>\n",
       "      <td>1</td>\n",
       "    </tr>\n",
       "    <tr>\n",
       "      <th>2</th>\n",
       "      <td>2</td>\n",
       "      <td>Referral</td>\n",
       "      <td>Chrome</td>\n",
       "      <td>desktop</td>\n",
       "      <td>False</td>\n",
       "      <td>Macintosh</td>\n",
       "      <td>unknown.unknown</td>\n",
       "      <td>['0', '0']</td>\n",
       "      <td>NaN</td>\n",
       "      <td>['(not set)', '(not set)']</td>\n",
       "      <td>...</td>\n",
       "      <td>Other</td>\n",
       "      <td>None</td>\n",
       "      <td>0.0</td>\n",
       "      <td>None</td>\n",
       "      <td>None</td>\n",
       "      <td>Other</td>\n",
       "      <td>None</td>\n",
       "      <td>/offer/2145</td>\n",
       "      <td>(direct)</td>\n",
       "      <td>1</td>\n",
       "    </tr>\n",
       "    <tr>\n",
       "      <th>3</th>\n",
       "      <td>3</td>\n",
       "      <td>Organic Search</td>\n",
       "      <td>Safari</td>\n",
       "      <td>mobile</td>\n",
       "      <td>True</td>\n",
       "      <td>iOS</td>\n",
       "      <td>bhn.net</td>\n",
       "      <td>['0', '0']</td>\n",
       "      <td>NaN</td>\n",
       "      <td>['(not set)', '(not set)']</td>\n",
       "      <td>...</td>\n",
       "      <td>Other</td>\n",
       "      <td>None</td>\n",
       "      <td>0.0</td>\n",
       "      <td>None</td>\n",
       "      <td>None</td>\n",
       "      <td>None</td>\n",
       "      <td>organic</td>\n",
       "      <td>Other</td>\n",
       "      <td>google</td>\n",
       "      <td>1</td>\n",
       "    </tr>\n",
       "    <tr>\n",
       "      <th>4</th>\n",
       "      <td>4</td>\n",
       "      <td>Paid Search</td>\n",
       "      <td>Safari</td>\n",
       "      <td>mobile</td>\n",
       "      <td>True</td>\n",
       "      <td>iOS</td>\n",
       "      <td>att.net</td>\n",
       "      <td>['0', '0']</td>\n",
       "      <td>NaN</td>\n",
       "      <td>['(not set)', '(not set)']</td>\n",
       "      <td>...</td>\n",
       "      <td>Other</td>\n",
       "      <td>None</td>\n",
       "      <td>0.0</td>\n",
       "      <td>None</td>\n",
       "      <td>Other</td>\n",
       "      <td>(Remarketing/Content targeting)</td>\n",
       "      <td>cpc</td>\n",
       "      <td>Other</td>\n",
       "      <td>google</td>\n",
       "      <td>10</td>\n",
       "    </tr>\n",
       "  </tbody>\n",
       "</table>\n",
       "<p>5 rows × 111 columns</p>\n",
       "</div>"
      ],
      "text/plain": [
       "   Unnamed: 0.1 channelGrouping device.browser device.deviceCategory  \\\n",
       "0             0        Referral         Chrome               desktop   \n",
       "1             1          Direct         Chrome                mobile   \n",
       "2             2        Referral         Chrome               desktop   \n",
       "3             3  Organic Search         Safari                mobile   \n",
       "4             4     Paid Search         Safari                mobile   \n",
       "\n",
       "   device.isMobile device.operatingSystem geoNetwork.networkDomain  \\\n",
       "0            False              Chrome OS                     None   \n",
       "1             True                Android                    Other   \n",
       "2            False              Macintosh          unknown.unknown   \n",
       "3             True                    iOS                  bhn.net   \n",
       "4             True                    iOS                  att.net   \n",
       "\n",
       "  hits_action_type hits_affiliation          hits_contentGroup1  ...  \\\n",
       "0       ['0', '0']              NaN  ['(not set)', '(not set)']  ...   \n",
       "1       ['0', '0']              NaN  ['(not set)', '(not set)']  ...   \n",
       "2       ['0', '0']              NaN  ['(not set)', '(not set)']  ...   \n",
       "3       ['0', '0']              NaN  ['(not set)', '(not set)']  ...   \n",
       "4       ['0', '0']              NaN  ['(not set)', '(not set)']  ...   \n",
       "\n",
       "  trafficSource.adContent trafficSource.adwordsClickInfo.adNetworkType  \\\n",
       "0                   Other                                         None   \n",
       "1                   Other                                         None   \n",
       "2                   Other                                         None   \n",
       "3                   Other                                         None   \n",
       "4                   Other                                         None   \n",
       "\n",
       "  trafficSource.adwordsClickInfo.page trafficSource.adwordsClickInfo.slot  \\\n",
       "0                                 0.0                                None   \n",
       "1                                 0.0                                None   \n",
       "2                                 0.0                                None   \n",
       "3                                 0.0                                None   \n",
       "4                                 0.0                                None   \n",
       "\n",
       "  trafficSource.campaign            trafficSource.keyword  \\\n",
       "0                   None                            Other   \n",
       "1                   None                            Other   \n",
       "2                   None                            Other   \n",
       "3                   None                             None   \n",
       "4                  Other  (Remarketing/Content targeting)   \n",
       "\n",
       "  trafficSource.medium trafficSource.referralPath trafficSource.source  \\\n",
       "0             referral                      Other     sites.google.com   \n",
       "1                 None                      Other             (direct)   \n",
       "2                 None                /offer/2145             (direct)   \n",
       "3              organic                      Other               google   \n",
       "4                  cpc                      Other               google   \n",
       "\n",
       "  visitNumber  \n",
       "0           6  \n",
       "1           1  \n",
       "2           1  \n",
       "3           1  \n",
       "4          10  \n",
       "\n",
       "[5 rows x 111 columns]"
      ]
     },
     "execution_count": 6,
     "metadata": {},
     "output_type": "execute_result"
    }
   ],
   "source": [
    "dfm2.head()"
   ]
  },
  {
   "cell_type": "markdown",
   "metadata": {},
   "source": [
    "### Extract Features from 'Hits' Columns"
   ]
  },
  {
   "cell_type": "markdown",
   "metadata": {},
   "source": [
    "The hits column contains a large number of features, many of which are not in a format suitable for modeling.  Extract useful features relating to the most recent page visits:"
   ]
  },
  {
   "cell_type": "markdown",
   "metadata": {},
   "source": [
    "#### Get Product Subcategory of Last Viewed Item"
   ]
  },
  {
   "cell_type": "code",
   "execution_count": 7,
   "metadata": {},
   "outputs": [],
   "source": [
    "dfm2['hits_v2ProductCategory'].fillna(\"'None'\", inplace=True)"
   ]
  },
  {
   "cell_type": "code",
   "execution_count": 8,
   "metadata": {},
   "outputs": [],
   "source": [
    "dfm2['product_category'] = dfm2['hits_v2ProductCategory'].apply(lambda x: str(x).split(\"'\")[1])"
   ]
  },
  {
   "cell_type": "code",
   "execution_count": 9,
   "metadata": {},
   "outputs": [],
   "source": [
    "dfm2['product_category'].replace(\"(not set)\", \"None\", inplace=True)"
   ]
  },
  {
   "cell_type": "code",
   "execution_count": 10,
   "metadata": {},
   "outputs": [],
   "source": [
    "dfm2['product_category'] = dfm2['product_category'].apply(lambda x: str(x).split(\"/\")[1] if \"/\" in str(x) else str(x))"
   ]
  },
  {
   "cell_type": "code",
   "execution_count": 11,
   "metadata": {},
   "outputs": [
    {
     "data": {
      "text/plain": [
       "None              336406\n",
       "Apparel           149446\n",
       "Shop by Brand      89570\n",
       "Bags               31818\n",
       "Accessories        27640\n",
       "Electronics        27332\n",
       "Drinkware          25017\n",
       "Office             18625\n",
       "TYCTWD 2018         3133\n",
       "Other               2203\n",
       "${escCatTitle}      1302\n",
       "Limited Supply      1296\n",
       "Lifestyle           1274\n",
       "Gift Cards          1173\n",
       "Clearance Sale       982\n",
       "Name: product_category, dtype: int64"
      ]
     },
     "execution_count": 11,
     "metadata": {},
     "output_type": "execute_result"
    }
   ],
   "source": [
    "top_prod_cats = list(dfm2['product_category'].value_counts().head(14).index)\n",
    "dfm2['product_category'] = dfm2['product_category'].apply(lambda x: x if x in top_prod_cats else 'Other')\n",
    "dfm2['product_category'].value_counts()"
   ]
  },
  {
   "cell_type": "markdown",
   "metadata": {},
   "source": [
    "#### Get Price of Last Viewed Item"
   ]
  },
  {
   "cell_type": "code",
   "execution_count": 12,
   "metadata": {},
   "outputs": [],
   "source": [
    "dfm2['hits_productPrice'].fillna(\"'0'\", inplace=True)"
   ]
  },
  {
   "cell_type": "code",
   "execution_count": 13,
   "metadata": {},
   "outputs": [],
   "source": [
    "dfm2['product_price'] = dfm2['hits_productPrice'].apply(lambda x: str(x).split(\"'\")[1])"
   ]
  },
  {
   "cell_type": "code",
   "execution_count": 14,
   "metadata": {},
   "outputs": [],
   "source": [
    "dfm2['product_price'] = dfm2['product_price'].astype(int)\n",
    "dfm2['product_price'] = dfm2['product_price'] / (10**6)"
   ]
  },
  {
   "cell_type": "markdown",
   "metadata": {},
   "source": [
    "## Drop Unneeded 'Hits' Columns"
   ]
  },
  {
   "cell_type": "code",
   "execution_count": 15,
   "metadata": {},
   "outputs": [],
   "source": [
    "unused_hits = []\n",
    "for col in dfm2.columns:\n",
    "    if 'hits_' in col:\n",
    "        unused_hits.append(col)\n",
    "dfm2.drop(unused_hits, axis=1, inplace=True)"
   ]
  },
  {
   "cell_type": "code",
   "execution_count": 16,
   "metadata": {},
   "outputs": [
    {
     "name": "stdout",
     "output_type": "stream",
     "text": [
      "<class 'pandas.core.frame.DataFrame'>\n",
      "RangeIndex: 717217 entries, 0 to 717216\n",
      "Data columns (total 24 columns):\n",
      " #   Column                                        Non-Null Count   Dtype  \n",
      "---  ------                                        --------------   -----  \n",
      " 0   channelGrouping                               717217 non-null  object \n",
      " 1   device.browser                                717217 non-null  object \n",
      " 2   device.deviceCategory                         717217 non-null  object \n",
      " 3   device.isMobile                               717217 non-null  bool   \n",
      " 4   device.operatingSystem                        717217 non-null  object \n",
      " 5   geoNetwork.networkDomain                      717217 non-null  object \n",
      " 6   revenue_usd                                   717217 non-null  float64\n",
      " 7   time_of_day                                   717217 non-null  object \n",
      " 8   totals.hits                                   717217 non-null  int64  \n",
      " 9   totals.pageviews                              717217 non-null  int64  \n",
      " 10  totals.sessionQualityDim                      717217 non-null  int64  \n",
      " 11  totals.timeOnSite                             717217 non-null  int64  \n",
      " 12  trafficSource.adContent                       717217 non-null  object \n",
      " 13  trafficSource.adwordsClickInfo.adNetworkType  717217 non-null  object \n",
      " 14  trafficSource.adwordsClickInfo.page           717217 non-null  float64\n",
      " 15  trafficSource.adwordsClickInfo.slot           717217 non-null  object \n",
      " 16  trafficSource.campaign                        717217 non-null  object \n",
      " 17  trafficSource.keyword                         717217 non-null  object \n",
      " 18  trafficSource.medium                          717217 non-null  object \n",
      " 19  trafficSource.referralPath                    717217 non-null  object \n",
      " 20  trafficSource.source                          717217 non-null  object \n",
      " 21  visitNumber                                   717217 non-null  int64  \n",
      " 22  product_category                              717217 non-null  object \n",
      " 23  product_price                                 717217 non-null  float64\n",
      "dtypes: bool(1), float64(3), int64(5), object(15)\n",
      "memory usage: 126.5+ MB\n"
     ]
    }
   ],
   "source": [
    "dfm2.drop('Unnamed: 0.1', axis=1, inplace=True)\n",
    "dfm2.info()"
   ]
  },
  {
   "cell_type": "markdown",
   "metadata": {},
   "source": [
    "Save the updated data for easier access when re-running the notebook."
   ]
  },
  {
   "cell_type": "code",
   "execution_count": 17,
   "metadata": {},
   "outputs": [],
   "source": [
    "dfm2.to_csv('../Data/data4.csv')"
   ]
  },
  {
   "cell_type": "markdown",
   "metadata": {},
   "source": [
    "# Feature Engineering - K Means Clustering"
   ]
  },
  {
   "cell_type": "markdown",
   "metadata": {},
   "source": [
    "Clustering is another method we can use to add explanatory variables to our model.  Here we use K Means clustering to group our data into clusters.  Once finished, we will add the cluster labels and silhouette scores to our data as additional columns.  Then we will re-run the tuned Random Forest model."
   ]
  },
  {
   "cell_type": "markdown",
   "metadata": {},
   "source": [
    "## Train Test Split"
   ]
  },
  {
   "cell_type": "markdown",
   "metadata": {},
   "source": [
    "To prevent leakage from test data, we will split into train and test sets before clustering.  When we test our final model we will add a separate clustering column to the test data."
   ]
  },
  {
   "cell_type": "code",
   "execution_count": 4,
   "metadata": {},
   "outputs": [],
   "source": [
    "dfm2 = pd.read_csv('../Data/data4.csv')\n",
    "dfm2.drop('Unnamed: 0', axis=1, inplace=True)"
   ]
  },
  {
   "cell_type": "code",
   "execution_count": 5,
   "metadata": {},
   "outputs": [],
   "source": [
    "X = dfm2.drop('revenue_usd', axis=1)\n",
    "Y = dfm2['revenue_usd']"
   ]
  },
  {
   "cell_type": "code",
   "execution_count": 6,
   "metadata": {},
   "outputs": [],
   "source": [
    "X_train, X_test, y_train, y_test = train_test_split(X, Y, test_size=0.2, random_state=70)"
   ]
  },
  {
   "cell_type": "markdown",
   "metadata": {},
   "source": [
    "Creating dummy variables with get_dummies.  get_dummies does not drop any categorical columns.  This is not a problem for the models we have used so far, but would need to be updated for models like linear regression."
   ]
  },
  {
   "cell_type": "code",
   "execution_count": 7,
   "metadata": {},
   "outputs": [
    {
     "data": {
      "text/html": [
       "<div>\n",
       "<style scoped>\n",
       "    .dataframe tbody tr th:only-of-type {\n",
       "        vertical-align: middle;\n",
       "    }\n",
       "\n",
       "    .dataframe tbody tr th {\n",
       "        vertical-align: top;\n",
       "    }\n",
       "\n",
       "    .dataframe thead th {\n",
       "        text-align: right;\n",
       "    }\n",
       "</style>\n",
       "<table border=\"1\" class=\"dataframe\">\n",
       "  <thead>\n",
       "    <tr style=\"text-align: right;\">\n",
       "      <th></th>\n",
       "      <th>device.isMobile</th>\n",
       "      <th>totals.hits</th>\n",
       "      <th>totals.pageviews</th>\n",
       "      <th>totals.sessionQualityDim</th>\n",
       "      <th>totals.timeOnSite</th>\n",
       "      <th>trafficSource.adwordsClickInfo.page</th>\n",
       "      <th>visitNumber</th>\n",
       "      <th>product_price</th>\n",
       "      <th>channelGrouping_(Other)</th>\n",
       "      <th>channelGrouping_Affiliates</th>\n",
       "      <th>...</th>\n",
       "      <th>product_category_Drinkware</th>\n",
       "      <th>product_category_Electronics</th>\n",
       "      <th>product_category_Gift Cards</th>\n",
       "      <th>product_category_Lifestyle</th>\n",
       "      <th>product_category_Limited Supply</th>\n",
       "      <th>product_category_None</th>\n",
       "      <th>product_category_Office</th>\n",
       "      <th>product_category_Other</th>\n",
       "      <th>product_category_Shop by Brand</th>\n",
       "      <th>product_category_TYCTWD 2018</th>\n",
       "    </tr>\n",
       "  </thead>\n",
       "  <tbody>\n",
       "    <tr>\n",
       "      <th>678941</th>\n",
       "      <td>False</td>\n",
       "      <td>9</td>\n",
       "      <td>7</td>\n",
       "      <td>2</td>\n",
       "      <td>101</td>\n",
       "      <td>0.0</td>\n",
       "      <td>1</td>\n",
       "      <td>1.99</td>\n",
       "      <td>0</td>\n",
       "      <td>0</td>\n",
       "      <td>...</td>\n",
       "      <td>0</td>\n",
       "      <td>0</td>\n",
       "      <td>0</td>\n",
       "      <td>0</td>\n",
       "      <td>0</td>\n",
       "      <td>0</td>\n",
       "      <td>1</td>\n",
       "      <td>0</td>\n",
       "      <td>0</td>\n",
       "      <td>0</td>\n",
       "    </tr>\n",
       "    <tr>\n",
       "      <th>561021</th>\n",
       "      <td>False</td>\n",
       "      <td>11</td>\n",
       "      <td>7</td>\n",
       "      <td>31</td>\n",
       "      <td>111</td>\n",
       "      <td>0.0</td>\n",
       "      <td>5</td>\n",
       "      <td>74.99</td>\n",
       "      <td>0</td>\n",
       "      <td>0</td>\n",
       "      <td>...</td>\n",
       "      <td>0</td>\n",
       "      <td>0</td>\n",
       "      <td>0</td>\n",
       "      <td>0</td>\n",
       "      <td>0</td>\n",
       "      <td>0</td>\n",
       "      <td>0</td>\n",
       "      <td>0</td>\n",
       "      <td>0</td>\n",
       "      <td>0</td>\n",
       "    </tr>\n",
       "    <tr>\n",
       "      <th>153899</th>\n",
       "      <td>False</td>\n",
       "      <td>9</td>\n",
       "      <td>7</td>\n",
       "      <td>-1</td>\n",
       "      <td>115</td>\n",
       "      <td>0.0</td>\n",
       "      <td>2</td>\n",
       "      <td>34.99</td>\n",
       "      <td>0</td>\n",
       "      <td>0</td>\n",
       "      <td>...</td>\n",
       "      <td>0</td>\n",
       "      <td>1</td>\n",
       "      <td>0</td>\n",
       "      <td>0</td>\n",
       "      <td>0</td>\n",
       "      <td>0</td>\n",
       "      <td>0</td>\n",
       "      <td>0</td>\n",
       "      <td>0</td>\n",
       "      <td>0</td>\n",
       "    </tr>\n",
       "    <tr>\n",
       "      <th>54930</th>\n",
       "      <td>False</td>\n",
       "      <td>4</td>\n",
       "      <td>4</td>\n",
       "      <td>-1</td>\n",
       "      <td>64</td>\n",
       "      <td>0.0</td>\n",
       "      <td>1</td>\n",
       "      <td>16.99</td>\n",
       "      <td>0</td>\n",
       "      <td>0</td>\n",
       "      <td>...</td>\n",
       "      <td>0</td>\n",
       "      <td>0</td>\n",
       "      <td>0</td>\n",
       "      <td>0</td>\n",
       "      <td>0</td>\n",
       "      <td>0</td>\n",
       "      <td>0</td>\n",
       "      <td>0</td>\n",
       "      <td>1</td>\n",
       "      <td>0</td>\n",
       "    </tr>\n",
       "    <tr>\n",
       "      <th>628845</th>\n",
       "      <td>False</td>\n",
       "      <td>48</td>\n",
       "      <td>28</td>\n",
       "      <td>70</td>\n",
       "      <td>228</td>\n",
       "      <td>0.0</td>\n",
       "      <td>33</td>\n",
       "      <td>18.99</td>\n",
       "      <td>0</td>\n",
       "      <td>0</td>\n",
       "      <td>...</td>\n",
       "      <td>0</td>\n",
       "      <td>0</td>\n",
       "      <td>0</td>\n",
       "      <td>0</td>\n",
       "      <td>0</td>\n",
       "      <td>0</td>\n",
       "      <td>0</td>\n",
       "      <td>0</td>\n",
       "      <td>0</td>\n",
       "      <td>0</td>\n",
       "    </tr>\n",
       "  </tbody>\n",
       "</table>\n",
       "<p>5 rows × 181 columns</p>\n",
       "</div>"
      ],
      "text/plain": [
       "        device.isMobile  totals.hits  totals.pageviews  \\\n",
       "678941            False            9                 7   \n",
       "561021            False           11                 7   \n",
       "153899            False            9                 7   \n",
       "54930             False            4                 4   \n",
       "628845            False           48                28   \n",
       "\n",
       "        totals.sessionQualityDim  totals.timeOnSite  \\\n",
       "678941                         2                101   \n",
       "561021                        31                111   \n",
       "153899                        -1                115   \n",
       "54930                         -1                 64   \n",
       "628845                        70                228   \n",
       "\n",
       "        trafficSource.adwordsClickInfo.page  visitNumber  product_price  \\\n",
       "678941                                  0.0            1           1.99   \n",
       "561021                                  0.0            5          74.99   \n",
       "153899                                  0.0            2          34.99   \n",
       "54930                                   0.0            1          16.99   \n",
       "628845                                  0.0           33          18.99   \n",
       "\n",
       "        channelGrouping_(Other)  channelGrouping_Affiliates  ...  \\\n",
       "678941                        0                           0  ...   \n",
       "561021                        0                           0  ...   \n",
       "153899                        0                           0  ...   \n",
       "54930                         0                           0  ...   \n",
       "628845                        0                           0  ...   \n",
       "\n",
       "        product_category_Drinkware  product_category_Electronics  \\\n",
       "678941                           0                             0   \n",
       "561021                           0                             0   \n",
       "153899                           0                             1   \n",
       "54930                            0                             0   \n",
       "628845                           0                             0   \n",
       "\n",
       "        product_category_Gift Cards  product_category_Lifestyle  \\\n",
       "678941                            0                           0   \n",
       "561021                            0                           0   \n",
       "153899                            0                           0   \n",
       "54930                             0                           0   \n",
       "628845                            0                           0   \n",
       "\n",
       "        product_category_Limited Supply  product_category_None  \\\n",
       "678941                                0                      0   \n",
       "561021                                0                      0   \n",
       "153899                                0                      0   \n",
       "54930                                 0                      0   \n",
       "628845                                0                      0   \n",
       "\n",
       "        product_category_Office  product_category_Other  \\\n",
       "678941                        1                       0   \n",
       "561021                        0                       0   \n",
       "153899                        0                       0   \n",
       "54930                         0                       0   \n",
       "628845                        0                       0   \n",
       "\n",
       "        product_category_Shop by Brand  product_category_TYCTWD 2018  \n",
       "678941                               0                             0  \n",
       "561021                               0                             0  \n",
       "153899                               0                             0  \n",
       "54930                                1                             0  \n",
       "628845                               0                             0  \n",
       "\n",
       "[5 rows x 181 columns]"
      ]
     },
     "execution_count": 7,
     "metadata": {},
     "output_type": "execute_result"
    }
   ],
   "source": [
    "X_train_ohe = pd.get_dummies(X_train)\n",
    "X_train_ohe.head()"
   ]
  },
  {
   "cell_type": "markdown",
   "metadata": {},
   "source": [
    "## Clustering"
   ]
  },
  {
   "cell_type": "markdown",
   "metadata": {},
   "source": [
    "Because of limits on computational resources, we scale and do PCA before clustering.  This will decrease multidimensionality and reduce the computer power needed to cluster."
   ]
  },
  {
   "cell_type": "code",
   "execution_count": 53,
   "metadata": {},
   "outputs": [],
   "source": [
    "#Create pipeline to reduce data dimensionality\n",
    "pipe_reduce = Pipeline([('scl', StandardScaler()),\n",
    "            ('pca', PCA(n_components=0.75, random_state=70))])"
   ]
  },
  {
   "cell_type": "code",
   "execution_count": null,
   "metadata": {},
   "outputs": [],
   "source": [
    "X_train_reduced = pipe_reduce.fit_transform(X_train_ohe)"
   ]
  },
  {
   "cell_type": "markdown",
   "metadata": {},
   "source": [
    "Check that dimensionality was reduced & number of samples remained the same."
   ]
  },
  {
   "cell_type": "code",
   "execution_count": 55,
   "metadata": {},
   "outputs": [
    {
     "data": {
      "text/plain": [
       "(573773, 181)"
      ]
     },
     "execution_count": 55,
     "metadata": {},
     "output_type": "execute_result"
    }
   ],
   "source": [
    "X_train_ohe.shape"
   ]
  },
  {
   "cell_type": "code",
   "execution_count": 56,
   "metadata": {},
   "outputs": [
    {
     "data": {
      "text/plain": [
       "(573773, 78)"
      ]
     },
     "execution_count": 56,
     "metadata": {},
     "output_type": "execute_result"
    }
   ],
   "source": [
    "X_train_reduced.shape"
   ]
  },
  {
   "cell_type": "markdown",
   "metadata": {},
   "source": [
    "Search through a list of values to find the best k value for the KMeans algorithm.  We use the inertia-based elbow method and silhouette scores to decide which k value is 'best'."
   ]
  },
  {
   "cell_type": "code",
   "execution_count": 58,
   "metadata": {},
   "outputs": [
    {
     "name": "stderr",
     "output_type": "stream",
     "text": [
      "  0%|          | 0/24 [00:00<?, ?it/s]"
     ]
    },
    {
     "name": "stdout",
     "output_type": "stream",
     "text": [
      "Model Created with k=3\n"
     ]
    },
    {
     "name": "stderr",
     "output_type": "stream",
     "text": [
      "/Users/jamesfay/opt/anaconda3/envs/capstone/lib/python3.8/site-packages/sklearn/cluster/_kmeans.py:938: FutureWarning: 'n_jobs' was deprecated in version 0.23 and will be removed in 0.25.\n",
      "  warnings.warn(\"'n_jobs' was deprecated in version 0.23 and will be\"\n"
     ]
    },
    {
     "name": "stdout",
     "output_type": "stream",
     "text": [
      "Model Fit Complete\n",
      "Predictions from Model Complete\n"
     ]
    },
    {
     "name": "stderr",
     "output_type": "stream",
     "text": [
      "  4%|▍         | 1/24 [00:14<05:36, 14.62s/it]"
     ]
    },
    {
     "name": "stdout",
     "output_type": "stream",
     "text": [
      "Loop Complete for k=3 Model\n",
      "Model Created with k=5\n"
     ]
    },
    {
     "name": "stderr",
     "output_type": "stream",
     "text": [
      "/Users/jamesfay/opt/anaconda3/envs/capstone/lib/python3.8/site-packages/sklearn/cluster/_kmeans.py:938: FutureWarning: 'n_jobs' was deprecated in version 0.23 and will be removed in 0.25.\n",
      "  warnings.warn(\"'n_jobs' was deprecated in version 0.23 and will be\"\n"
     ]
    },
    {
     "name": "stdout",
     "output_type": "stream",
     "text": [
      "Model Fit Complete\n",
      "Predictions from Model Complete\n"
     ]
    },
    {
     "name": "stderr",
     "output_type": "stream",
     "text": [
      "  8%|▊         | 2/24 [00:30<05:30, 15.03s/it]"
     ]
    },
    {
     "name": "stdout",
     "output_type": "stream",
     "text": [
      "Loop Complete for k=5 Model\n",
      "Model Created with k=10\n"
     ]
    },
    {
     "name": "stderr",
     "output_type": "stream",
     "text": [
      "/Users/jamesfay/opt/anaconda3/envs/capstone/lib/python3.8/site-packages/sklearn/cluster/_kmeans.py:938: FutureWarning: 'n_jobs' was deprecated in version 0.23 and will be removed in 0.25.\n",
      "  warnings.warn(\"'n_jobs' was deprecated in version 0.23 and will be\"\n"
     ]
    },
    {
     "name": "stdout",
     "output_type": "stream",
     "text": [
      "Model Fit Complete\n",
      "Predictions from Model Complete\n"
     ]
    },
    {
     "name": "stderr",
     "output_type": "stream",
     "text": [
      " 12%|█▎        | 3/24 [00:51<05:50, 16.70s/it]"
     ]
    },
    {
     "name": "stdout",
     "output_type": "stream",
     "text": [
      "Loop Complete for k=10 Model\n",
      "Model Created with k=15\n"
     ]
    },
    {
     "name": "stderr",
     "output_type": "stream",
     "text": [
      "/Users/jamesfay/opt/anaconda3/envs/capstone/lib/python3.8/site-packages/sklearn/cluster/_kmeans.py:938: FutureWarning: 'n_jobs' was deprecated in version 0.23 and will be removed in 0.25.\n",
      "  warnings.warn(\"'n_jobs' was deprecated in version 0.23 and will be\"\n"
     ]
    },
    {
     "name": "stdout",
     "output_type": "stream",
     "text": [
      "Model Fit Complete\n",
      "Predictions from Model Complete\n"
     ]
    },
    {
     "name": "stderr",
     "output_type": "stream",
     "text": [
      " 17%|█▋        | 4/24 [01:16<06:23, 19.16s/it]"
     ]
    },
    {
     "name": "stdout",
     "output_type": "stream",
     "text": [
      "Loop Complete for k=15 Model\n",
      "Model Created with k=20\n"
     ]
    },
    {
     "name": "stderr",
     "output_type": "stream",
     "text": [
      "/Users/jamesfay/opt/anaconda3/envs/capstone/lib/python3.8/site-packages/sklearn/cluster/_kmeans.py:938: FutureWarning: 'n_jobs' was deprecated in version 0.23 and will be removed in 0.25.\n",
      "  warnings.warn(\"'n_jobs' was deprecated in version 0.23 and will be\"\n"
     ]
    },
    {
     "name": "stdout",
     "output_type": "stream",
     "text": [
      "Model Fit Complete\n",
      "Predictions from Model Complete\n"
     ]
    },
    {
     "name": "stderr",
     "output_type": "stream",
     "text": [
      " 21%|██        | 5/24 [01:45<07:02, 22.24s/it]"
     ]
    },
    {
     "name": "stdout",
     "output_type": "stream",
     "text": [
      "Loop Complete for k=20 Model\n",
      "Model Created with k=25\n"
     ]
    },
    {
     "name": "stderr",
     "output_type": "stream",
     "text": [
      "/Users/jamesfay/opt/anaconda3/envs/capstone/lib/python3.8/site-packages/sklearn/cluster/_kmeans.py:938: FutureWarning: 'n_jobs' was deprecated in version 0.23 and will be removed in 0.25.\n",
      "  warnings.warn(\"'n_jobs' was deprecated in version 0.23 and will be\"\n"
     ]
    },
    {
     "name": "stdout",
     "output_type": "stream",
     "text": [
      "Model Fit Complete\n",
      "Predictions from Model Complete\n"
     ]
    },
    {
     "name": "stderr",
     "output_type": "stream",
     "text": [
      " 25%|██▌       | 6/24 [02:20<07:50, 26.14s/it]"
     ]
    },
    {
     "name": "stdout",
     "output_type": "stream",
     "text": [
      "Loop Complete for k=25 Model\n",
      "Model Created with k=30\n"
     ]
    },
    {
     "name": "stderr",
     "output_type": "stream",
     "text": [
      "/Users/jamesfay/opt/anaconda3/envs/capstone/lib/python3.8/site-packages/sklearn/cluster/_kmeans.py:938: FutureWarning: 'n_jobs' was deprecated in version 0.23 and will be removed in 0.25.\n",
      "  warnings.warn(\"'n_jobs' was deprecated in version 0.23 and will be\"\n"
     ]
    },
    {
     "name": "stdout",
     "output_type": "stream",
     "text": [
      "Model Fit Complete\n",
      "Predictions from Model Complete\n"
     ]
    },
    {
     "name": "stderr",
     "output_type": "stream",
     "text": [
      " 29%|██▉       | 7/24 [03:02<08:43, 30.78s/it]"
     ]
    },
    {
     "name": "stdout",
     "output_type": "stream",
     "text": [
      "Loop Complete for k=30 Model\n",
      "Model Created with k=35\n"
     ]
    },
    {
     "name": "stderr",
     "output_type": "stream",
     "text": [
      "/Users/jamesfay/opt/anaconda3/envs/capstone/lib/python3.8/site-packages/sklearn/cluster/_kmeans.py:938: FutureWarning: 'n_jobs' was deprecated in version 0.23 and will be removed in 0.25.\n",
      "  warnings.warn(\"'n_jobs' was deprecated in version 0.23 and will be\"\n"
     ]
    },
    {
     "name": "stdout",
     "output_type": "stream",
     "text": [
      "Model Fit Complete\n",
      "Predictions from Model Complete\n"
     ]
    },
    {
     "name": "stderr",
     "output_type": "stream",
     "text": [
      " 33%|███▎      | 8/24 [03:48<09:28, 35.53s/it]"
     ]
    },
    {
     "name": "stdout",
     "output_type": "stream",
     "text": [
      "Loop Complete for k=35 Model\n",
      "Model Created with k=40\n"
     ]
    },
    {
     "name": "stderr",
     "output_type": "stream",
     "text": [
      "/Users/jamesfay/opt/anaconda3/envs/capstone/lib/python3.8/site-packages/sklearn/cluster/_kmeans.py:938: FutureWarning: 'n_jobs' was deprecated in version 0.23 and will be removed in 0.25.\n",
      "  warnings.warn(\"'n_jobs' was deprecated in version 0.23 and will be\"\n"
     ]
    },
    {
     "name": "stdout",
     "output_type": "stream",
     "text": [
      "Model Fit Complete\n",
      "Predictions from Model Complete\n"
     ]
    },
    {
     "name": "stderr",
     "output_type": "stream",
     "text": [
      " 38%|███▊      | 9/24 [04:40<10:06, 40.41s/it]"
     ]
    },
    {
     "name": "stdout",
     "output_type": "stream",
     "text": [
      "Loop Complete for k=40 Model\n",
      "Model Created with k=45\n"
     ]
    },
    {
     "name": "stderr",
     "output_type": "stream",
     "text": [
      "/Users/jamesfay/opt/anaconda3/envs/capstone/lib/python3.8/site-packages/sklearn/cluster/_kmeans.py:938: FutureWarning: 'n_jobs' was deprecated in version 0.23 and will be removed in 0.25.\n",
      "  warnings.warn(\"'n_jobs' was deprecated in version 0.23 and will be\"\n"
     ]
    },
    {
     "name": "stdout",
     "output_type": "stream",
     "text": [
      "Model Fit Complete\n",
      "Predictions from Model Complete\n"
     ]
    },
    {
     "name": "stderr",
     "output_type": "stream",
     "text": [
      " 42%|████▏     | 10/24 [05:38<10:39, 45.65s/it]"
     ]
    },
    {
     "name": "stdout",
     "output_type": "stream",
     "text": [
      "Loop Complete for k=45 Model\n",
      "Model Created with k=50\n"
     ]
    },
    {
     "name": "stderr",
     "output_type": "stream",
     "text": [
      "/Users/jamesfay/opt/anaconda3/envs/capstone/lib/python3.8/site-packages/sklearn/cluster/_kmeans.py:938: FutureWarning: 'n_jobs' was deprecated in version 0.23 and will be removed in 0.25.\n",
      "  warnings.warn(\"'n_jobs' was deprecated in version 0.23 and will be\"\n"
     ]
    },
    {
     "name": "stdout",
     "output_type": "stream",
     "text": [
      "Model Fit Complete\n",
      "Predictions from Model Complete\n"
     ]
    },
    {
     "name": "stderr",
     "output_type": "stream",
     "text": [
      " 46%|████▌     | 11/24 [06:44<11:11, 51.65s/it]"
     ]
    },
    {
     "name": "stdout",
     "output_type": "stream",
     "text": [
      "Loop Complete for k=50 Model\n",
      "Model Created with k=55\n"
     ]
    },
    {
     "name": "stderr",
     "output_type": "stream",
     "text": [
      "/Users/jamesfay/opt/anaconda3/envs/capstone/lib/python3.8/site-packages/sklearn/cluster/_kmeans.py:938: FutureWarning: 'n_jobs' was deprecated in version 0.23 and will be removed in 0.25.\n",
      "  warnings.warn(\"'n_jobs' was deprecated in version 0.23 and will be\"\n"
     ]
    },
    {
     "name": "stdout",
     "output_type": "stream",
     "text": [
      "Model Fit Complete\n",
      "Predictions from Model Complete\n"
     ]
    },
    {
     "name": "stderr",
     "output_type": "stream",
     "text": [
      " 50%|█████     | 12/24 [07:57<11:38, 58.17s/it]"
     ]
    },
    {
     "name": "stdout",
     "output_type": "stream",
     "text": [
      "Loop Complete for k=55 Model\n",
      "Model Created with k=60\n"
     ]
    },
    {
     "name": "stderr",
     "output_type": "stream",
     "text": [
      "/Users/jamesfay/opt/anaconda3/envs/capstone/lib/python3.8/site-packages/sklearn/cluster/_kmeans.py:938: FutureWarning: 'n_jobs' was deprecated in version 0.23 and will be removed in 0.25.\n",
      "  warnings.warn(\"'n_jobs' was deprecated in version 0.23 and will be\"\n"
     ]
    },
    {
     "name": "stdout",
     "output_type": "stream",
     "text": [
      "Model Fit Complete\n",
      "Predictions from Model Complete\n"
     ]
    },
    {
     "name": "stderr",
     "output_type": "stream",
     "text": [
      " 54%|█████▍    | 13/24 [09:16<11:47, 64.35s/it]"
     ]
    },
    {
     "name": "stdout",
     "output_type": "stream",
     "text": [
      "Loop Complete for k=60 Model\n",
      "Model Created with k=65\n"
     ]
    },
    {
     "name": "stderr",
     "output_type": "stream",
     "text": [
      "/Users/jamesfay/opt/anaconda3/envs/capstone/lib/python3.8/site-packages/sklearn/cluster/_kmeans.py:938: FutureWarning: 'n_jobs' was deprecated in version 0.23 and will be removed in 0.25.\n",
      "  warnings.warn(\"'n_jobs' was deprecated in version 0.23 and will be\"\n"
     ]
    },
    {
     "name": "stdout",
     "output_type": "stream",
     "text": [
      "Model Fit Complete\n",
      "Predictions from Model Complete\n"
     ]
    },
    {
     "name": "stderr",
     "output_type": "stream",
     "text": [
      " 58%|█████▊    | 14/24 [10:43<11:50, 71.03s/it]"
     ]
    },
    {
     "name": "stdout",
     "output_type": "stream",
     "text": [
      "Loop Complete for k=65 Model\n",
      "Model Created with k=70\n"
     ]
    },
    {
     "name": "stderr",
     "output_type": "stream",
     "text": [
      "/Users/jamesfay/opt/anaconda3/envs/capstone/lib/python3.8/site-packages/sklearn/cluster/_kmeans.py:938: FutureWarning: 'n_jobs' was deprecated in version 0.23 and will be removed in 0.25.\n",
      "  warnings.warn(\"'n_jobs' was deprecated in version 0.23 and will be\"\n"
     ]
    },
    {
     "name": "stdout",
     "output_type": "stream",
     "text": [
      "Model Fit Complete\n",
      "Predictions from Model Complete\n"
     ]
    },
    {
     "name": "stderr",
     "output_type": "stream",
     "text": [
      " 62%|██████▎   | 15/24 [12:23<11:57, 79.73s/it]"
     ]
    },
    {
     "name": "stdout",
     "output_type": "stream",
     "text": [
      "Loop Complete for k=70 Model\n",
      "Model Created with k=75\n"
     ]
    },
    {
     "name": "stderr",
     "output_type": "stream",
     "text": [
      "/Users/jamesfay/opt/anaconda3/envs/capstone/lib/python3.8/site-packages/sklearn/cluster/_kmeans.py:938: FutureWarning: 'n_jobs' was deprecated in version 0.23 and will be removed in 0.25.\n",
      "  warnings.warn(\"'n_jobs' was deprecated in version 0.23 and will be\"\n"
     ]
    },
    {
     "name": "stdout",
     "output_type": "stream",
     "text": [
      "Model Fit Complete\n",
      "Predictions from Model Complete\n"
     ]
    },
    {
     "name": "stderr",
     "output_type": "stream",
     "text": [
      " 67%|██████▋   | 16/24 [14:12<11:48, 88.52s/it]"
     ]
    },
    {
     "name": "stdout",
     "output_type": "stream",
     "text": [
      "Loop Complete for k=75 Model\n",
      "Model Created with k=80\n"
     ]
    },
    {
     "name": "stderr",
     "output_type": "stream",
     "text": [
      "/Users/jamesfay/opt/anaconda3/envs/capstone/lib/python3.8/site-packages/sklearn/cluster/_kmeans.py:938: FutureWarning: 'n_jobs' was deprecated in version 0.23 and will be removed in 0.25.\n",
      "  warnings.warn(\"'n_jobs' was deprecated in version 0.23 and will be\"\n"
     ]
    },
    {
     "name": "stdout",
     "output_type": "stream",
     "text": [
      "Model Fit Complete\n",
      "Predictions from Model Complete\n"
     ]
    },
    {
     "name": "stderr",
     "output_type": "stream",
     "text": [
      " 71%|███████   | 17/24 [16:00<11:00, 94.36s/it]"
     ]
    },
    {
     "name": "stdout",
     "output_type": "stream",
     "text": [
      "Loop Complete for k=80 Model\n",
      "Model Created with k=90\n"
     ]
    },
    {
     "name": "stderr",
     "output_type": "stream",
     "text": [
      "/Users/jamesfay/opt/anaconda3/envs/capstone/lib/python3.8/site-packages/sklearn/cluster/_kmeans.py:938: FutureWarning: 'n_jobs' was deprecated in version 0.23 and will be removed in 0.25.\n",
      "  warnings.warn(\"'n_jobs' was deprecated in version 0.23 and will be\"\n"
     ]
    },
    {
     "name": "stdout",
     "output_type": "stream",
     "text": [
      "Model Fit Complete\n",
      "Predictions from Model Complete\n"
     ]
    },
    {
     "name": "stderr",
     "output_type": "stream",
     "text": [
      " 75%|███████▌  | 18/24 [18:00<10:12, 102.06s/it]"
     ]
    },
    {
     "name": "stdout",
     "output_type": "stream",
     "text": [
      "Loop Complete for k=90 Model\n",
      "Model Created with k=100\n"
     ]
    },
    {
     "name": "stderr",
     "output_type": "stream",
     "text": [
      "/Users/jamesfay/opt/anaconda3/envs/capstone/lib/python3.8/site-packages/sklearn/cluster/_kmeans.py:938: FutureWarning: 'n_jobs' was deprecated in version 0.23 and will be removed in 0.25.\n",
      "  warnings.warn(\"'n_jobs' was deprecated in version 0.23 and will be\"\n"
     ]
    },
    {
     "name": "stdout",
     "output_type": "stream",
     "text": [
      "Model Fit Complete\n",
      "Predictions from Model Complete\n"
     ]
    },
    {
     "name": "stderr",
     "output_type": "stream",
     "text": [
      " 79%|███████▉  | 19/24 [20:14<09:19, 111.81s/it]"
     ]
    },
    {
     "name": "stdout",
     "output_type": "stream",
     "text": [
      "Loop Complete for k=100 Model\n",
      "Model Created with k=150\n"
     ]
    },
    {
     "name": "stderr",
     "output_type": "stream",
     "text": [
      "/Users/jamesfay/opt/anaconda3/envs/capstone/lib/python3.8/site-packages/sklearn/cluster/_kmeans.py:938: FutureWarning: 'n_jobs' was deprecated in version 0.23 and will be removed in 0.25.\n",
      "  warnings.warn(\"'n_jobs' was deprecated in version 0.23 and will be\"\n"
     ]
    },
    {
     "name": "stdout",
     "output_type": "stream",
     "text": [
      "Model Fit Complete\n",
      "Predictions from Model Complete\n"
     ]
    },
    {
     "name": "stderr",
     "output_type": "stream",
     "text": [
      " 83%|████████▎ | 20/24 [23:39<09:19, 139.76s/it]"
     ]
    },
    {
     "name": "stdout",
     "output_type": "stream",
     "text": [
      "Loop Complete for k=150 Model\n",
      "Model Created with k=200\n"
     ]
    },
    {
     "name": "stderr",
     "output_type": "stream",
     "text": [
      "/Users/jamesfay/opt/anaconda3/envs/capstone/lib/python3.8/site-packages/sklearn/cluster/_kmeans.py:938: FutureWarning: 'n_jobs' was deprecated in version 0.23 and will be removed in 0.25.\n",
      "  warnings.warn(\"'n_jobs' was deprecated in version 0.23 and will be\"\n"
     ]
    },
    {
     "name": "stdout",
     "output_type": "stream",
     "text": [
      "Model Fit Complete\n",
      "Predictions from Model Complete\n"
     ]
    },
    {
     "name": "stderr",
     "output_type": "stream",
     "text": [
      " 88%|████████▊ | 21/24 [28:07<08:54, 178.21s/it]"
     ]
    },
    {
     "name": "stdout",
     "output_type": "stream",
     "text": [
      "Loop Complete for k=200 Model\n",
      "Model Created with k=250\n"
     ]
    },
    {
     "name": "stderr",
     "output_type": "stream",
     "text": [
      "/Users/jamesfay/opt/anaconda3/envs/capstone/lib/python3.8/site-packages/sklearn/cluster/_kmeans.py:938: FutureWarning: 'n_jobs' was deprecated in version 0.23 and will be removed in 0.25.\n",
      "  warnings.warn(\"'n_jobs' was deprecated in version 0.23 and will be\"\n"
     ]
    },
    {
     "name": "stdout",
     "output_type": "stream",
     "text": [
      "Model Fit Complete\n",
      "Predictions from Model Complete\n"
     ]
    },
    {
     "name": "stderr",
     "output_type": "stream",
     "text": [
      " 92%|█████████▏| 22/24 [33:59<07:40, 230.17s/it]"
     ]
    },
    {
     "name": "stdout",
     "output_type": "stream",
     "text": [
      "Loop Complete for k=250 Model\n",
      "Model Created with k=300\n"
     ]
    },
    {
     "name": "stderr",
     "output_type": "stream",
     "text": [
      "/Users/jamesfay/opt/anaconda3/envs/capstone/lib/python3.8/site-packages/sklearn/cluster/_kmeans.py:938: FutureWarning: 'n_jobs' was deprecated in version 0.23 and will be removed in 0.25.\n",
      "  warnings.warn(\"'n_jobs' was deprecated in version 0.23 and will be\"\n"
     ]
    },
    {
     "name": "stdout",
     "output_type": "stream",
     "text": [
      "Model Fit Complete\n",
      "Predictions from Model Complete\n"
     ]
    },
    {
     "name": "stderr",
     "output_type": "stream",
     "text": [
      " 96%|█████████▌| 23/24 [40:38<04:41, 281.06s/it]"
     ]
    },
    {
     "name": "stdout",
     "output_type": "stream",
     "text": [
      "Loop Complete for k=300 Model\n",
      "Model Created with k=500\n"
     ]
    },
    {
     "name": "stderr",
     "output_type": "stream",
     "text": [
      "/Users/jamesfay/opt/anaconda3/envs/capstone/lib/python3.8/site-packages/sklearn/cluster/_kmeans.py:938: FutureWarning: 'n_jobs' was deprecated in version 0.23 and will be removed in 0.25.\n",
      "  warnings.warn(\"'n_jobs' was deprecated in version 0.23 and will be\"\n"
     ]
    },
    {
     "name": "stdout",
     "output_type": "stream",
     "text": [
      "Model Fit Complete\n",
      "Predictions from Model Complete\n"
     ]
    },
    {
     "name": "stderr",
     "output_type": "stream",
     "text": [
      "100%|██████████| 24/24 [53:37<00:00, 134.07s/it]"
     ]
    },
    {
     "name": "stdout",
     "output_type": "stream",
     "text": [
      "Loop Complete for k=500 Model\n"
     ]
    },
    {
     "name": "stderr",
     "output_type": "stream",
     "text": [
      "\n"
     ]
    }
   ],
   "source": [
    "distortions = []\n",
    "silhouette_plot = []\n",
    "ch_score = []\n",
    "k_values = [3, 5, 10, 15, 20, 25, 30, 35, 40, 45, 50,55, 60, 65,70, 75,80, 90, 100, 150, 200, 250, 300, 500]\n",
    "for k in tqdm(k_values):\n",
    "    #Create KMeans model object\n",
    "    clusters = KMeans(n_clusters=k, random_state=70, n_jobs=-1, algorithm='full')\n",
    "    print(\"Model Created with k=\" + str(k))\n",
    "    \n",
    "    #Fit model.\n",
    "    cluster_fit = clusters.fit(X_train_reduced)\n",
    "    print(\"Model Fit Complete\")\n",
    "    \n",
    "    #Get predictions for use in silhouette score calculations\n",
    "    cluster_labels = cluster_fit.predict(X_train_reduced)\n",
    "    print(\"Predictions from Model Complete\")\n",
    "    silhouette_avg = silhouette_score(X_train_ohe, cluster_labels, sample_size=2500, random_state=70)\n",
    "    silhouette_plot.append(silhouette_avg)\n",
    "    ch_score.append(calinski_harabasz_score(X_train_reduced, cluster_fit.labels_))\n",
    "    \n",
    "    #Get inertia value for use in elbow plot\n",
    "    distortions.append(cluster_fit.inertia_)\n",
    "    print(\"Loop Complete for k=\" + str(k) + \" Model\")"
   ]
  },
  {
   "cell_type": "markdown",
   "metadata": {},
   "source": [
    "Now we plot the inertia values in an elbow plot."
   ]
  },
  {
   "cell_type": "code",
   "execution_count": 62,
   "metadata": {},
   "outputs": [
    {
     "data": {
      "image/png": "[encoded data removed]",
      "text/plain": [
       "<Figure size 720x576 with 1 Axes>"
      ]
     },
     "metadata": {
      "needs_background": "light"
     },
     "output_type": "display_data"
    }
   ],
   "source": [
    "# Plot Inertia Values\n",
    "fig, ax = plt.subplots(figsize=(10, 8))\n",
    "ax.set_title('Elbow curve')\n",
    "ax.set_xlabel('k')\n",
    "ax.plot(k_values, distortions)\n",
    "ax.grid(True)"
   ]
  },
  {
   "cell_type": "markdown",
   "metadata": {},
   "source": [
    "Next we graph how the silhouette score changes with different values of k."
   ]
  },
  {
   "cell_type": "code",
   "execution_count": 65,
   "metadata": {},
   "outputs": [
    {
     "data": {
      "image/png": "[encoded data removed]",
      "text/plain": [
       "<Figure size 720x576 with 1 Axes>"
      ]
     },
     "metadata": {
      "needs_background": "light"
     },
     "output_type": "display_data"
    }
   ],
   "source": [
    "# Plot Silhouette coefficient\n",
    "fig, ax = plt.subplots(figsize=(10, 8))\n",
    "ax.set_title('Silhouette coefficients over k')\n",
    "ax.set_xlabel('k')\n",
    "ax.set_ylabel('silhouette coefficient')\n",
    "ax.plot(k_values, silhouette_plot)\n",
    "ax.axhline(y=np.mean(silhouette_plot), color=\"red\", linestyle=\"--\")\n",
    "ax.grid(True)"
   ]
  },
  {
   "cell_type": "code",
   "execution_count": 66,
   "metadata": {},
   "outputs": [
    {
     "data": {
      "image/png": "[encoded data removed]",
      "text/plain": [
       "<Figure size 720x576 with 1 Axes>"
      ]
     },
     "metadata": {
      "needs_background": "light"
     },
     "output_type": "display_data"
    }
   ],
   "source": [
    "# Plot CH Score Values\n",
    "fig, ax = plt.subplots(figsize=(10, 8))\n",
    "ax.set_title('Calinski Harabaz Scores')\n",
    "ax.set_xlabel('k')\n",
    "ax.set_ylabel('Variance Ratio')\n",
    "ax.plot(k_values, ch_score)\n",
    "ax.grid(True)"
   ]
  },
  {
   "cell_type": "markdown",
   "metadata": {},
   "source": [
    "A k value of 100 is a good tradeoff between the results of our various scoring metrics.  The CH score is near an inflection point before it begins to trail off.  The silhouette score is close to the average score.  Also, the inertia (which should be minimized) reaches an 'elbow' at k = ~100.  \n",
    "\n",
    "The average silhouette score is negative, so our clusters are likely not well defined, however the results from our clustering may still add useful features to use in the KNN Regression."
   ]
  },
  {
   "cell_type": "code",
   "execution_count": 24,
   "metadata": {},
   "outputs": [
    {
     "name": "stderr",
     "output_type": "stream",
     "text": [
      "/Users/jamesfay/opt/anaconda3/envs/capstone/lib/python3.8/site-packages/sklearn/cluster/_kmeans.py:938: FutureWarning: 'n_jobs' was deprecated in version 0.23 and will be removed in 0.25.\n",
      "  warnings.warn(\"'n_jobs' was deprecated in version 0.23 and will be\"\n"
     ]
    }
   ],
   "source": [
    "#Create best model\n",
    "best_cluster = KMeans(n_clusters=100, random_state=70, n_jobs=-1, algorithm='full')\n",
    "\n",
    "#Fit model.\n",
    "best_cluster_fit = best_cluster.fit(X_train_reduced)\n",
    "\n",
    "#Get labels for use in silhouette score calculations\n",
    "best_cluster_labels = best_cluster_fit.predict(X_train_reduced)\n",
    "\n",
    "sil_scores = silhouette_samples(X_train_reduced, best_cluster_labels)"
   ]
  },
  {
   "cell_type": "code",
   "execution_count": 30,
   "metadata": {},
   "outputs": [
    {
     "data": {
      "text/plain": [
       "(573773,)"
      ]
     },
     "execution_count": 30,
     "metadata": {},
     "output_type": "execute_result"
    }
   ],
   "source": [
    "sil_scores.shape"
   ]
  },
  {
   "cell_type": "code",
   "execution_count": 31,
   "metadata": {},
   "outputs": [
    {
     "data": {
      "text/plain": [
       "(573773,)"
      ]
     },
     "execution_count": 31,
     "metadata": {},
     "output_type": "execute_result"
    }
   ],
   "source": [
    "best_cluster_labels.shape"
   ]
  },
  {
   "cell_type": "code",
   "execution_count": 32,
   "metadata": {},
   "outputs": [
    {
     "data": {
      "text/plain": [
       "['kmeans_100_labels.joblib']"
      ]
     },
     "execution_count": 32,
     "metadata": {},
     "output_type": "execute_result"
    }
   ],
   "source": [
    "#Save the silhouette scores\n",
    "dump(sil_scores, 'sil_scores_kmeans.joblib') \n",
    "\n",
    "#Save the model\n",
    "dump(best_cluster_fit, 'kmeans_100_fit.joblib')\n",
    "\n",
    "#Save the predictions\n",
    "dump(best_cluster_labels, 'kmeans_100_labels.joblib')"
   ]
  },
  {
   "cell_type": "markdown",
   "metadata": {},
   "source": [
    "## Merge New Features with Data"
   ]
  },
  {
   "cell_type": "code",
   "execution_count": 8,
   "metadata": {},
   "outputs": [],
   "source": [
    "sil_scores = load('sil_scores_kmeans.joblib')\n",
    "best_cluster_fit = load('kmeans_100_fit.joblib')\n",
    "best_cluster_labels = load('kmeans_100_labels.joblib')"
   ]
  },
  {
   "cell_type": "markdown",
   "metadata": {},
   "source": [
    "Change clustering results to Pandas Series objects for concatenation with main data set."
   ]
  },
  {
   "cell_type": "code",
   "execution_count": 9,
   "metadata": {},
   "outputs": [
    {
     "data": {
      "text/plain": [
       "(573773,)"
      ]
     },
     "execution_count": 9,
     "metadata": {},
     "output_type": "execute_result"
    }
   ],
   "source": [
    "sil_scores = pd.Series(sil_scores, name='sil_score')\n",
    "sil_scores.shape"
   ]
  },
  {
   "cell_type": "code",
   "execution_count": 10,
   "metadata": {},
   "outputs": [
    {
     "data": {
      "text/plain": [
       "(573773,)"
      ]
     },
     "execution_count": 10,
     "metadata": {},
     "output_type": "execute_result"
    }
   ],
   "source": [
    "best_cluster_labels = pd.Series(best_cluster_labels, name='cluster_label')\n",
    "best_cluster_labels.shape"
   ]
  },
  {
   "cell_type": "code",
   "execution_count": 11,
   "metadata": {},
   "outputs": [],
   "source": [
    "X_train_fe = X_train_ohe.reset_index()\n",
    "X_train_fe.drop('index', axis=1, inplace=True)"
   ]
  },
  {
   "cell_type": "code",
   "execution_count": 12,
   "metadata": {},
   "outputs": [],
   "source": [
    "to_concat = [X_train_fe, sil_scores, best_cluster_labels]\n",
    "X_train_fe = pd.concat(to_concat, axis=1)\n"
   ]
  },
  {
   "cell_type": "code",
   "execution_count": 13,
   "metadata": {},
   "outputs": [
    {
     "data": {
      "text/plain": [
       "(573773, 183)"
      ]
     },
     "execution_count": 13,
     "metadata": {},
     "output_type": "execute_result"
    }
   ],
   "source": [
    "X_train_fe.shape"
   ]
  },
  {
   "cell_type": "code",
   "execution_count": 14,
   "metadata": {},
   "outputs": [
    {
     "data": {
      "text/html": [
       "<div>\n",
       "<style scoped>\n",
       "    .dataframe tbody tr th:only-of-type {\n",
       "        vertical-align: middle;\n",
       "    }\n",
       "\n",
       "    .dataframe tbody tr th {\n",
       "        vertical-align: top;\n",
       "    }\n",
       "\n",
       "    .dataframe thead th {\n",
       "        text-align: right;\n",
       "    }\n",
       "</style>\n",
       "<table border=\"1\" class=\"dataframe\">\n",
       "  <thead>\n",
       "    <tr style=\"text-align: right;\">\n",
       "      <th></th>\n",
       "      <th>device.isMobile</th>\n",
       "      <th>totals.hits</th>\n",
       "      <th>totals.pageviews</th>\n",
       "      <th>totals.sessionQualityDim</th>\n",
       "      <th>totals.timeOnSite</th>\n",
       "      <th>trafficSource.adwordsClickInfo.page</th>\n",
       "      <th>visitNumber</th>\n",
       "      <th>product_price</th>\n",
       "      <th>channelGrouping_(Other)</th>\n",
       "      <th>channelGrouping_Affiliates</th>\n",
       "      <th>...</th>\n",
       "      <th>product_category_Gift Cards</th>\n",
       "      <th>product_category_Lifestyle</th>\n",
       "      <th>product_category_Limited Supply</th>\n",
       "      <th>product_category_None</th>\n",
       "      <th>product_category_Office</th>\n",
       "      <th>product_category_Other</th>\n",
       "      <th>product_category_Shop by Brand</th>\n",
       "      <th>product_category_TYCTWD 2018</th>\n",
       "      <th>sil_score</th>\n",
       "      <th>cluster_label</th>\n",
       "    </tr>\n",
       "  </thead>\n",
       "  <tbody>\n",
       "    <tr>\n",
       "      <th>0</th>\n",
       "      <td>False</td>\n",
       "      <td>9</td>\n",
       "      <td>7</td>\n",
       "      <td>2</td>\n",
       "      <td>101</td>\n",
       "      <td>0.0</td>\n",
       "      <td>1</td>\n",
       "      <td>1.99</td>\n",
       "      <td>0</td>\n",
       "      <td>0</td>\n",
       "      <td>...</td>\n",
       "      <td>0</td>\n",
       "      <td>0</td>\n",
       "      <td>0</td>\n",
       "      <td>0</td>\n",
       "      <td>1</td>\n",
       "      <td>0</td>\n",
       "      <td>0</td>\n",
       "      <td>0</td>\n",
       "      <td>0.058531</td>\n",
       "      <td>96</td>\n",
       "    </tr>\n",
       "    <tr>\n",
       "      <th>1</th>\n",
       "      <td>False</td>\n",
       "      <td>11</td>\n",
       "      <td>7</td>\n",
       "      <td>31</td>\n",
       "      <td>111</td>\n",
       "      <td>0.0</td>\n",
       "      <td>5</td>\n",
       "      <td>74.99</td>\n",
       "      <td>0</td>\n",
       "      <td>0</td>\n",
       "      <td>...</td>\n",
       "      <td>0</td>\n",
       "      <td>0</td>\n",
       "      <td>0</td>\n",
       "      <td>0</td>\n",
       "      <td>0</td>\n",
       "      <td>0</td>\n",
       "      <td>0</td>\n",
       "      <td>0</td>\n",
       "      <td>0.140763</td>\n",
       "      <td>89</td>\n",
       "    </tr>\n",
       "    <tr>\n",
       "      <th>2</th>\n",
       "      <td>False</td>\n",
       "      <td>9</td>\n",
       "      <td>7</td>\n",
       "      <td>-1</td>\n",
       "      <td>115</td>\n",
       "      <td>0.0</td>\n",
       "      <td>2</td>\n",
       "      <td>34.99</td>\n",
       "      <td>0</td>\n",
       "      <td>0</td>\n",
       "      <td>...</td>\n",
       "      <td>0</td>\n",
       "      <td>0</td>\n",
       "      <td>0</td>\n",
       "      <td>0</td>\n",
       "      <td>0</td>\n",
       "      <td>0</td>\n",
       "      <td>0</td>\n",
       "      <td>0</td>\n",
       "      <td>0.110155</td>\n",
       "      <td>89</td>\n",
       "    </tr>\n",
       "    <tr>\n",
       "      <th>3</th>\n",
       "      <td>False</td>\n",
       "      <td>4</td>\n",
       "      <td>4</td>\n",
       "      <td>-1</td>\n",
       "      <td>64</td>\n",
       "      <td>0.0</td>\n",
       "      <td>1</td>\n",
       "      <td>16.99</td>\n",
       "      <td>0</td>\n",
       "      <td>0</td>\n",
       "      <td>...</td>\n",
       "      <td>0</td>\n",
       "      <td>0</td>\n",
       "      <td>0</td>\n",
       "      <td>0</td>\n",
       "      <td>0</td>\n",
       "      <td>0</td>\n",
       "      <td>1</td>\n",
       "      <td>0</td>\n",
       "      <td>0.019855</td>\n",
       "      <td>14</td>\n",
       "    </tr>\n",
       "    <tr>\n",
       "      <th>4</th>\n",
       "      <td>False</td>\n",
       "      <td>48</td>\n",
       "      <td>28</td>\n",
       "      <td>70</td>\n",
       "      <td>228</td>\n",
       "      <td>0.0</td>\n",
       "      <td>33</td>\n",
       "      <td>18.99</td>\n",
       "      <td>0</td>\n",
       "      <td>0</td>\n",
       "      <td>...</td>\n",
       "      <td>0</td>\n",
       "      <td>0</td>\n",
       "      <td>0</td>\n",
       "      <td>0</td>\n",
       "      <td>0</td>\n",
       "      <td>0</td>\n",
       "      <td>0</td>\n",
       "      <td>0</td>\n",
       "      <td>0.143554</td>\n",
       "      <td>63</td>\n",
       "    </tr>\n",
       "  </tbody>\n",
       "</table>\n",
       "<p>5 rows × 183 columns</p>\n",
       "</div>"
      ],
      "text/plain": [
       "   device.isMobile  totals.hits  totals.pageviews  totals.sessionQualityDim  \\\n",
       "0            False            9                 7                         2   \n",
       "1            False           11                 7                        31   \n",
       "2            False            9                 7                        -1   \n",
       "3            False            4                 4                        -1   \n",
       "4            False           48                28                        70   \n",
       "\n",
       "   totals.timeOnSite  trafficSource.adwordsClickInfo.page  visitNumber  \\\n",
       "0                101                                  0.0            1   \n",
       "1                111                                  0.0            5   \n",
       "2                115                                  0.0            2   \n",
       "3                 64                                  0.0            1   \n",
       "4                228                                  0.0           33   \n",
       "\n",
       "   product_price  channelGrouping_(Other)  channelGrouping_Affiliates  ...  \\\n",
       "0           1.99                        0                           0  ...   \n",
       "1          74.99                        0                           0  ...   \n",
       "2          34.99                        0                           0  ...   \n",
       "3          16.99                        0                           0  ...   \n",
       "4          18.99                        0                           0  ...   \n",
       "\n",
       "   product_category_Gift Cards  product_category_Lifestyle  \\\n",
       "0                            0                           0   \n",
       "1                            0                           0   \n",
       "2                            0                           0   \n",
       "3                            0                           0   \n",
       "4                            0                           0   \n",
       "\n",
       "   product_category_Limited Supply  product_category_None  \\\n",
       "0                                0                      0   \n",
       "1                                0                      0   \n",
       "2                                0                      0   \n",
       "3                                0                      0   \n",
       "4                                0                      0   \n",
       "\n",
       "   product_category_Office  product_category_Other  \\\n",
       "0                        1                       0   \n",
       "1                        0                       0   \n",
       "2                        0                       0   \n",
       "3                        0                       0   \n",
       "4                        0                       0   \n",
       "\n",
       "   product_category_Shop by Brand  product_category_TYCTWD 2018  sil_score  \\\n",
       "0                               0                             0   0.058531   \n",
       "1                               0                             0   0.140763   \n",
       "2                               0                             0   0.110155   \n",
       "3                               1                             0   0.019855   \n",
       "4                               0                             0   0.143554   \n",
       "\n",
       "   cluster_label  \n",
       "0             96  \n",
       "1             89  \n",
       "2             89  \n",
       "3             14  \n",
       "4             63  \n",
       "\n",
       "[5 rows x 183 columns]"
      ]
     },
     "execution_count": 14,
     "metadata": {},
     "output_type": "execute_result"
    }
   ],
   "source": [
    "X_train_fe.head()"
   ]
  },
  {
   "cell_type": "code",
   "execution_count": 15,
   "metadata": {},
   "outputs": [
    {
     "name": "stdout",
     "output_type": "stream",
     "text": [
      "<class 'pandas.core.frame.DataFrame'>\n",
      "RangeIndex: 573773 entries, 0 to 573772\n",
      "Columns: 183 entries, device.isMobile to cluster_label\n",
      "dtypes: bool(1), float64(3), int32(1), int64(5), uint8(173)\n",
      "memory usage: 132.4 MB\n"
     ]
    }
   ],
   "source": [
    "X_train_fe.info()"
   ]
  },
  {
   "cell_type": "markdown",
   "metadata": {},
   "source": [
    "The new X_train_fe dataframe now contains columns that communicate the results of the K Means clustering.  This should add additional predictive capability to our model."
   ]
  },
  {
   "cell_type": "markdown",
   "metadata": {},
   "source": [
    "# Tuned Random Forest Model - With New Features"
   ]
  },
  {
   "cell_type": "code",
   "execution_count": 19,
   "metadata": {},
   "outputs": [],
   "source": [
    "#Create pipeline\n",
    "pipe_forest_fe = Pipeline([('scl', StandardScaler()),\n",
    "#             ('pca', PCA(n_components=0.85)),\n",
    "            ('forest', RandomForestRegressor(random_state=70, n_jobs=-1, warm_start=True))])"
   ]
  },
  {
   "cell_type": "code",
   "execution_count": 16,
   "metadata": {},
   "outputs": [],
   "source": [
    "# Create the grid parameter\n",
    "grid_forest_fe = [{'forest__n_estimators': [80, 100, 120], \n",
    "             'forest__max_depth': [15, 20, 25], \n",
    "             'forest__min_samples_split': [20, 25, 30], \n",
    "             'forest__min_samples_leaf': [30, 35, 40],\n",
    "             'forest__criterion': ['mse'],\n",
    "             'forest__max_features': [None]\n",
    "             }]\n",
    "\n",
    "# Create the grid, with \"pipe\" as the estimator\n",
    "gridsearch_forest_fe = RandomizedSearchCV(estimator=pipe_forest_fe, \n",
    "                          param_distributions=grid_forest_fe, \n",
    "                          scoring=['r2', 'neg_root_mean_squared_error'], #Include RMSE in Results\n",
    "                          refit='r2', #Choose best model based on R^2\n",
    "                          return_train_score=True, #Include training results in cv_results\n",
    "                          cv=5, #Use 5 folds in CV process\n",
    "                          n_iter=10, #Try 5 hyperparameter combinations\n",
    "                          n_jobs=-1, #Use paralell computing\n",
    "                          verbose=8) #Give updates on progress during fitting"
   ]
  },
  {
   "cell_type": "code",
   "execution_count": 18,
   "metadata": {},
   "outputs": [],
   "source": [
    "gridsearch_forest_fe.fit(X_train_fe, y_train)"
   ]
  },
  {
   "cell_type": "code",
   "execution_count": 26,
   "metadata": {},
   "outputs": [],
   "source": [
    "gridsearch_forest_fe = load('gridsearch_forest_fe.joblib') "
   ]
  },
  {
   "cell_type": "code",
   "execution_count": 27,
   "metadata": {},
   "outputs": [
    {
     "data": {
      "text/plain": [
       "{'forest__n_estimators': 100,\n",
       " 'forest__min_samples_split': 25,\n",
       " 'forest__min_samples_leaf': 40,\n",
       " 'forest__max_features': None,\n",
       " 'forest__max_depth': 15,\n",
       " 'forest__criterion': 'mse'}"
      ]
     },
     "execution_count": 27,
     "metadata": {},
     "output_type": "execute_result"
    }
   ],
   "source": [
    "gridsearch_forest_fe.best_params_"
   ]
  },
  {
   "cell_type": "code",
   "execution_count": 28,
   "metadata": {},
   "outputs": [
    {
     "data": {
      "text/plain": [
       "0.1525381419123042"
      ]
     },
     "execution_count": 28,
     "metadata": {},
     "output_type": "execute_result"
    }
   ],
   "source": [
    "gridsearch_forest_fe.best_score_"
   ]
  },
  {
   "cell_type": "markdown",
   "metadata": {},
   "source": [
    "We've further tuned our model, and the R-Squared is now greater than our previous best models."
   ]
  },
  {
   "cell_type": "code",
   "execution_count": null,
   "metadata": {},
   "outputs": [],
   "source": [
    "#Save the model\n",
    "dump(gridsearch_forest_fe, 'gridsearch_forest_fe.joblib') "
   ]
  },
  {
   "cell_type": "code",
   "execution_count": 29,
   "metadata": {},
   "outputs": [
    {
     "data": {
      "text/html": [
       "<div>\n",
       "<style scoped>\n",
       "    .dataframe tbody tr th:only-of-type {\n",
       "        vertical-align: middle;\n",
       "    }\n",
       "\n",
       "    .dataframe tbody tr th {\n",
       "        vertical-align: top;\n",
       "    }\n",
       "\n",
       "    .dataframe thead th {\n",
       "        text-align: right;\n",
       "    }\n",
       "</style>\n",
       "<table border=\"1\" class=\"dataframe\">\n",
       "  <thead>\n",
       "    <tr style=\"text-align: right;\">\n",
       "      <th></th>\n",
       "      <th>params</th>\n",
       "      <th>rank_test_r2</th>\n",
       "      <th>mean_test_r2</th>\n",
       "      <th>mean_train_r2</th>\n",
       "      <th>rank_test_neg_root_mean_squared_error</th>\n",
       "      <th>mean_test_neg_root_mean_squared_error</th>\n",
       "      <th>mean_train_neg_root_mean_squared_error</th>\n",
       "    </tr>\n",
       "  </thead>\n",
       "  <tbody>\n",
       "    <tr>\n",
       "      <th>0</th>\n",
       "      <td>{'forest__n_estimators': 100, 'forest__min_sam...</td>\n",
       "      <td>1</td>\n",
       "      <td>0.152538</td>\n",
       "      <td>0.194483</td>\n",
       "      <td>1</td>\n",
       "      <td>-65.405244</td>\n",
       "      <td>-64.440268</td>\n",
       "    </tr>\n",
       "    <tr>\n",
       "      <th>1</th>\n",
       "      <td>{'forest__n_estimators': 80, 'forest__min_samp...</td>\n",
       "      <td>3</td>\n",
       "      <td>0.152106</td>\n",
       "      <td>0.194341</td>\n",
       "      <td>4</td>\n",
       "      <td>-65.426053</td>\n",
       "      <td>-64.445320</td>\n",
       "    </tr>\n",
       "    <tr>\n",
       "      <th>3</th>\n",
       "      <td>{'forest__n_estimators': 120, 'forest__min_sam...</td>\n",
       "      <td>5</td>\n",
       "      <td>0.149472</td>\n",
       "      <td>0.201947</td>\n",
       "      <td>8</td>\n",
       "      <td>-65.471654</td>\n",
       "      <td>-64.141335</td>\n",
       "    </tr>\n",
       "    <tr>\n",
       "      <th>4</th>\n",
       "      <td>{'forest__n_estimators': 120, 'forest__min_sam...</td>\n",
       "      <td>5</td>\n",
       "      <td>0.149472</td>\n",
       "      <td>0.201947</td>\n",
       "      <td>8</td>\n",
       "      <td>-65.471654</td>\n",
       "      <td>-64.141335</td>\n",
       "    </tr>\n",
       "    <tr>\n",
       "      <th>5</th>\n",
       "      <td>{'forest__n_estimators': 100, 'forest__min_sam...</td>\n",
       "      <td>4</td>\n",
       "      <td>0.149533</td>\n",
       "      <td>0.213348</td>\n",
       "      <td>3</td>\n",
       "      <td>-65.425877</td>\n",
       "      <td>-63.677720</td>\n",
       "    </tr>\n",
       "    <tr>\n",
       "      <th>6</th>\n",
       "      <td>{'forest__n_estimators': 80, 'forest__min_samp...</td>\n",
       "      <td>2</td>\n",
       "      <td>0.152137</td>\n",
       "      <td>0.194600</td>\n",
       "      <td>2</td>\n",
       "      <td>-65.424857</td>\n",
       "      <td>-64.434995</td>\n",
       "    </tr>\n",
       "  </tbody>\n",
       "</table>\n",
       "</div>"
      ],
      "text/plain": [
       "                                              params  rank_test_r2  \\\n",
       "0  {'forest__n_estimators': 100, 'forest__min_sam...             1   \n",
       "1  {'forest__n_estimators': 80, 'forest__min_samp...             3   \n",
       "3  {'forest__n_estimators': 120, 'forest__min_sam...             5   \n",
       "4  {'forest__n_estimators': 120, 'forest__min_sam...             5   \n",
       "5  {'forest__n_estimators': 100, 'forest__min_sam...             4   \n",
       "6  {'forest__n_estimators': 80, 'forest__min_samp...             2   \n",
       "\n",
       "   mean_test_r2  mean_train_r2  rank_test_neg_root_mean_squared_error  \\\n",
       "0      0.152538       0.194483                                      1   \n",
       "1      0.152106       0.194341                                      4   \n",
       "3      0.149472       0.201947                                      8   \n",
       "4      0.149472       0.201947                                      8   \n",
       "5      0.149533       0.213348                                      3   \n",
       "6      0.152137       0.194600                                      2   \n",
       "\n",
       "   mean_test_neg_root_mean_squared_error  \\\n",
       "0                             -65.405244   \n",
       "1                             -65.426053   \n",
       "3                             -65.471654   \n",
       "4                             -65.471654   \n",
       "5                             -65.425877   \n",
       "6                             -65.424857   \n",
       "\n",
       "   mean_train_neg_root_mean_squared_error  \n",
       "0                              -64.440268  \n",
       "1                              -64.445320  \n",
       "3                              -64.141335  \n",
       "4                              -64.141335  \n",
       "5                              -63.677720  \n",
       "6                              -64.434995  "
      ]
     },
     "execution_count": 29,
     "metadata": {},
     "output_type": "execute_result"
    }
   ],
   "source": [
    "gridsearch_forest_fe_df = pd.DataFrame.from_dict(gridsearch_forest_fe.cv_results_)\n",
    "best_models_fe = gridsearch_forest_fe_df.loc[gridsearch_forest_fe_df['rank_test_r2'] < 6]\n",
    "best_models_fe[['params', 'rank_test_r2','mean_test_r2', 'mean_train_r2', 'rank_test_neg_root_mean_squared_error','mean_test_neg_root_mean_squared_error', 'mean_train_neg_root_mean_squared_error']]"
   ]
  },
  {
   "cell_type": "markdown",
   "metadata": {},
   "source": [
    "The difference between the training and test results in the above dataframe show that there are still issues with overfitting to the training data.  In future iterations of this project the Forest will be further pruned to reduce the severity of this issue.\n",
    "\n",
    "For now we will continue on using the model with the best results from this gridsearch."
   ]
  },
  {
   "cell_type": "markdown",
   "metadata": {},
   "source": [
    "# Final Model"
   ]
  },
  {
   "cell_type": "markdown",
   "metadata": {},
   "source": [
    "## Cross Validation"
   ]
  },
  {
   "cell_type": "code",
   "execution_count": 48,
   "metadata": {},
   "outputs": [],
   "source": [
    "#Create pipeline\n",
    "pipe_forest_test = Pipeline([('scl', StandardScaler()),\n",
    "            ('foresttest', RandomForestRegressor(random_state=70, n_jobs=-1, warm_start=True, verbose=8))])"
   ]
  },
  {
   "cell_type": "code",
   "execution_count": 49,
   "metadata": {},
   "outputs": [],
   "source": [
    "# Create the grid parameter\n",
    "grid_forest_test = [{'foresttest__n_estimators': [100], \n",
    "             'foresttest__max_depth': [15], \n",
    "             'foresttest__min_samples_split': [25], \n",
    "             'foresttest__min_samples_leaf': [40],\n",
    "             'foresttest__criterion': ['mse'],\n",
    "             'foresttest__max_features': [None]\n",
    "             }]\n",
    "\n",
    "# Create the grid, with \"pipe\" as the estimator\n",
    "gridsearch_forest_test = GridSearchCV(estimator=pipe_forest_test, \n",
    "                          param_grid=grid_forest_test, \n",
    "                          scoring=['r2', 'neg_root_mean_squared_error'], #Include RMSE in Results\n",
    "                          refit='r2', #Choose best model based on R^2\n",
    "                          return_train_score=True, #Include training results in cv_results\n",
    "                          cv=5, #Use 5 folds in CV process\n",
    "                          n_jobs=-1, #Use paralell computing\n",
    "                          verbose=8) #Give updates on progress during fitting"
   ]
  },
  {
   "cell_type": "code",
   "execution_count": 50,
   "metadata": {},
   "outputs": [
    {
     "name": "stdout",
     "output_type": "stream",
     "text": [
      "Fitting 5 folds for each of 1 candidates, totalling 5 fits\n"
     ]
    },
    {
     "name": "stderr",
     "output_type": "stream",
     "text": [
      "[Parallel(n_jobs=-1)]: Using backend LokyBackend with 8 concurrent workers.\n",
      "[Parallel(n_jobs=-1)]: Done   2 out of   5 | elapsed: 22.4min remaining: 33.6min\n",
      "[Parallel(n_jobs=-1)]: Done   3 out of   5 | elapsed: 22.5min remaining: 15.0min\n",
      "[Parallel(n_jobs=-1)]: Done   5 out of   5 | elapsed: 22.5min remaining:    0.0s\n",
      "[Parallel(n_jobs=-1)]: Done   5 out of   5 | elapsed: 22.5min finished\n",
      "[Parallel(n_jobs=-1)]: Using backend ThreadingBackend with 8 concurrent workers.\n"
     ]
    },
    {
     "name": "stdout",
     "output_type": "stream",
     "text": [
      "building tree 1 of 100\n",
      "building tree 2 of 100building tree 3 of 100\n",
      "building tree 4 of 100building tree 5 of 100\n",
      "building tree 6 of 100\n",
      "building tree 7 of 100\n",
      "\n",
      "\n",
      "building tree 8 of 100\n",
      "building tree 9 of 100\n",
      "building tree 10 of 100\n"
     ]
    },
    {
     "name": "stderr",
     "output_type": "stream",
     "text": [
      "[Parallel(n_jobs=-1)]: Done   2 tasks      | elapsed:   26.2s\n"
     ]
    },
    {
     "name": "stdout",
     "output_type": "stream",
     "text": [
      "building tree 11 of 100\n",
      "building tree 12 of 100\n",
      "building tree 13 of 100\n",
      "building tree 14 of 100\n",
      "building tree 15 of 100\n",
      "building tree 16 of 100\n",
      "building tree 17 of 100\n",
      "building tree 18 of 100\n",
      "building tree 19 of 100\n",
      "building tree 20 of 100\n",
      "building tree 21 of 100\n",
      "building tree 22 of 100\n",
      "building tree 23 of 100\n",
      "building tree 24 of 100\n",
      "building tree 25 of 100\n",
      "building tree 26 of 100\n",
      "building tree 27 of 100\n",
      "building tree 28 of 100\n",
      "building tree 29 of 100\n",
      "building tree 30 of 100\n",
      "building tree 31 of 100\n",
      "building tree 32 of 100\n"
     ]
    },
    {
     "name": "stderr",
     "output_type": "stream",
     "text": [
      "[Parallel(n_jobs=-1)]: Done  25 tasks      | elapsed:  1.6min\n"
     ]
    },
    {
     "name": "stdout",
     "output_type": "stream",
     "text": [
      "building tree 33 of 100\n",
      "building tree 34 of 100\n",
      "building tree 35 of 100\n",
      "building tree 36 of 100\n",
      "building tree 37 of 100\n",
      "building tree 38 of 100\n",
      "building tree 39 of 100\n",
      "building tree 40 of 100\n",
      "building tree 41 of 100\n",
      "building tree 42 of 100\n",
      "building tree 43 of 100\n",
      "building tree 44 of 100\n",
      "building tree 45 of 100\n",
      "building tree 46 of 100\n",
      "building tree 47 of 100\n",
      "building tree 48 of 100\n",
      "building tree 49 of 100\n",
      "building tree 50 of 100\n",
      "building tree 51 of 100\n",
      "building tree 52 of 100\n",
      "building tree 53 of 100\n",
      "building tree 54 of 100\n",
      "building tree 55 of 100\n",
      "building tree 56 of 100\n",
      "building tree 57 of 100\n",
      "building tree 58 of 100\n",
      "building tree 59 of 100\n",
      "building tree 60 of 100\n",
      "building tree 61 of 100\n",
      "building tree 62 of 100\n",
      "building tree 63 of 100\n"
     ]
    },
    {
     "name": "stderr",
     "output_type": "stream",
     "text": [
      "[Parallel(n_jobs=-1)]: Done  56 tasks      | elapsed:  3.0min\n"
     ]
    },
    {
     "name": "stdout",
     "output_type": "stream",
     "text": [
      "building tree 64 of 100\n",
      "building tree 65 of 100\n",
      "building tree 66 of 100\n",
      "building tree 67 of 100\n",
      "building tree 68 of 100\n",
      "building tree 69 of 100\n",
      "building tree 70 of 100\n",
      "building tree 71 of 100\n",
      "building tree 72 of 100\n",
      "building tree 73 of 100\n",
      "building tree 74 of 100\n",
      "building tree 75 of 100\n",
      "building tree 76 of 100\n",
      "building tree 77 of 100\n",
      "building tree 78 of 100\n",
      "building tree 79 of 100\n",
      "building tree 80 of 100\n",
      "building tree 81 of 100\n",
      "building tree 82 of 100\n",
      "building tree 83 of 100\n",
      "building tree 84 of 100\n",
      "building tree 85 of 100\n",
      "building tree 86 of 100\n",
      "building tree 87 of 100\n",
      "building tree 88 of 100\n",
      "building tree 89 of 100\n",
      "building tree 90 of 100\n",
      "building tree 91 of 100\n",
      "building tree 92 of 100\n",
      "building tree 93 of 100\n",
      "building tree 94 of 100\n",
      "building tree 95 of 100\n",
      "building tree 96 of 100\n",
      "building tree 97 of 100\n",
      "building tree 98 of 100\n",
      "building tree 99 of 100\n",
      "building tree 100 of 100\n"
     ]
    },
    {
     "name": "stderr",
     "output_type": "stream",
     "text": [
      "[Parallel(n_jobs=-1)]: Done  98 out of 100 | elapsed:  5.8min remaining:    7.1s\n",
      "[Parallel(n_jobs=-1)]: Done 100 out of 100 | elapsed:  5.8min finished\n"
     ]
    },
    {
     "data": {
      "text/plain": [
       "GridSearchCV(cv=5,\n",
       "             estimator=Pipeline(steps=[('scl', StandardScaler()),\n",
       "                                       ('foresttest',\n",
       "                                        RandomForestRegressor(n_jobs=-1,\n",
       "                                                              random_state=70,\n",
       "                                                              verbose=8,\n",
       "                                                              warm_start=True))]),\n",
       "             n_jobs=-1,\n",
       "             param_grid=[{'foresttest__criterion': ['mse'],\n",
       "                          'foresttest__max_depth': [15],\n",
       "                          'foresttest__max_features': [None],\n",
       "                          'foresttest__min_samples_leaf': [40],\n",
       "                          'foresttest__min_samples_split': [25],\n",
       "                          'foresttest__n_estimators': [100]}],\n",
       "             refit='r2', return_train_score=True,\n",
       "             scoring=['r2', 'neg_root_mean_squared_error'], verbose=8)"
      ]
     },
     "execution_count": 50,
     "metadata": {},
     "output_type": "execute_result"
    }
   ],
   "source": [
    "gridsearch_forest_test.fit(X_train_fe, y_train)"
   ]
  },
  {
   "cell_type": "markdown",
   "metadata": {},
   "source": [
    "The R-Squared score has dropped here.  Future iterations on this project will analyze why this occurred and further improve the R-Squared score."
   ]
  },
  {
   "cell_type": "code",
   "execution_count": 51,
   "metadata": {},
   "outputs": [
    {
     "data": {
      "text/plain": [
       "0.08546536292432785"
      ]
     },
     "execution_count": 51,
     "metadata": {},
     "output_type": "execute_result"
    }
   ],
   "source": [
    "gridsearch_forest_test.best_score_"
   ]
  },
  {
   "cell_type": "code",
   "execution_count": 81,
   "metadata": {},
   "outputs": [
    {
     "data": {
      "text/html": [
       "<div>\n",
       "<style scoped>\n",
       "    .dataframe tbody tr th:only-of-type {\n",
       "        vertical-align: middle;\n",
       "    }\n",
       "\n",
       "    .dataframe tbody tr th {\n",
       "        vertical-align: top;\n",
       "    }\n",
       "\n",
       "    .dataframe thead th {\n",
       "        text-align: right;\n",
       "    }\n",
       "</style>\n",
       "<table border=\"1\" class=\"dataframe\">\n",
       "  <thead>\n",
       "    <tr style=\"text-align: right;\">\n",
       "      <th></th>\n",
       "      <th>mean_fit_time</th>\n",
       "      <th>std_fit_time</th>\n",
       "      <th>mean_score_time</th>\n",
       "      <th>std_score_time</th>\n",
       "      <th>param_foresttest__criterion</th>\n",
       "      <th>param_foresttest__max_depth</th>\n",
       "      <th>param_foresttest__max_features</th>\n",
       "      <th>param_foresttest__min_samples_leaf</th>\n",
       "      <th>param_foresttest__min_samples_split</th>\n",
       "      <th>param_foresttest__n_estimators</th>\n",
       "      <th>...</th>\n",
       "      <th>mean_test_neg_root_mean_squared_error</th>\n",
       "      <th>std_test_neg_root_mean_squared_error</th>\n",
       "      <th>rank_test_neg_root_mean_squared_error</th>\n",
       "      <th>split0_train_neg_root_mean_squared_error</th>\n",
       "      <th>split1_train_neg_root_mean_squared_error</th>\n",
       "      <th>split2_train_neg_root_mean_squared_error</th>\n",
       "      <th>split3_train_neg_root_mean_squared_error</th>\n",
       "      <th>split4_train_neg_root_mean_squared_error</th>\n",
       "      <th>mean_train_neg_root_mean_squared_error</th>\n",
       "      <th>std_train_neg_root_mean_squared_error</th>\n",
       "    </tr>\n",
       "  </thead>\n",
       "  <tbody>\n",
       "    <tr>\n",
       "      <th>0</th>\n",
       "      <td>1324.196208</td>\n",
       "      <td>6.696641</td>\n",
       "      <td>4.064031</td>\n",
       "      <td>1.883158</td>\n",
       "      <td>mse</td>\n",
       "      <td>15</td>\n",
       "      <td>None</td>\n",
       "      <td>40</td>\n",
       "      <td>25</td>\n",
       "      <td>100</td>\n",
       "      <td>...</td>\n",
       "      <td>-68.032548</td>\n",
       "      <td>10.317798</td>\n",
       "      <td>1</td>\n",
       "      <td>-62.24609</td>\n",
       "      <td>-67.179614</td>\n",
       "      <td>-68.915883</td>\n",
       "      <td>-67.266093</td>\n",
       "      <td>-69.765796</td>\n",
       "      <td>-67.074695</td>\n",
       "      <td>2.607492</td>\n",
       "    </tr>\n",
       "  </tbody>\n",
       "</table>\n",
       "<p>1 rows × 41 columns</p>\n",
       "</div>"
      ],
      "text/plain": [
       "   mean_fit_time  std_fit_time  mean_score_time  std_score_time  \\\n",
       "0    1324.196208      6.696641         4.064031        1.883158   \n",
       "\n",
       "  param_foresttest__criterion param_foresttest__max_depth  \\\n",
       "0                         mse                          15   \n",
       "\n",
       "  param_foresttest__max_features param_foresttest__min_samples_leaf  \\\n",
       "0                           None                                 40   \n",
       "\n",
       "  param_foresttest__min_samples_split param_foresttest__n_estimators  ...  \\\n",
       "0                                  25                            100  ...   \n",
       "\n",
       "  mean_test_neg_root_mean_squared_error  std_test_neg_root_mean_squared_error  \\\n",
       "0                            -68.032548                             10.317798   \n",
       "\n",
       "   rank_test_neg_root_mean_squared_error  \\\n",
       "0                                      1   \n",
       "\n",
       "   split0_train_neg_root_mean_squared_error  \\\n",
       "0                                 -62.24609   \n",
       "\n",
       "   split1_train_neg_root_mean_squared_error  \\\n",
       "0                                -67.179614   \n",
       "\n",
       "   split2_train_neg_root_mean_squared_error  \\\n",
       "0                                -68.915883   \n",
       "\n",
       "   split3_train_neg_root_mean_squared_error  \\\n",
       "0                                -67.266093   \n",
       "\n",
       "   split4_train_neg_root_mean_squared_error  \\\n",
       "0                                -69.765796   \n",
       "\n",
       "   mean_train_neg_root_mean_squared_error  \\\n",
       "0                              -67.074695   \n",
       "\n",
       "   std_train_neg_root_mean_squared_error  \n",
       "0                               2.607492  \n",
       "\n",
       "[1 rows x 41 columns]"
      ]
     },
     "execution_count": 81,
     "metadata": {},
     "output_type": "execute_result"
    }
   ],
   "source": [
    "pd.DataFrame.from_dict(gridsearch_forest_test.cv_results_)"
   ]
  },
  {
   "cell_type": "markdown",
   "metadata": {},
   "source": [
    "## Model Fitting"
   ]
  },
  {
   "cell_type": "markdown",
   "metadata": {},
   "source": [
    "Now we actually fit the model on our training data using the best parameters from the grid search.  We do not include PCA in the pipeline so that we can extract usable feature importances from the model."
   ]
  },
  {
   "cell_type": "code",
   "execution_count": 16,
   "metadata": {},
   "outputs": [],
   "source": [
    "#Create pipeline\n",
    "pipe_best_forest = Pipeline([('scl', StandardScaler()),\n",
    "            ('forest', RandomForestRegressor(n_estimators = 100,\n",
    "                                             min_samples_split=25,\n",
    "                                             min_samples_leaf=40,\n",
    "                                             max_features=None,\n",
    "                                             max_depth=15,\n",
    "                                             criterion='mse',\n",
    "                                             random_state=70,\n",
    "                                             n_jobs=-1,\n",
    "                                             warm_start=True))])"
   ]
  },
  {
   "cell_type": "code",
   "execution_count": 78,
   "metadata": {},
   "outputs": [
    {
     "name": "stderr",
     "output_type": "stream",
     "text": [
      "/Users/jamesfay/opt/anaconda3/envs/capstone/lib/python3.8/site-packages/sklearn/ensemble/_forest.py:368: UserWarning: Warm-start fitting without increasing n_estimators does not fit new trees.\n",
      "  warn(\"Warm-start fitting without increasing n_estimators does not \"\n"
     ]
    },
    {
     "data": {
      "text/plain": [
       "Pipeline(steps=[('scl', StandardScaler()),\n",
       "                ('forest',\n",
       "                 RandomForestRegressor(max_depth=15, max_features=None,\n",
       "                                       min_samples_leaf=40,\n",
       "                                       min_samples_split=25, n_jobs=-1,\n",
       "                                       random_state=70, warm_start=True))])"
      ]
     },
     "execution_count": 78,
     "metadata": {},
     "output_type": "execute_result"
    }
   ],
   "source": [
    "pipe_best_forest.fit(X_train_fe, y_train)"
   ]
  },
  {
   "cell_type": "code",
   "execution_count": 31,
   "metadata": {},
   "outputs": [
    {
     "data": {
      "text/plain": [
       "['best_forest_mvp.joblib']"
      ]
     },
     "execution_count": 31,
     "metadata": {},
     "output_type": "execute_result"
    }
   ],
   "source": [
    "#Save the model\n",
    "dump(pipe_best_forest, 'best_forest_mvp.joblib') "
   ]
  },
  {
   "cell_type": "code",
   "execution_count": 31,
   "metadata": {},
   "outputs": [],
   "source": [
    "# pipe_best_forest = load('best_forest_mvp.joblib')"
   ]
  },
  {
   "cell_type": "markdown",
   "metadata": {},
   "source": [
    "## Examine Most Important Features"
   ]
  },
  {
   "cell_type": "markdown",
   "metadata": {},
   "source": [
    "Using the results of the final random forest model, we can see the most important features in predicting revenue.  Further analysis is available in the Results_Analysis.ipynb notebook, or in the Presentation.pdf"
   ]
  },
  {
   "cell_type": "code",
   "execution_count": 32,
   "metadata": {},
   "outputs": [],
   "source": [
    "importances = pd.Series(pipe_best_forest['forest'].feature_importances_, name='importance')"
   ]
  },
  {
   "cell_type": "code",
   "execution_count": 33,
   "metadata": {},
   "outputs": [],
   "source": [
    "feature = pd.Series(list(X_train_fe.columns), name='feature')"
   ]
  },
  {
   "cell_type": "code",
   "execution_count": 34,
   "metadata": {},
   "outputs": [
    {
     "data": {
      "text/plain": [
       "['../Data/top_features.joblib']"
      ]
     },
     "execution_count": 34,
     "metadata": {},
     "output_type": "execute_result"
    }
   ],
   "source": [
    "feature_importances = pd.concat([feature, importances], axis=1)\n",
    "top_features = feature_importances.sort_values(by='importance', ascending=False).head(20)\n",
    "dump(top_features, '../Data/top_features.joblib')"
   ]
  },
  {
   "cell_type": "code",
   "execution_count": 35,
   "metadata": {},
   "outputs": [
    {
     "data": {
      "text/html": [
       "<div>\n",
       "<style scoped>\n",
       "    .dataframe tbody tr th:only-of-type {\n",
       "        vertical-align: middle;\n",
       "    }\n",
       "\n",
       "    .dataframe tbody tr th {\n",
       "        vertical-align: top;\n",
       "    }\n",
       "\n",
       "    .dataframe thead th {\n",
       "        text-align: right;\n",
       "    }\n",
       "</style>\n",
       "<table border=\"1\" class=\"dataframe\">\n",
       "  <thead>\n",
       "    <tr style=\"text-align: right;\">\n",
       "      <th></th>\n",
       "      <th>feature</th>\n",
       "      <th>importance</th>\n",
       "    </tr>\n",
       "  </thead>\n",
       "  <tbody>\n",
       "    <tr>\n",
       "      <th>6</th>\n",
       "      <td>visitNumber</td>\n",
       "      <td>0.344964</td>\n",
       "    </tr>\n",
       "    <tr>\n",
       "      <th>2</th>\n",
       "      <td>totals.pageviews</td>\n",
       "      <td>0.225344</td>\n",
       "    </tr>\n",
       "    <tr>\n",
       "      <th>182</th>\n",
       "      <td>cluster_label</td>\n",
       "      <td>0.074352</td>\n",
       "    </tr>\n",
       "    <tr>\n",
       "      <th>181</th>\n",
       "      <td>sil_score</td>\n",
       "      <td>0.059625</td>\n",
       "    </tr>\n",
       "    <tr>\n",
       "      <th>1</th>\n",
       "      <td>totals.hits</td>\n",
       "      <td>0.053662</td>\n",
       "    </tr>\n",
       "    <tr>\n",
       "      <th>10</th>\n",
       "      <td>channelGrouping_Direct</td>\n",
       "      <td>0.040644</td>\n",
       "    </tr>\n",
       "    <tr>\n",
       "      <th>3</th>\n",
       "      <td>totals.sessionQualityDim</td>\n",
       "      <td>0.038069</td>\n",
       "    </tr>\n",
       "    <tr>\n",
       "      <th>4</th>\n",
       "      <td>totals.timeOnSite</td>\n",
       "      <td>0.029292</td>\n",
       "    </tr>\n",
       "    <tr>\n",
       "      <th>7</th>\n",
       "      <td>product_price</td>\n",
       "      <td>0.029018</td>\n",
       "    </tr>\n",
       "    <tr>\n",
       "      <th>45</th>\n",
       "      <td>geoNetwork.networkDomain_comcastbusiness.net</td>\n",
       "      <td>0.016827</td>\n",
       "    </tr>\n",
       "    <tr>\n",
       "      <th>168</th>\n",
       "      <td>product_category_Apparel</td>\n",
       "      <td>0.015837</td>\n",
       "    </tr>\n",
       "    <tr>\n",
       "      <th>31</th>\n",
       "      <td>device.operatingSystem_Chrome OS</td>\n",
       "      <td>0.011745</td>\n",
       "    </tr>\n",
       "    <tr>\n",
       "      <th>177</th>\n",
       "      <td>product_category_Office</td>\n",
       "      <td>0.011432</td>\n",
       "    </tr>\n",
       "    <tr>\n",
       "      <th>33</th>\n",
       "      <td>device.operatingSystem_Macintosh</td>\n",
       "      <td>0.007111</td>\n",
       "    </tr>\n",
       "    <tr>\n",
       "      <th>176</th>\n",
       "      <td>product_category_None</td>\n",
       "      <td>0.005842</td>\n",
       "    </tr>\n",
       "    <tr>\n",
       "      <th>69</th>\n",
       "      <td>time_of_day_Afternoon</td>\n",
       "      <td>0.005382</td>\n",
       "    </tr>\n",
       "    <tr>\n",
       "      <th>37</th>\n",
       "      <td>geoNetwork.networkDomain_None</td>\n",
       "      <td>0.004326</td>\n",
       "    </tr>\n",
       "    <tr>\n",
       "      <th>71</th>\n",
       "      <td>time_of_day_Evening</td>\n",
       "      <td>0.003214</td>\n",
       "    </tr>\n",
       "    <tr>\n",
       "      <th>171</th>\n",
       "      <td>product_category_Drinkware</td>\n",
       "      <td>0.002142</td>\n",
       "    </tr>\n",
       "    <tr>\n",
       "      <th>141</th>\n",
       "      <td>trafficSource.referralPath_None</td>\n",
       "      <td>0.002087</td>\n",
       "    </tr>\n",
       "  </tbody>\n",
       "</table>\n",
       "</div>"
      ],
      "text/plain": [
       "                                          feature  importance\n",
       "6                                     visitNumber    0.344964\n",
       "2                                totals.pageviews    0.225344\n",
       "182                                 cluster_label    0.074352\n",
       "181                                     sil_score    0.059625\n",
       "1                                     totals.hits    0.053662\n",
       "10                         channelGrouping_Direct    0.040644\n",
       "3                        totals.sessionQualityDim    0.038069\n",
       "4                               totals.timeOnSite    0.029292\n",
       "7                                   product_price    0.029018\n",
       "45   geoNetwork.networkDomain_comcastbusiness.net    0.016827\n",
       "168                      product_category_Apparel    0.015837\n",
       "31               device.operatingSystem_Chrome OS    0.011745\n",
       "177                       product_category_Office    0.011432\n",
       "33               device.operatingSystem_Macintosh    0.007111\n",
       "176                         product_category_None    0.005842\n",
       "69                          time_of_day_Afternoon    0.005382\n",
       "37                  geoNetwork.networkDomain_None    0.004326\n",
       "71                            time_of_day_Evening    0.003214\n",
       "171                    product_category_Drinkware    0.002142\n",
       "141               trafficSource.referralPath_None    0.002087"
      ]
     },
     "execution_count": 35,
     "metadata": {},
     "output_type": "execute_result"
    }
   ],
   "source": [
    "top_features"
   ]
  },
  {
   "cell_type": "markdown",
   "metadata": {},
   "source": [
    "## Model Evaluation"
   ]
  },
  {
   "cell_type": "markdown",
   "metadata": {},
   "source": [
    "First we must apply our manipulation and feature engineering to the test data in order to get it into the proper formatting."
   ]
  },
  {
   "cell_type": "code",
   "execution_count": 62,
   "metadata": {},
   "outputs": [],
   "source": [
    "X_test_ohe = pd.get_dummies(X_test)\n",
    "\n",
    "pipe_reduce = Pipeline([('scl', StandardScaler()),\n",
    "            ('pca', PCA(n_components=0.755, random_state=70))])\n",
    "\n",
    "X_test_reduced = pipe_reduce.fit_transform(X_test_ohe)"
   ]
  },
  {
   "cell_type": "code",
   "execution_count": 63,
   "metadata": {},
   "outputs": [],
   "source": [
    "test_cluster_labels = best_cluster_fit.predict(X_test_reduced)"
   ]
  },
  {
   "cell_type": "code",
   "execution_count": 64,
   "metadata": {},
   "outputs": [],
   "source": [
    "test_sil_scores = silhouette_samples(X_test_reduced, test_cluster_labels)"
   ]
  },
  {
   "cell_type": "code",
   "execution_count": 65,
   "metadata": {},
   "outputs": [
    {
     "data": {
      "text/plain": [
       "(143444,)"
      ]
     },
     "execution_count": 65,
     "metadata": {},
     "output_type": "execute_result"
    }
   ],
   "source": [
    "test_sil_scores = pd.Series(test_sil_scores, name='sil_score')\n",
    "test_sil_scores.shape"
   ]
  },
  {
   "cell_type": "code",
   "execution_count": 66,
   "metadata": {},
   "outputs": [
    {
     "data": {
      "text/plain": [
       "(143444,)"
      ]
     },
     "execution_count": 66,
     "metadata": {},
     "output_type": "execute_result"
    }
   ],
   "source": [
    "test_cluster_labels = pd.Series(test_cluster_labels, name='cluster_label')\n",
    "test_cluster_labels.shape"
   ]
  },
  {
   "cell_type": "code",
   "execution_count": 67,
   "metadata": {},
   "outputs": [],
   "source": [
    "X_test_fe = X_test_ohe.reset_index()\n",
    "X_test_fe.drop('index', axis=1, inplace=True)"
   ]
  },
  {
   "cell_type": "code",
   "execution_count": 68,
   "metadata": {},
   "outputs": [],
   "source": [
    "to_concat = [X_test_fe, test_sil_scores, test_cluster_labels]\n",
    "X_test_fe = pd.concat(to_concat, axis=1)"
   ]
  },
  {
   "cell_type": "markdown",
   "metadata": {},
   "source": [
    "One column is missing from the test data."
   ]
  },
  {
   "cell_type": "code",
   "execution_count": 73,
   "metadata": {},
   "outputs": [
    {
     "data": {
      "text/plain": [
       "['trafficSource.adwordsClickInfo.adNetworkType_Search partners']"
      ]
     },
     "execution_count": 73,
     "metadata": {},
     "output_type": "execute_result"
    }
   ],
   "source": [
    "missing_cols = []\n",
    "for column in X_train_fe.columns:\n",
    "    if column not in X_test_fe.columns:\n",
    "        missing_cols.append(column)\n",
    "missing_cols"
   ]
  },
  {
   "cell_type": "markdown",
   "metadata": {},
   "source": [
    "Add the missing column to the test data with all values of 0."
   ]
  },
  {
   "cell_type": "code",
   "execution_count": 74,
   "metadata": {},
   "outputs": [],
   "source": [
    "X_test_fe['trafficSource.adwordsClickInfo.adNetworkType_Search partners'] = 0"
   ]
  },
  {
   "cell_type": "markdown",
   "metadata": {},
   "source": [
    "Check that there are no columns in the test data that aren't in the training data."
   ]
  },
  {
   "cell_type": "code",
   "execution_count": 77,
   "metadata": {},
   "outputs": [
    {
     "data": {
      "text/plain": [
       "[]"
      ]
     },
     "execution_count": 77,
     "metadata": {},
     "output_type": "execute_result"
    }
   ],
   "source": [
    "missing_cols2 = []\n",
    "for column in X_test_fe.columns:\n",
    "    if column not in X_train_fe.columns:\n",
    "        missing_cols2.append(column)\n",
    "missing_cols2"
   ]
  },
  {
   "cell_type": "markdown",
   "metadata": {},
   "source": [
    "Now the test data is in the proper format to score our model."
   ]
  },
  {
   "cell_type": "code",
   "execution_count": 79,
   "metadata": {},
   "outputs": [
    {
     "data": {
      "text/plain": [
       "0.008493949032797543"
      ]
     },
     "execution_count": 79,
     "metadata": {},
     "output_type": "execute_result"
    }
   ],
   "source": [
    "pipe_best_forest.score(X_test_fe, y_test)"
   ]
  },
  {
   "cell_type": "markdown",
   "metadata": {},
   "source": [
    "This indicates severe issues with overfitting in our best model.  This shows that the model is not ready for deployment, as it does not handle unseen/new data well at all.\n",
    "\n",
    "The model will be improved further in future iterations of this project."
   ]
  }
 ],
 "metadata": {
  "kernelspec": {
   "display_name": "capstone",
   "language": "python",
   "name": "capstone"
  },
  "language_info": {
   "codemirror_mode": {
    "name": "ipython",
    "version": 3
   },
   "file_extension": ".py",
   "mimetype": "text/x-python",
   "name": "python",
   "nbconvert_exporter": "python",
   "pygments_lexer": "ipython3",
   "version": "3.8.5"
  }
 },
 "nbformat": 4,
 "nbformat_minor": 4
}
